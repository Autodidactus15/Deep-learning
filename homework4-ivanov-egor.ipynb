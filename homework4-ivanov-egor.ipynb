{
 "cells": [
  {
   "cell_type": "markdown",
   "metadata": {
    "id": "N0MMALtdLU6F"
   },
   "source": [
    "<center>\n",
    "<img src=\"https://raw.githubusercontent.com/dvgodoy/PyTorch101_ODSC_Europe2020/master/images/linear_dogs.jpg\" width=\"800\">\n",
    "\n",
    "# Основы глубинного обучения: домашнее задание 4\n",
    "</center>"
   ]
  },
  {
   "cell_type": "markdown",
   "metadata": {
    "id": "Lp2Uf8PGM_zP"
   },
   "source": [
    "**ФИО:** Иванов Егор\n",
    "\n",
    "**Забавный факт о себе:** С детства свободно говорю на французском языке, но ни разу не был во Франции\n"
   ]
  },
  {
   "cell_type": "markdown",
   "metadata": {
    "id": "W2LjTioKM_zP"
   },
   "source": [
    "## Общая информация\n",
    "\n",
    "__Дата выдачи:__ 26.11.2024\n",
    "\n",
    "__Мягкий дедлайн:__ 23:59MSK 10.12.2024\n",
    "\n",
    "__Жесткий дедлайн:__ 23:59MSK 13.12.2024"
   ]
  },
  {
   "cell_type": "markdown",
   "metadata": {
    "id": "pGGDD519LWaa"
   },
   "source": [
    "## Оценивание и штрафы\n",
    "\n",
    "Каждая из задач имеет определенную «стоимость» (указана в скобках около задачи). Максимально допустимая оценка за работу — 10 баллов + 2 бонусных балла.\n",
    "\n",
    "**Дисклеймер:** Задание выполняется самостоятельно. «Похожие» решения считаются плагиатом и все задействованные студенты (в том числе те, у кого списали) не могут получить за него больше 0 баллов. Если вы нашли решение какого-то из заданий (или его часть) в открытом источнике, необходимо указать ссылку на этот источник (скорее всего вы будете не единственным, кто это нашел, поэтому чтобы исключить подозрение в плагиате, необходима ссылка на источник). Также помните, что простое копирование чужого кода не является самостоятельной работой."
   ]
  },
  {
   "cell_type": "code",
   "execution_count": 1,
   "metadata": {
    "execution": {
     "iopub.execute_input": "2024-12-14T13:10:59.863032Z",
     "iopub.status.busy": "2024-12-14T13:10:59.862675Z",
     "iopub.status.idle": "2024-12-14T13:11:01.032919Z",
     "shell.execute_reply": "2024-12-14T13:11:01.032212Z",
     "shell.execute_reply.started": "2024-12-14T13:10:59.862987Z"
    },
    "id": "e88B7C_7M_zQ"
   },
   "outputs": [],
   "source": [
    "import pandas as pd\n",
    "import numpy as np\n",
    "\n",
    "import matplotlib.pyplot as plt\n",
    "import seaborn as sns\n",
    "\n",
    "from tqdm.notebook import tqdm"
   ]
  },
  {
   "cell_type": "code",
   "execution_count": 2,
   "metadata": {
    "colab": {
     "base_uri": "https://localhost:8080/"
    },
    "execution": {
     "iopub.execute_input": "2024-12-14T13:11:01.034455Z",
     "iopub.status.busy": "2024-12-14T13:11:01.034076Z",
     "iopub.status.idle": "2024-12-14T13:11:06.955185Z",
     "shell.execute_reply": "2024-12-14T13:11:06.954268Z",
     "shell.execute_reply.started": "2024-12-14T13:11:01.034392Z"
    },
    "id": "nqB7HlFIM_zR",
    "outputId": "7c96af10-5910-4b34-ed0b-72c1df7b5803"
   },
   "outputs": [
    {
     "data": {
      "text/plain": [
       "device(type='cuda', index=0)"
      ]
     },
     "execution_count": 2,
     "metadata": {},
     "output_type": "execute_result"
    }
   ],
   "source": [
    "import torch\n",
    "device = torch.device('cuda:0' if torch.cuda.is_available() else 'cpu')\n",
    "device"
   ]
  },
  {
   "cell_type": "markdown",
   "metadata": {
    "id": "GkjGmtWoM_zR"
   },
   "source": [
    "# Описание данных\n",
    "\n",
    "Данные можно [скачать с гугл-диска.](https://drive.google.com/drive/folders/11oCcLplWtp_qm-WuEbfCFP_Mz5K_z3ps?usp=sharing) Если вы делаете задание в колабе, то строчки ниже сами скачают вам данные.\n",
    "\n"
   ]
  },
  {
   "cell_type": "code",
   "execution_count": 3,
   "metadata": {
    "colab": {
     "base_uri": "https://localhost:8080/"
    },
    "execution": {
     "iopub.execute_input": "2024-12-13T23:54:24.091781Z",
     "iopub.status.busy": "2024-12-13T23:54:24.091235Z",
     "iopub.status.idle": "2024-12-13T23:54:24.096356Z",
     "shell.execute_reply": "2024-12-13T23:54:24.095280Z",
     "shell.execute_reply.started": "2024-12-13T23:54:24.091739Z"
    },
    "id": "e78uct9mO6ik",
    "outputId": "6ce2c30f-cd22-4c6e-ff37-90d99d5b3c82"
   },
   "outputs": [],
   "source": [
    "#import gdown\n",
    "\n",
    "#url = \"https://drive.google.com/drive/folders/11oCcLplWtp_qm-WuEbfCFP_Mz5K_z3ps?usp=sharing\"\n",
    "#gdown.download_folder(url, quiet=True, use_cookies=False)"
   ]
  },
  {
   "cell_type": "markdown",
   "metadata": {
    "id": "fNAzGcglM_zS"
   },
   "source": [
    "В таблице `ria_news.tsv`  лежат данные о новостях, вышедших на сайте РИА-НОВОСТИ с 15 марта 2018 года по 31 декабря 2018 года.\n",
    "\n",
    "- `href` - уникальный идентификатор новости (ссылка на неё)\n",
    "- `date` - дата публикации новости\n",
    "- `time` - время публикации новости\n",
    "- `title` - заголовок новости\n",
    "- `snippet` - краткое описание новости\n",
    "- `text` - текст новости\n",
    "- `category` - категория новости\n",
    "- `keywords` - ключевые слова (подкатегории новости)\n",
    "- `shows` - счётчик с числом просмотров новости на сайте (на момент парсинга)"
   ]
  },
  {
   "cell_type": "code",
   "execution_count": 3,
   "metadata": {
    "colab": {
     "base_uri": "https://localhost:8080/",
     "height": 450
    },
    "execution": {
     "iopub.execute_input": "2024-12-14T13:11:06.957674Z",
     "iopub.status.busy": "2024-12-14T13:11:06.956833Z",
     "iopub.status.idle": "2024-12-14T13:11:30.701617Z",
     "shell.execute_reply": "2024-12-14T13:11:30.700627Z",
     "shell.execute_reply.started": "2024-12-14T13:11:06.957630Z"
    },
    "id": "U0-iSeRLM_zS",
    "outputId": "8eb3197b-d587-4ee9-f824-b19165342a57"
   },
   "outputs": [
    {
     "name": "stdout",
     "output_type": "stream",
     "text": [
      "(201708, 9)\n"
     ]
    },
    {
     "data": {
      "text/html": [
       "<div>\n",
       "<style scoped>\n",
       "    .dataframe tbody tr th:only-of-type {\n",
       "        vertical-align: middle;\n",
       "    }\n",
       "\n",
       "    .dataframe tbody tr th {\n",
       "        vertical-align: top;\n",
       "    }\n",
       "\n",
       "    .dataframe thead th {\n",
       "        text-align: right;\n",
       "    }\n",
       "</style>\n",
       "<table border=\"1\" class=\"dataframe\">\n",
       "  <thead>\n",
       "    <tr style=\"text-align: right;\">\n",
       "      <th></th>\n",
       "      <th>href</th>\n",
       "      <th>date</th>\n",
       "      <th>time</th>\n",
       "      <th>title</th>\n",
       "      <th>snippet</th>\n",
       "      <th>text</th>\n",
       "      <th>category</th>\n",
       "      <th>tags</th>\n",
       "      <th>shows</th>\n",
       "    </tr>\n",
       "  </thead>\n",
       "  <tbody>\n",
       "    <tr>\n",
       "      <th>0</th>\n",
       "      <td>/20181231/1548961410.html</td>\n",
       "      <td>2018-12-31</td>\n",
       "      <td>31 декабря 2018, 23:52</td>\n",
       "      <td>Нетаньяху не собирается в отставку в случае пр...</td>\n",
       "      <td>Премьер-министр Израиля Биньямин Нетаньяху не ...</td>\n",
       "      <td>МОСКВА, 31 дек - РИА Новости. Премьер-министр ...</td>\n",
       "      <td>В мире</td>\n",
       "      <td>Биньямин Нетаньяху, Израиль, В мире</td>\n",
       "      <td>728.0</td>\n",
       "    </tr>\n",
       "    <tr>\n",
       "      <th>1</th>\n",
       "      <td>/20181231/1548961364.html</td>\n",
       "      <td>2018-12-31</td>\n",
       "      <td>31 декабря 2018, 23:19</td>\n",
       "      <td>Макрон в новогоднем обращении затронул тему ре...</td>\n",
       "      <td>Результат реформ не может быть мгновенным, зая...</td>\n",
       "      <td>ПАРИЖ, 31 дек – РИА Новости. Результат реформ ...</td>\n",
       "      <td>В мире</td>\n",
       "      <td>Эммануэль Макрон, Франция, В мире</td>\n",
       "      <td>3086.0</td>\n",
       "    </tr>\n",
       "    <tr>\n",
       "      <th>2</th>\n",
       "      <td>/20181231/1548961337.html</td>\n",
       "      <td>2018-12-31</td>\n",
       "      <td>31 декабря 2018, 23:12</td>\n",
       "      <td>Аарон Рэмзи проведет переговоры с пятью топ-кл...</td>\n",
       "      <td>Полузащитник лондонского \"Арсенала\" Аарон Рэмз...</td>\n",
       "      <td>МОСКВА, 31 дек - РИА Новости. Полузащитник лон...</td>\n",
       "      <td>NaN</td>\n",
       "      <td>ФК Арсенал (Лондон)</td>\n",
       "      <td>183.0</td>\n",
       "    </tr>\n",
       "    <tr>\n",
       "      <th>3</th>\n",
       "      <td>/20181231/1548961304.html</td>\n",
       "      <td>2018-12-31</td>\n",
       "      <td>31 декабря 2018, 23:09</td>\n",
       "      <td>Гол Азмуна принес сборной Ирана победу над кат...</td>\n",
       "      <td>Футболисты сборной Ирана одержали победу над к...</td>\n",
       "      <td>МОСКВА, 31 дек - РИА Новости. Футболисты сборн...</td>\n",
       "      <td>NaN</td>\n",
       "      <td>Сердар Азмун, Сборная Ирана по футболу</td>\n",
       "      <td>78.0</td>\n",
       "    </tr>\n",
       "    <tr>\n",
       "      <th>4</th>\n",
       "      <td>/20181231/1548961265.html</td>\n",
       "      <td>2018-12-31</td>\n",
       "      <td>31 декабря 2018, 23:07</td>\n",
       "      <td>Пятая ракетка мира дель Потро пропустит Открыт...</td>\n",
       "      <td>Аргентинский теннисист Хуан Мартин дель Потро ...</td>\n",
       "      <td>МОСКВА, 31 дек - РИА Новости. Аргентинский тен...</td>\n",
       "      <td>NaN</td>\n",
       "      <td>Теннис</td>\n",
       "      <td>79.0</td>\n",
       "    </tr>\n",
       "  </tbody>\n",
       "</table>\n",
       "</div>"
      ],
      "text/plain": [
       "                        href        date                    time  \\\n",
       "0  /20181231/1548961410.html  2018-12-31  31 декабря 2018, 23:52   \n",
       "1  /20181231/1548961364.html  2018-12-31  31 декабря 2018, 23:19   \n",
       "2  /20181231/1548961337.html  2018-12-31  31 декабря 2018, 23:12   \n",
       "3  /20181231/1548961304.html  2018-12-31  31 декабря 2018, 23:09   \n",
       "4  /20181231/1548961265.html  2018-12-31  31 декабря 2018, 23:07   \n",
       "\n",
       "                                               title  \\\n",
       "0  Нетаньяху не собирается в отставку в случае пр...   \n",
       "1  Макрон в новогоднем обращении затронул тему ре...   \n",
       "2  Аарон Рэмзи проведет переговоры с пятью топ-кл...   \n",
       "3  Гол Азмуна принес сборной Ирана победу над кат...   \n",
       "4  Пятая ракетка мира дель Потро пропустит Открыт...   \n",
       "\n",
       "                                             snippet  \\\n",
       "0  Премьер-министр Израиля Биньямин Нетаньяху не ...   \n",
       "1  Результат реформ не может быть мгновенным, зая...   \n",
       "2  Полузащитник лондонского \"Арсенала\" Аарон Рэмз...   \n",
       "3  Футболисты сборной Ирана одержали победу над к...   \n",
       "4  Аргентинский теннисист Хуан Мартин дель Потро ...   \n",
       "\n",
       "                                                text category  \\\n",
       "0  МОСКВА, 31 дек - РИА Новости. Премьер-министр ...   В мире   \n",
       "1  ПАРИЖ, 31 дек – РИА Новости. Результат реформ ...   В мире   \n",
       "2  МОСКВА, 31 дек - РИА Новости. Полузащитник лон...      NaN   \n",
       "3  МОСКВА, 31 дек - РИА Новости. Футболисты сборн...      NaN   \n",
       "4  МОСКВА, 31 дек - РИА Новости. Аргентинский тен...      NaN   \n",
       "\n",
       "                                     tags   shows  \n",
       "0     Биньямин Нетаньяху, Израиль, В мире   728.0  \n",
       "1       Эммануэль Макрон, Франция, В мире  3086.0  \n",
       "2                     ФК Арсенал (Лондон)   183.0  \n",
       "3  Сердар Азмун, Сборная Ирана по футболу    78.0  \n",
       "4                                  Теннис    79.0  "
      ]
     },
     "execution_count": 3,
     "metadata": {},
     "output_type": "execute_result"
    }
   ],
   "source": [
    "df_ria = pd.read_csv('/kaggle/input/news-data/ria_news.tsv', sep='\\t')\n",
    "df_ria = df_ria[~df_ria.tags.isnull()]\n",
    "print(df_ria.shape)\n",
    "df_ria.head()"
   ]
  },
  {
   "cell_type": "markdown",
   "metadata": {
    "id": "smOrAVujM_zS"
   },
   "source": [
    "Многие новостные агенства поддерживают странички в социальных сетях. Они постят туда самые сочные сюжеты. В таблице `vk_news.tsv` лежат данные о новостях, которые РИА запостили ВКонтакте в период времени с  `2017-09-29 01:28:55` по `2019-02-01 23:13:17`.\n",
    "\n",
    "- `id` - уникальный идентификатор поста\n",
    "- `href` - ссылка на сайт (если она была указана в посте)\n",
    "- `datetime` - дата и время публикации новости\n",
    "- `title` - заголовок новости\n",
    "- `text` - текст новости в социальной сети\n",
    "- `likes` - число лайков под постом\n",
    "- `comments` - число комментариев под постом"
   ]
  },
  {
   "cell_type": "code",
   "execution_count": 4,
   "metadata": {
    "colab": {
     "base_uri": "https://localhost:8080/",
     "height": 225
    },
    "execution": {
     "iopub.execute_input": "2024-12-14T13:11:30.702984Z",
     "iopub.status.busy": "2024-12-14T13:11:30.702701Z",
     "iopub.status.idle": "2024-12-14T13:11:30.932857Z",
     "shell.execute_reply": "2024-12-14T13:11:30.931879Z",
     "shell.execute_reply.started": "2024-12-14T13:11:30.702957Z"
    },
    "id": "FFZHXKukM_zS",
    "outputId": "7da23095-710b-49c4-fa8c-f73a1294d4c7"
   },
   "outputs": [
    {
     "name": "stdout",
     "output_type": "stream",
     "text": [
      "(19928, 7)\n"
     ]
    }
   ],
   "source": [
    "df_vk = pd.read_csv('/kaggle/input/news-data/vk_news.tsv', sep='\\t')\n",
    "df_vk['snippet'] = df_vk['text']\n",
    "df_vk.drop('text', axis=1, inplace=True)\n",
    "print(df_vk.shape)\n"
   ]
  },
  {
   "cell_type": "markdown",
   "metadata": {
    "id": "HFaQtcOVM_zT"
   },
   "source": [
    "В таблице `vk_comments.tsv` лежат комментарии к новостям.\n",
    "\n",
    "- `id` - уникальный идентификатор комментария\n",
    "- `post_id` - идентификатор новости, под которой был оставлен комментарий\n",
    "- `datetime` - дата и время, когда был оставлен комментарий\n",
    "- `text` - текст комментария\n",
    "- `likes` - число лайков под комментарием"
   ]
  },
  {
   "cell_type": "code",
   "execution_count": 5,
   "metadata": {
    "colab": {
     "base_uri": "https://localhost:8080/",
     "height": 262
    },
    "execution": {
     "iopub.execute_input": "2024-12-14T13:11:30.934937Z",
     "iopub.status.busy": "2024-12-14T13:11:30.934518Z",
     "iopub.status.idle": "2024-12-14T13:11:51.837241Z",
     "shell.execute_reply": "2024-12-14T13:11:51.836384Z",
     "shell.execute_reply.started": "2024-12-14T13:11:30.934904Z"
    },
    "id": "HBJvrG6wM_zT",
    "outputId": "c7b02288-fa2d-4e9d-a7bc-803b0404b71f"
   },
   "outputs": [
    {
     "name": "stderr",
     "output_type": "stream",
     "text": [
      "/tmp/ipykernel_23/922644187.py:1: DtypeWarning: Columns (0) have mixed types. Specify dtype option on import or set low_memory=False.\n",
      "  df_comments = pd.read_csv('/kaggle/input/news-data/vk_comments.tsv', sep='\\t')\n"
     ]
    },
    {
     "name": "stdout",
     "output_type": "stream",
     "text": [
      "(2612629, 5)\n"
     ]
    },
    {
     "data": {
      "text/html": [
       "<div>\n",
       "<style scoped>\n",
       "    .dataframe tbody tr th:only-of-type {\n",
       "        vertical-align: middle;\n",
       "    }\n",
       "\n",
       "    .dataframe tbody tr th {\n",
       "        vertical-align: top;\n",
       "    }\n",
       "\n",
       "    .dataframe thead th {\n",
       "        text-align: right;\n",
       "    }\n",
       "</style>\n",
       "<table border=\"1\" class=\"dataframe\">\n",
       "  <thead>\n",
       "    <tr style=\"text-align: right;\">\n",
       "      <th></th>\n",
       "      <th>id</th>\n",
       "      <th>post_id</th>\n",
       "      <th>datetime</th>\n",
       "      <th>text</th>\n",
       "      <th>likes</th>\n",
       "    </tr>\n",
       "  </thead>\n",
       "  <tbody>\n",
       "    <tr>\n",
       "      <th>0</th>\n",
       "      <td>24006366.0</td>\n",
       "      <td>24006362.0</td>\n",
       "      <td>2019-02-01 23:14:14</td>\n",
       "      <td>ЧВК Вагнера?</td>\n",
       "      <td>5.0</td>\n",
       "    </tr>\n",
       "    <tr>\n",
       "      <th>1</th>\n",
       "      <td>24006370.0</td>\n",
       "      <td>24006362.0</td>\n",
       "      <td>2019-02-01 23:15:23</td>\n",
       "      <td>[id4710641|Евгений], выздоравливай.</td>\n",
       "      <td>3.0</td>\n",
       "    </tr>\n",
       "    <tr>\n",
       "      <th>2</th>\n",
       "      <td>24006371.0</td>\n",
       "      <td>24006362.0</td>\n",
       "      <td>2019-02-01 23:16:21</td>\n",
       "      <td>[id442655034|Андрей], искренне желаю этого все...</td>\n",
       "      <td>4.0</td>\n",
       "    </tr>\n",
       "    <tr>\n",
       "      <th>3</th>\n",
       "      <td>24006374.0</td>\n",
       "      <td>24006362.0</td>\n",
       "      <td>2019-02-01 23:16:38</td>\n",
       "      <td>Опять про Украину новости?</td>\n",
       "      <td>1.0</td>\n",
       "    </tr>\n",
       "    <tr>\n",
       "      <th>4</th>\n",
       "      <td>24006375.0</td>\n",
       "      <td>24006362.0</td>\n",
       "      <td>2019-02-01 23:16:40</td>\n",
       "      <td>Че такое ДНР?</td>\n",
       "      <td>2.0</td>\n",
       "    </tr>\n",
       "  </tbody>\n",
       "</table>\n",
       "</div>"
      ],
      "text/plain": [
       "           id     post_id             datetime  \\\n",
       "0  24006366.0  24006362.0  2019-02-01 23:14:14   \n",
       "1  24006370.0  24006362.0  2019-02-01 23:15:23   \n",
       "2  24006371.0  24006362.0  2019-02-01 23:16:21   \n",
       "3  24006374.0  24006362.0  2019-02-01 23:16:38   \n",
       "4  24006375.0  24006362.0  2019-02-01 23:16:40   \n",
       "\n",
       "                                                text  likes  \n",
       "0                                       ЧВК Вагнера?    5.0  \n",
       "1                [id4710641|Евгений], выздоравливай.    3.0  \n",
       "2  [id442655034|Андрей], искренне желаю этого все...    4.0  \n",
       "3                         Опять про Украину новости?    1.0  \n",
       "4                                      Че такое ДНР?    2.0  "
      ]
     },
     "execution_count": 5,
     "metadata": {},
     "output_type": "execute_result"
    }
   ],
   "source": [
    "df_comments = pd.read_csv('/kaggle/input/news-data/vk_comments.tsv', sep='\\t')\n",
    "df_comments = df_comments[~df_comments.text.isnull()]\n",
    "print(df_comments.shape)\n",
    "df_comments.head()"
   ]
  },
  {
   "cell_type": "markdown",
   "metadata": {
    "id": "58hpgVLvM_zT"
   },
   "source": [
    "# А что надо сделать то?\n",
    "\n",
    "В тетрадке вам предстоит сделать следующие шаги:\n",
    "\n",
    "1. Обучить нейросеть предсказывать категорию новости\n",
    "2. Построить предсказания для тех новостей, где мы ничего не знаем о категории\n",
    "3. Использовать уже обученный для сентимент-анализа классификатор из библиотеки `hugging face` чтобы предсказать эмоциональную окраску каждого комментария\n",
    "4. Провести аналитику по новостям, а именно построите топы из самых позитивных и негативных категорий и новостей\n",
    "\n",
    "Для первого шага вам будет дан бэйзлайн. Если вы его прогоните, у вас получится базовая модель, которая даст некоторое качество решения задачи. Вам надо будет выяснить, насколько это качество оказалось хорошим, а затем внести в код некоторые улучшения.\n",
    "\n"
   ]
  },
  {
   "cell_type": "markdown",
   "metadata": {
    "id": "hdb5XYa_M_zT"
   },
   "source": [
    "## Часть 1: категоризация новостей (5 баллов + 1.8 бонусных)\n",
    "\n",
    "Каждой новости в соотвествие поставлены ключевые слова. Будем считать, что эти ключевые слова — тематики новости. Нужно научиться предсказывать тематики по тексту новости. Готовые тематики у нас есть только по новостям с сайта. Они за 2018 год. По новостям из ВКонтакте у нас тематик нет. Мы собираемся их предсказать.\n",
    "\n",
    "Новости, опубликованные ВКонтакте, отличаются от новостей с сайта тем, что у них есть только титул и короткое описание. Странно будет обучать нейросеть на длинных текстах, а потом использовать её на коротких описаниях. Мы не будем так делать. Мы попробуем обучить базовый вариант нейронной сети только на заголовках новостей. Все, кто захочет получить бонусные баллы, смогут попробовать добавить в нейросеть сниппеты (так назыают короткие описания новостей)."
   ]
  },
  {
   "cell_type": "markdown",
   "metadata": {
    "id": "NmGxSLP-M_zT"
   },
   "source": [
    "## 1.1 Подготовка таргета\n",
    "\n",
    "Поработаем с таргетом. Мы будем предсказывать переменную `tags`. Давайте выясним скоько уникальных тегов существует."
   ]
  },
  {
   "cell_type": "code",
   "execution_count": 6,
   "metadata": {
    "colab": {
     "base_uri": "https://localhost:8080/"
    },
    "execution": {
     "iopub.execute_input": "2024-12-14T13:11:51.838602Z",
     "iopub.status.busy": "2024-12-14T13:11:51.838327Z",
     "iopub.status.idle": "2024-12-14T13:11:52.485226Z",
     "shell.execute_reply": "2024-12-14T13:11:52.484395Z",
     "shell.execute_reply.started": "2024-12-14T13:11:51.838576Z"
    },
    "id": "NZDxrSvkM_zT",
    "outputId": "f943777c-de05-437d-9cb0-27c24cb8b2f6"
   },
   "outputs": [
    {
     "name": "stdout",
     "output_type": "stream",
     "text": [
      "13344\n"
     ]
    },
    {
     "data": {
      "text/plain": [
       "[('россия', 55065),\n",
       " ('в мире', 50623),\n",
       " ('спорт', 31739),\n",
       " ('футбол', 18573),\n",
       " ('общество', 18497),\n",
       " ('происшествия', 18292),\n",
       " ('сша', 16884),\n",
       " ('экономика', 13857),\n",
       " ('украина', 11334),\n",
       " ('москва', 10980),\n",
       " ('политика', 8175),\n",
       " ('война в сирии', 7137),\n",
       " ('сирия', 6987),\n",
       " ('новости - недвижимость', 6789),\n",
       " ('владимир путин', 6558),\n",
       " ('хоккей', 6450),\n",
       " ('чемпионат мира по футболу 2018', 5492),\n",
       " ('риа наука', 4790),\n",
       " ('радио sputnik', 4620),\n",
       " ('великобритания', 4210)]"
      ]
     },
     "execution_count": 6,
     "metadata": {},
     "output_type": "execute_result"
    }
   ],
   "source": [
    "from collections import Counter\n",
    "\n",
    "# удалим все лишние пробелы и сделаем lowercase\n",
    "df_ria['tags'] = (\n",
    "    df_ria.tags.\n",
    "    apply(lambda w: ','.join([item.strip() for item in  w.lower().split(',')]))\n",
    ")\n",
    "\n",
    "tags = ','.join(list(df_ria.tags.values))\n",
    "tags_cnt = Counter(tags.split(','))\n",
    "\n",
    "print(len(tags_cnt))\n",
    "tags_cnt.most_common()[:20]"
   ]
  },
  {
   "cell_type": "markdown",
   "metadata": {
    "id": "5Wv68z36M_zT"
   },
   "source": [
    "Всего в выборке есть порядка 13 000 тэгов. Многие встречаются всего по разу. Давайте оставим в выборке только те тэги, которые встречаются более 30 раз."
   ]
  },
  {
   "cell_type": "code",
   "execution_count": 7,
   "metadata": {
    "colab": {
     "base_uri": "https://localhost:8080/"
    },
    "execution": {
     "iopub.execute_input": "2024-12-14T13:11:52.486600Z",
     "iopub.status.busy": "2024-12-14T13:11:52.486305Z",
     "iopub.status.idle": "2024-12-14T13:11:52.497157Z",
     "shell.execute_reply": "2024-12-14T13:11:52.496432Z",
     "shell.execute_reply.started": "2024-12-14T13:11:52.486573Z"
    },
    "id": "eA6H34iKM_zU",
    "outputId": "f5b55784-1052-455a-e961-a0fa85bd3932"
   },
   "outputs": [
    {
     "data": {
      "text/plain": [
       "1583"
      ]
     },
     "execution_count": 7,
     "metadata": {},
     "output_type": "execute_result"
    }
   ],
   "source": [
    "target_tags = {tag for tag,cnt in tags_cnt.most_common() if cnt > 30}\n",
    "len(target_tags)"
   ]
  },
  {
   "cell_type": "code",
   "execution_count": 8,
   "metadata": {
    "execution": {
     "iopub.execute_input": "2024-12-14T13:11:52.498425Z",
     "iopub.status.busy": "2024-12-14T13:11:52.498164Z",
     "iopub.status.idle": "2024-12-14T13:11:52.513039Z",
     "shell.execute_reply": "2024-12-14T13:11:52.512207Z",
     "shell.execute_reply.started": "2024-12-14T13:11:52.498378Z"
    }
   },
   "outputs": [
    {
     "data": {
      "text/plain": [
       "set"
      ]
     },
     "execution_count": 8,
     "metadata": {},
     "output_type": "execute_result"
    }
   ],
   "source": [
    "type(target_tags)\n"
   ]
  },
  {
   "cell_type": "markdown",
   "metadata": {
    "id": "RLrQSyCDM_zU"
   },
   "source": [
    "Закодируем теги для OHE."
   ]
  },
  {
   "cell_type": "code",
   "execution_count": 9,
   "metadata": {
    "execution": {
     "iopub.execute_input": "2024-12-14T13:11:52.514438Z",
     "iopub.status.busy": "2024-12-14T13:11:52.514008Z",
     "iopub.status.idle": "2024-12-14T13:11:52.525121Z",
     "shell.execute_reply": "2024-12-14T13:11:52.524474Z",
     "shell.execute_reply.started": "2024-12-14T13:11:52.514382Z"
    },
    "id": "J2fKnLmTM_zU"
   },
   "outputs": [],
   "source": [
    "tag2idx = dict(zip(target_tags, range(len(target_tags))))\n",
    "idx2tag = {jtem: item for item,jtem in tag2idx.items()}"
   ]
  },
  {
   "cell_type": "code",
   "execution_count": 10,
   "metadata": {
    "execution": {
     "iopub.execute_input": "2024-12-14T13:11:52.527755Z",
     "iopub.status.busy": "2024-12-14T13:11:52.527535Z",
     "iopub.status.idle": "2024-12-14T13:11:52.536225Z",
     "shell.execute_reply": "2024-12-14T13:11:52.535468Z",
     "shell.execute_reply.started": "2024-12-14T13:11:52.527733Z"
    }
   },
   "outputs": [
    {
     "name": "stdout",
     "output_type": "stream",
     "text": [
      "[('андрей чибис', 0), ('барселона', 1), ('товарищеский матч сборной россии по футболу против команды бразилии', 2), ('химическая промышленность', 3), ('wbc', 4), ('совет национальной безопасности и обороны украины', 5), ('виктор медведчук', 6), ('минздрав', 7), ('31 марта - 1 апреля', 8), ('вертолеты россии', 9), ('тюмень', 10), ('rt', 11), ('сергей кирьяков', 12), ('александр яковенко', 13), ('антон силуанов', 14), ('серебряное волонтерство - школа волонтера', 15), ('владимир джабаров', 16), ('цик рф', 17), ('покушение на президента венесуэлы', 18), ('рфс', 19)]\n"
     ]
    }
   ],
   "source": [
    "print(list(tag2idx.items())[:20:])"
   ]
  },
  {
   "cell_type": "markdown",
   "metadata": {
    "id": "8QDNftQqM_zU"
   },
   "source": [
    "Почистим таргет от лишних тэгов."
   ]
  },
  {
   "cell_type": "code",
   "execution_count": 11,
   "metadata": {
    "colab": {
     "base_uri": "https://localhost:8080/"
    },
    "execution": {
     "iopub.execute_input": "2024-12-14T13:11:52.537503Z",
     "iopub.status.busy": "2024-12-14T13:11:52.537225Z",
     "iopub.status.idle": "2024-12-14T13:11:53.134273Z",
     "shell.execute_reply": "2024-12-14T13:11:53.133388Z",
     "shell.execute_reply.started": "2024-12-14T13:11:52.537478Z"
    },
    "id": "9pqA60YiM_zU",
    "outputId": "af3ccfd7-ae21-43fd-ac89-926cc4b36867"
   },
   "outputs": [
    {
     "data": {
      "text/plain": [
       "(201437, 10)"
      ]
     },
     "execution_count": 11,
     "metadata": {},
     "output_type": "execute_result"
    }
   ],
   "source": [
    "df_ria['target_tags'] = (\n",
    "    df_ria.tags.\n",
    "    apply(lambda w: [tag2idx.get(item) for item in  w.split(',') if item in target_tags])\n",
    ")\n",
    "\n",
    "df_ria = df_ria[df_ria.target_tags.apply(len) > 0]\n",
    "df_ria.shape"
   ]
  },
  {
   "cell_type": "code",
   "execution_count": 12,
   "metadata": {
    "execution": {
     "iopub.execute_input": "2024-12-14T13:11:53.135723Z",
     "iopub.status.busy": "2024-12-14T13:11:53.135461Z",
     "iopub.status.idle": "2024-12-14T13:11:53.142840Z",
     "shell.execute_reply": "2024-12-14T13:11:53.141998Z",
     "shell.execute_reply.started": "2024-12-14T13:11:53.135697Z"
    }
   },
   "outputs": [
    {
     "data": {
      "text/plain": [
       "0     [602, 991, 204]\n",
       "1    [114, 1122, 204]\n",
       "4              [1271]\n",
       "5          [276, 204]\n",
       "6         [1398, 883]\n",
       "Name: target_tags, dtype: object"
      ]
     },
     "execution_count": 12,
     "metadata": {},
     "output_type": "execute_result"
    }
   ],
   "source": [
    "df_ria.target_tags.head()"
   ]
  },
  {
   "cell_type": "code",
   "execution_count": 13,
   "metadata": {
    "colab": {
     "base_uri": "https://localhost:8080/"
    },
    "execution": {
     "iopub.execute_input": "2024-12-14T13:11:53.144174Z",
     "iopub.status.busy": "2024-12-14T13:11:53.143906Z",
     "iopub.status.idle": "2024-12-14T13:11:53.157124Z",
     "shell.execute_reply": "2024-12-14T13:11:53.156377Z",
     "shell.execute_reply.started": "2024-12-14T13:11:53.144149Z"
    },
    "id": "y0KaYfuQM_zU",
    "outputId": "a8ddc5b6-ffeb-4697-feb8-2a4f011e05b2"
   },
   "outputs": [
    {
     "data": {
      "text/plain": [
       "array([list([602, 991, 204]), list([114, 1122, 204]), list([1271])],\n",
       "      dtype=object)"
      ]
     },
     "execution_count": 13,
     "metadata": {},
     "output_type": "execute_result"
    }
   ],
   "source": [
    "df_ria.target_tags.values[:3]"
   ]
  },
  {
   "cell_type": "markdown",
   "metadata": {
    "id": "Y-hjLFKRM_zU"
   },
   "source": [
    "## 1.2 Подготовка текстов\n",
    "\n",
    "Теперь займёмся предобработкой текстов. Приведём все слова к нижнему регистру и выбросим мусорные символы. В качестве токенов будем рассматривать отдельные слова.\n",
    "\n",
    "Напомню, что мы пока что решили работать только с названиями статей. Поэтому вся предобработка применяется исключительно к ним. **Спойлер:** предобработку для сниппетов вы сделаете сами в первом же задании."
   ]
  },
  {
   "cell_type": "code",
   "execution_count": 14,
   "metadata": {
    "colab": {
     "base_uri": "https://localhost:8080/"
    },
    "execution": {
     "iopub.execute_input": "2024-12-14T13:11:53.158249Z",
     "iopub.status.busy": "2024-12-14T13:11:53.158007Z",
     "iopub.status.idle": "2024-12-14T13:11:54.819737Z",
     "shell.execute_reply": "2024-12-14T13:11:54.818843Z",
     "shell.execute_reply.started": "2024-12-14T13:11:53.158224Z"
    },
    "id": "DUEWRZWTQsHy",
    "outputId": "2fe04954-273e-441e-e29d-d689166692a8"
   },
   "outputs": [
    {
     "name": "stdout",
     "output_type": "stream",
     "text": [
      "[nltk_data] Downloading package punkt to /usr/share/nltk_data...\n",
      "[nltk_data]   Package punkt is already up-to-date!\n",
      "[nltk_data] Downloading package punkt_tab to /usr/share/nltk_data...\n",
      "[nltk_data]   Unzipping tokenizers/punkt_tab.zip.\n",
      "[nltk_data] Downloading package stopwords to /usr/share/nltk_data...\n",
      "[nltk_data]   Package stopwords is already up-to-date!\n"
     ]
    },
    {
     "data": {
      "text/plain": [
       "True"
      ]
     },
     "execution_count": 14,
     "metadata": {},
     "output_type": "execute_result"
    }
   ],
   "source": [
    "import nltk\n",
    "nltk.download('punkt')\n",
    "nltk.download('punkt_tab')\n",
    "nltk.download('stopwords')"
   ]
  },
  {
   "cell_type": "code",
   "execution_count": 15,
   "metadata": {
    "colab": {
     "base_uri": "https://localhost:8080/"
    },
    "execution": {
     "iopub.execute_input": "2024-12-14T13:11:54.821464Z",
     "iopub.status.busy": "2024-12-14T13:11:54.821084Z",
     "iopub.status.idle": "2024-12-14T13:12:02.828081Z",
     "shell.execute_reply": "2024-12-14T13:12:02.827193Z",
     "shell.execute_reply.started": "2024-12-14T13:11:54.821398Z"
    },
    "id": "bLHWjtkoM_zU",
    "outputId": "b31d890c-e3bc-4be5-e285-372503938fda"
   },
   "outputs": [
    {
     "data": {
      "text/plain": [
       "112178"
      ]
     },
     "execution_count": 15,
     "metadata": {},
     "output_type": "execute_result"
    }
   ],
   "source": [
    "import re\n",
    "from nltk.tokenize import word_tokenize\n",
    "\n",
    "def normalise_text(text):\n",
    "    if not text == '#UNKN': \n",
    "        text = text.lower()\n",
    "        # сурово регулярками выкидываем мусорные символы\n",
    "        text = re.sub('[^а-яa-z0-9 ]', '', text)\n",
    "        return text.strip()\n",
    "    else:\n",
    "        return text\n",
    "\n",
    "df_ria['title_clean'] = df_ria.title.apply(normalise_text)\n",
    "\n",
    "word_cnt = Counter(word_tokenize(' '.join(df_ria.title_clean.values)))\n",
    "len(word_cnt)"
   ]
  },
  {
   "cell_type": "code",
   "execution_count": 16,
   "metadata": {
    "colab": {
     "base_uri": "https://localhost:8080/"
    },
    "execution": {
     "iopub.execute_input": "2024-12-14T13:12:02.829355Z",
     "iopub.status.busy": "2024-12-14T13:12:02.829083Z",
     "iopub.status.idle": "2024-12-14T13:12:02.868356Z",
     "shell.execute_reply": "2024-12-14T13:12:02.867438Z",
     "shell.execute_reply.started": "2024-12-14T13:12:02.829331Z"
    },
    "id": "-OGzgIx-M_zV",
    "outputId": "6da55448-8b6f-4370-d3ae-abcc52db7f0d"
   },
   "outputs": [
    {
     "data": {
      "text/plain": [
       "[('в', 127323),\n",
       " ('на', 44386),\n",
       " ('с', 26150),\n",
       " ('и', 21771),\n",
       " ('о', 19948),\n",
       " ('по', 17014),\n",
       " ('россии', 13494),\n",
       " ('не', 13483),\n",
       " ('сша', 9942),\n",
       " ('за', 9881)]"
      ]
     },
     "execution_count": 16,
     "metadata": {},
     "output_type": "execute_result"
    }
   ],
   "source": [
    "word_cnt.most_common()[:10]"
   ]
  },
  {
   "cell_type": "markdown",
   "metadata": {
    "id": "ydRq2i-fM_zV"
   },
   "source": [
    "Давайте почистим словарь от стоп-слов и подготовим его к использованию внутри датасета. Мы будем с помощью словаря заменять слова на индексы. Добавим в словарь несколько специальных токенов для неизвестных слов и паддингов."
   ]
  },
  {
   "cell_type": "code",
   "execution_count": 17,
   "metadata": {
    "colab": {
     "base_uri": "https://localhost:8080/"
    },
    "execution": {
     "iopub.execute_input": "2024-12-14T13:12:02.869830Z",
     "iopub.status.busy": "2024-12-14T13:12:02.869558Z",
     "iopub.status.idle": "2024-12-14T13:12:02.882997Z",
     "shell.execute_reply": "2024-12-14T13:12:02.882218Z",
     "shell.execute_reply.started": "2024-12-14T13:12:02.869804Z"
    },
    "id": "7W5X3hM2M_zV",
    "outputId": "2c1a7490-7ee6-4829-8b60-2b2a118ab172"
   },
   "outputs": [
    {
     "data": {
      "text/plain": [
       "151"
      ]
     },
     "execution_count": 17,
     "metadata": {},
     "output_type": "execute_result"
    }
   ],
   "source": [
    "from nltk.corpus import stopwords\n",
    "\n",
    "stops_ru = set(stopwords.words('russian'))\n",
    "len(stops_ru)"
   ]
  },
  {
   "cell_type": "code",
   "execution_count": 18,
   "metadata": {
    "execution": {
     "iopub.execute_input": "2024-12-14T13:12:02.884628Z",
     "iopub.status.busy": "2024-12-14T13:12:02.884081Z",
     "iopub.status.idle": "2024-12-14T13:12:02.970544Z",
     "shell.execute_reply": "2024-12-14T13:12:02.969618Z",
     "shell.execute_reply.started": "2024-12-14T13:12:02.884600Z"
    },
    "id": "0h0Eq-fkM_zV"
   },
   "outputs": [],
   "source": [
    "vocabulary = {\n",
    "    \"#PAD#\": 0, \"#UNK#\": 1\n",
    "}\n",
    "\n",
    "k = 2\n",
    "for word, _ in word_cnt.most_common():\n",
    "    if word not in stops_ru:\n",
    "        vocabulary[word] = k\n",
    "        k += 1"
   ]
  },
  {
   "cell_type": "code",
   "execution_count": 19,
   "metadata": {
    "colab": {
     "base_uri": "https://localhost:8080/"
    },
    "execution": {
     "iopub.execute_input": "2024-12-14T13:12:02.972150Z",
     "iopub.status.busy": "2024-12-14T13:12:02.971800Z",
     "iopub.status.idle": "2024-12-14T13:12:02.978107Z",
     "shell.execute_reply": "2024-12-14T13:12:02.977196Z",
     "shell.execute_reply.started": "2024-12-14T13:12:02.972112Z"
    },
    "id": "xL0VgZT6M_zV",
    "outputId": "a124eeb5-4af3-4eca-c47f-346e96359a09"
   },
   "outputs": [
    {
     "data": {
      "text/plain": [
       "112030"
      ]
     },
     "execution_count": 19,
     "metadata": {},
     "output_type": "execute_result"
    }
   ],
   "source": [
    "len(vocabulary)"
   ]
  },
  {
   "cell_type": "markdown",
   "metadata": {
    "id": "U9NQcllLM_zV"
   },
   "source": [
    "Завернём код для создания словаря в функцию."
   ]
  },
  {
   "cell_type": "code",
   "execution_count": 20,
   "metadata": {
    "execution": {
     "iopub.execute_input": "2024-12-14T13:12:02.979229Z",
     "iopub.status.busy": "2024-12-14T13:12:02.978993Z",
     "iopub.status.idle": "2024-12-14T13:12:02.988235Z",
     "shell.execute_reply": "2024-12-14T13:12:02.987396Z",
     "shell.execute_reply.started": "2024-12-14T13:12:02.979206Z"
    },
    "id": "VAMLLbXxM_zV"
   },
   "outputs": [],
   "source": [
    "def create_vocab(text, stops_ru=stops_ru):\n",
    "\n",
    "    word_cnt = Counter(word_tokenize(text))\n",
    "    vocabulary = {\n",
    "        \"#PAD#\": 0, \"#UNK#\": 1\n",
    "    }\n",
    "\n",
    "    k = 2\n",
    "    for word, _ in word_cnt.most_common():\n",
    "        if word not in stops_ru:\n",
    "            vocabulary[word] = k\n",
    "            k += 1\n",
    "    return vocabulary"
   ]
  },
  {
   "cell_type": "markdown",
   "metadata": {
    "id": "lnYJT9BXM_zV"
   },
   "source": [
    "__[0.5 балла] Задание 1:__\n",
    "\n",
    "- Cделайте аналогичную предобработку титулов из таблички `df_vk`. Запишите получившийся результат в столбец `title_clean` по аналогии с таблицей `df_ria`.\n",
    "- Сделайте для обеих таблиц предобработку колонок со сниппетами `snippet` и запишите получившийся результат в столбец `snippet_clean`. Все пропуски заполните токеном `\"#UNKN\"`."
   ]
  },
  {
   "cell_type": "code",
   "execution_count": 21,
   "metadata": {
    "execution": {
     "iopub.execute_input": "2024-12-14T13:12:02.989483Z",
     "iopub.status.busy": "2024-12-14T13:12:02.989212Z",
     "iopub.status.idle": "2024-12-14T13:12:03.064595Z",
     "shell.execute_reply": "2024-12-14T13:12:03.063754Z",
     "shell.execute_reply.started": "2024-12-14T13:12:02.989458Z"
    },
    "id": "FTlZA9amM_zV"
   },
   "outputs": [],
   "source": [
    "# Удаляем пробелы и делаем lowercase\n",
    "df_vk['title'] = (df_vk.title.apply(lambda w: w.lower().strip()))\n",
    "df_vk[\"title_clean\"] = (df_vk.title.apply(normalise_text))"
   ]
  },
  {
   "cell_type": "code",
   "execution_count": 22,
   "metadata": {
    "execution": {
     "iopub.execute_input": "2024-12-14T13:12:03.065822Z",
     "iopub.status.busy": "2024-12-14T13:12:03.065570Z",
     "iopub.status.idle": "2024-12-14T13:12:03.072228Z",
     "shell.execute_reply": "2024-12-14T13:12:03.071337Z",
     "shell.execute_reply.started": "2024-12-14T13:12:03.065797Z"
    }
   },
   "outputs": [
    {
     "data": {
      "text/plain": [
       "0    в днр заявили о задержании диверсантов причаст...\n",
       "1    житель урала заминировал тц изза снятия  сотов...\n",
       "2          в черном море нашли потерянный флот гитлера\n",
       "3    в сша освободили задержанную российскую актрис...\n",
       "4    толкнувший скабееву депутат рады заявил о гроз...\n",
       "Name: title_clean, dtype: object"
      ]
     },
     "execution_count": 22,
     "metadata": {},
     "output_type": "execute_result"
    }
   ],
   "source": [
    "df_vk.title_clean.head()"
   ]
  },
  {
   "cell_type": "code",
   "execution_count": 23,
   "metadata": {
    "execution": {
     "iopub.execute_input": "2024-12-14T13:12:03.073665Z",
     "iopub.status.busy": "2024-12-14T13:12:03.073324Z",
     "iopub.status.idle": "2024-12-14T13:12:03.096215Z",
     "shell.execute_reply": "2024-12-14T13:12:03.095453Z",
     "shell.execute_reply.started": "2024-12-14T13:12:03.073628Z"
    }
   },
   "outputs": [
    {
     "name": "stderr",
     "output_type": "stream",
     "text": [
      "/tmp/ipykernel_23/2036753490.py:1: FutureWarning: A value is trying to be set on a copy of a DataFrame or Series through chained assignment using an inplace method.\n",
      "The behavior will change in pandas 3.0. This inplace method will never work because the intermediate object on which we are setting values always behaves as a copy.\n",
      "\n",
      "For example, when doing 'df[col].method(value, inplace=True)', try using 'df.method({col: value}, inplace=True)' or df[col] = df[col].method(value) instead, to perform the operation inplace on the original object.\n",
      "\n",
      "\n",
      "  df_vk.snippet.fillna(\"#UNKN\", inplace = True)\n"
     ]
    },
    {
     "data": {
      "text/html": [
       "<div>\n",
       "<style scoped>\n",
       "    .dataframe tbody tr th:only-of-type {\n",
       "        vertical-align: middle;\n",
       "    }\n",
       "\n",
       "    .dataframe tbody tr th {\n",
       "        vertical-align: top;\n",
       "    }\n",
       "\n",
       "    .dataframe thead th {\n",
       "        text-align: right;\n",
       "    }\n",
       "</style>\n",
       "<table border=\"1\" class=\"dataframe\">\n",
       "  <thead>\n",
       "    <tr style=\"text-align: right;\">\n",
       "      <th></th>\n",
       "      <th>id</th>\n",
       "      <th>href</th>\n",
       "      <th>datetime</th>\n",
       "      <th>title</th>\n",
       "      <th>likes</th>\n",
       "      <th>comments</th>\n",
       "      <th>snippet</th>\n",
       "      <th>title_clean</th>\n",
       "    </tr>\n",
       "  </thead>\n",
       "  <tbody>\n",
       "    <tr>\n",
       "      <th>0</th>\n",
       "      <td>24006362</td>\n",
       "      <td>/20190201/1550280358.html</td>\n",
       "      <td>2019-02-01 23:13:17</td>\n",
       "      <td>в днр заявили о задержании диверсантов, причас...</td>\n",
       "      <td>15</td>\n",
       "      <td>28</td>\n",
       "      <td>#UNKN</td>\n",
       "      <td>в днр заявили о задержании диверсантов причаст...</td>\n",
       "    </tr>\n",
       "    <tr>\n",
       "      <th>1</th>\n",
       "      <td>24006240</td>\n",
       "      <td>/20190201/1550268781.html</td>\n",
       "      <td>2019-02-01 22:38:41</td>\n",
       "      <td>житель урала \"заминировал\" тц из-за снятия  со...</td>\n",
       "      <td>32</td>\n",
       "      <td>42</td>\n",
       "      <td>#UNKN</td>\n",
       "      <td>житель урала заминировал тц изза снятия  сотов...</td>\n",
       "    </tr>\n",
       "    <tr>\n",
       "      <th>2</th>\n",
       "      <td>24006100</td>\n",
       "      <td>/20190201/1550282212.html</td>\n",
       "      <td>2019-02-01 21:58:52</td>\n",
       "      <td>в черном море нашли \"потерянный флот гитлера\"</td>\n",
       "      <td>84</td>\n",
       "      <td>23</td>\n",
       "      <td>#UNKN</td>\n",
       "      <td>в черном море нашли потерянный флот гитлера</td>\n",
       "    </tr>\n",
       "    <tr>\n",
       "      <th>3</th>\n",
       "      <td>24005972</td>\n",
       "      <td>/20190202/1550283179.html</td>\n",
       "      <td>2019-02-01 21:27:06</td>\n",
       "      <td>в сша освободили задержанную российскую актрис...</td>\n",
       "      <td>58</td>\n",
       "      <td>35</td>\n",
       "      <td>#UNKN</td>\n",
       "      <td>в сша освободили задержанную российскую актрис...</td>\n",
       "    </tr>\n",
       "    <tr>\n",
       "      <th>4</th>\n",
       "      <td>24005764</td>\n",
       "      <td>/20190201/1550262848.html</td>\n",
       "      <td>2019-02-01 20:55:54</td>\n",
       "      <td>толкнувший скабееву депутат рады заявил о гроз...</td>\n",
       "      <td>45</td>\n",
       "      <td>145</td>\n",
       "      <td>#UNKN</td>\n",
       "      <td>толкнувший скабееву депутат рады заявил о гроз...</td>\n",
       "    </tr>\n",
       "  </tbody>\n",
       "</table>\n",
       "</div>"
      ],
      "text/plain": [
       "         id                       href             datetime  \\\n",
       "0  24006362  /20190201/1550280358.html  2019-02-01 23:13:17   \n",
       "1  24006240  /20190201/1550268781.html  2019-02-01 22:38:41   \n",
       "2  24006100  /20190201/1550282212.html  2019-02-01 21:58:52   \n",
       "3  24005972  /20190202/1550283179.html  2019-02-01 21:27:06   \n",
       "4  24005764  /20190201/1550262848.html  2019-02-01 20:55:54   \n",
       "\n",
       "                                               title  likes  comments snippet  \\\n",
       "0  в днр заявили о задержании диверсантов, причас...     15        28   #UNKN   \n",
       "1  житель урала \"заминировал\" тц из-за снятия  со...     32        42   #UNKN   \n",
       "2      в черном море нашли \"потерянный флот гитлера\"     84        23   #UNKN   \n",
       "3  в сша освободили задержанную российскую актрис...     58        35   #UNKN   \n",
       "4  толкнувший скабееву депутат рады заявил о гроз...     45       145   #UNKN   \n",
       "\n",
       "                                         title_clean  \n",
       "0  в днр заявили о задержании диверсантов причаст...  \n",
       "1  житель урала заминировал тц изза снятия  сотов...  \n",
       "2        в черном море нашли потерянный флот гитлера  \n",
       "3  в сша освободили задержанную российскую актрис...  \n",
       "4  толкнувший скабееву депутат рады заявил о гроз...  "
      ]
     },
     "execution_count": 23,
     "metadata": {},
     "output_type": "execute_result"
    }
   ],
   "source": [
    "df_vk.snippet.fillna(\"#UNKN\", inplace = True)\n",
    "df_vk.head()"
   ]
  },
  {
   "cell_type": "code",
   "execution_count": 24,
   "metadata": {
    "execution": {
     "iopub.execute_input": "2024-12-14T13:12:03.097732Z",
     "iopub.status.busy": "2024-12-14T13:12:03.097372Z",
     "iopub.status.idle": "2024-12-14T13:12:03.143664Z",
     "shell.execute_reply": "2024-12-14T13:12:03.142870Z",
     "shell.execute_reply.started": "2024-12-14T13:12:03.097695Z"
    }
   },
   "outputs": [
    {
     "name": "stderr",
     "output_type": "stream",
     "text": [
      "/tmp/ipykernel_23/589479430.py:1: FutureWarning: A value is trying to be set on a copy of a DataFrame or Series through chained assignment using an inplace method.\n",
      "The behavior will change in pandas 3.0. This inplace method will never work because the intermediate object on which we are setting values always behaves as a copy.\n",
      "\n",
      "For example, when doing 'df[col].method(value, inplace=True)', try using 'df.method({col: value}, inplace=True)' or df[col] = df[col].method(value) instead, to perform the operation inplace on the original object.\n",
      "\n",
      "\n",
      "  df_ria.snippet.fillna(\"#UNKN\", inplace = True )\n"
     ]
    },
    {
     "data": {
      "text/html": [
       "<div>\n",
       "<style scoped>\n",
       "    .dataframe tbody tr th:only-of-type {\n",
       "        vertical-align: middle;\n",
       "    }\n",
       "\n",
       "    .dataframe tbody tr th {\n",
       "        vertical-align: top;\n",
       "    }\n",
       "\n",
       "    .dataframe thead th {\n",
       "        text-align: right;\n",
       "    }\n",
       "</style>\n",
       "<table border=\"1\" class=\"dataframe\">\n",
       "  <thead>\n",
       "    <tr style=\"text-align: right;\">\n",
       "      <th></th>\n",
       "      <th>href</th>\n",
       "      <th>date</th>\n",
       "      <th>time</th>\n",
       "      <th>title</th>\n",
       "      <th>snippet</th>\n",
       "      <th>text</th>\n",
       "      <th>category</th>\n",
       "      <th>tags</th>\n",
       "      <th>shows</th>\n",
       "      <th>target_tags</th>\n",
       "      <th>title_clean</th>\n",
       "    </tr>\n",
       "  </thead>\n",
       "  <tbody>\n",
       "    <tr>\n",
       "      <th>0</th>\n",
       "      <td>/20181231/1548961410.html</td>\n",
       "      <td>2018-12-31</td>\n",
       "      <td>31 декабря 2018, 23:52</td>\n",
       "      <td>Нетаньяху не собирается в отставку в случае пр...</td>\n",
       "      <td>Премьер-министр Израиля Биньямин Нетаньяху не ...</td>\n",
       "      <td>МОСКВА, 31 дек - РИА Новости. Премьер-министр ...</td>\n",
       "      <td>В мире</td>\n",
       "      <td>биньямин нетаньяху,израиль,в мире</td>\n",
       "      <td>728.0</td>\n",
       "      <td>[602, 991, 204]</td>\n",
       "      <td>нетаньяху не собирается в отставку в случае пр...</td>\n",
       "    </tr>\n",
       "    <tr>\n",
       "      <th>1</th>\n",
       "      <td>/20181231/1548961364.html</td>\n",
       "      <td>2018-12-31</td>\n",
       "      <td>31 декабря 2018, 23:19</td>\n",
       "      <td>Макрон в новогоднем обращении затронул тему ре...</td>\n",
       "      <td>Результат реформ не может быть мгновенным, зая...</td>\n",
       "      <td>ПАРИЖ, 31 дек – РИА Новости. Результат реформ ...</td>\n",
       "      <td>В мире</td>\n",
       "      <td>эммануэль макрон,франция,в мире</td>\n",
       "      <td>3086.0</td>\n",
       "      <td>[114, 1122, 204]</td>\n",
       "      <td>макрон в новогоднем обращении затронул тему ре...</td>\n",
       "    </tr>\n",
       "    <tr>\n",
       "      <th>4</th>\n",
       "      <td>/20181231/1548961265.html</td>\n",
       "      <td>2018-12-31</td>\n",
       "      <td>31 декабря 2018, 23:07</td>\n",
       "      <td>Пятая ракетка мира дель Потро пропустит Открыт...</td>\n",
       "      <td>Аргентинский теннисист Хуан Мартин дель Потро ...</td>\n",
       "      <td>МОСКВА, 31 дек - РИА Новости. Аргентинский тен...</td>\n",
       "      <td>NaN</td>\n",
       "      <td>теннис</td>\n",
       "      <td>79.0</td>\n",
       "      <td>[1271]</td>\n",
       "      <td>пятая ракетка мира дель потро пропустит открыт...</td>\n",
       "    </tr>\n",
       "    <tr>\n",
       "      <th>5</th>\n",
       "      <td>/20181231/1548961218.html</td>\n",
       "      <td>2018-12-31</td>\n",
       "      <td>31 декабря 2018, 23:06</td>\n",
       "      <td>СМИ: Кевину Спейси не разрешили отсутствовать ...</td>\n",
       "      <td>Суд в американском штате Массачусетс отверг хо...</td>\n",
       "      <td>МОСКВА, 31 дек - РИА Новости. Суд в американск...</td>\n",
       "      <td>В мире</td>\n",
       "      <td>кевин спейси,сша,в мире</td>\n",
       "      <td>2058.0</td>\n",
       "      <td>[276, 204]</td>\n",
       "      <td>сми кевину спейси не разрешили отсутствовать н...</td>\n",
       "    </tr>\n",
       "    <tr>\n",
       "      <th>6</th>\n",
       "      <td>/20181231/1548961194.html</td>\n",
       "      <td>2018-12-31</td>\n",
       "      <td>31 декабря 2018, 23:06</td>\n",
       "      <td>\"Зимняя классика\" НХЛ в 2020 году пройдет в Да...</td>\n",
       "      <td>\"Зимняя классика\" - матч регулярного чемпионат...</td>\n",
       "      <td>МОСКВА, 31 дек - РИА Новости. \"Зимняя классика...</td>\n",
       "      <td>NaN</td>\n",
       "      <td>нхл,хоккей</td>\n",
       "      <td>89.0</td>\n",
       "      <td>[1398, 883]</td>\n",
       "      <td>зимняя классика нхл в 2020 году пройдет в далл...</td>\n",
       "    </tr>\n",
       "  </tbody>\n",
       "</table>\n",
       "</div>"
      ],
      "text/plain": [
       "                        href        date                    time  \\\n",
       "0  /20181231/1548961410.html  2018-12-31  31 декабря 2018, 23:52   \n",
       "1  /20181231/1548961364.html  2018-12-31  31 декабря 2018, 23:19   \n",
       "4  /20181231/1548961265.html  2018-12-31  31 декабря 2018, 23:07   \n",
       "5  /20181231/1548961218.html  2018-12-31  31 декабря 2018, 23:06   \n",
       "6  /20181231/1548961194.html  2018-12-31  31 декабря 2018, 23:06   \n",
       "\n",
       "                                               title  \\\n",
       "0  Нетаньяху не собирается в отставку в случае пр...   \n",
       "1  Макрон в новогоднем обращении затронул тему ре...   \n",
       "4  Пятая ракетка мира дель Потро пропустит Открыт...   \n",
       "5  СМИ: Кевину Спейси не разрешили отсутствовать ...   \n",
       "6  \"Зимняя классика\" НХЛ в 2020 году пройдет в Да...   \n",
       "\n",
       "                                             snippet  \\\n",
       "0  Премьер-министр Израиля Биньямин Нетаньяху не ...   \n",
       "1  Результат реформ не может быть мгновенным, зая...   \n",
       "4  Аргентинский теннисист Хуан Мартин дель Потро ...   \n",
       "5  Суд в американском штате Массачусетс отверг хо...   \n",
       "6  \"Зимняя классика\" - матч регулярного чемпионат...   \n",
       "\n",
       "                                                text category  \\\n",
       "0  МОСКВА, 31 дек - РИА Новости. Премьер-министр ...   В мире   \n",
       "1  ПАРИЖ, 31 дек – РИА Новости. Результат реформ ...   В мире   \n",
       "4  МОСКВА, 31 дек - РИА Новости. Аргентинский тен...      NaN   \n",
       "5  МОСКВА, 31 дек - РИА Новости. Суд в американск...   В мире   \n",
       "6  МОСКВА, 31 дек - РИА Новости. \"Зимняя классика...      NaN   \n",
       "\n",
       "                                tags   shows       target_tags  \\\n",
       "0  биньямин нетаньяху,израиль,в мире   728.0   [602, 991, 204]   \n",
       "1    эммануэль макрон,франция,в мире  3086.0  [114, 1122, 204]   \n",
       "4                             теннис    79.0            [1271]   \n",
       "5            кевин спейси,сша,в мире  2058.0        [276, 204]   \n",
       "6                         нхл,хоккей    89.0       [1398, 883]   \n",
       "\n",
       "                                         title_clean  \n",
       "0  нетаньяху не собирается в отставку в случае пр...  \n",
       "1  макрон в новогоднем обращении затронул тему ре...  \n",
       "4  пятая ракетка мира дель потро пропустит открыт...  \n",
       "5  сми кевину спейси не разрешили отсутствовать н...  \n",
       "6  зимняя классика нхл в 2020 году пройдет в далл...  "
      ]
     },
     "execution_count": 24,
     "metadata": {},
     "output_type": "execute_result"
    }
   ],
   "source": [
    "df_ria.snippet.fillna(\"#UNKN\", inplace = True )\n",
    "df_ria.head()"
   ]
  },
  {
   "cell_type": "code",
   "execution_count": 25,
   "metadata": {
    "execution": {
     "iopub.execute_input": "2024-12-14T13:12:03.147679Z",
     "iopub.status.busy": "2024-12-14T13:12:03.146932Z",
     "iopub.status.idle": "2024-12-14T13:12:03.151167Z",
     "shell.execute_reply": "2024-12-14T13:12:03.150470Z",
     "shell.execute_reply.started": "2024-12-14T13:12:03.147642Z"
    }
   },
   "outputs": [],
   "source": [
    "def strip_lower(text):\n",
    "    if not text == \"#UNKN\":\n",
    "        text = text.lower().strip()\n",
    "    else:\n",
    "        text = text\n",
    "    return text"
   ]
  },
  {
   "cell_type": "code",
   "execution_count": 26,
   "metadata": {
    "execution": {
     "iopub.execute_input": "2024-12-14T13:12:03.152458Z",
     "iopub.status.busy": "2024-12-14T13:12:03.152165Z",
     "iopub.status.idle": "2024-12-14T13:12:14.351331Z",
     "shell.execute_reply": "2024-12-14T13:12:14.350332Z",
     "shell.execute_reply.started": "2024-12-14T13:12:03.152399Z"
    }
   },
   "outputs": [
    {
     "data": {
      "text/plain": [
       "0    премьерминистр израиля биньямин нетаньяху не н...\n",
       "1    результат реформ не может быть мгновенным заяв...\n",
       "4    аргентинский теннисист хуан мартин дель потро ...\n",
       "5    суд в американском штате массачусетс отверг хо...\n",
       "6    зимняя классика  матч регулярного чемпионата н...\n",
       "Name: snippet_clean, dtype: object"
      ]
     },
     "execution_count": 26,
     "metadata": {},
     "output_type": "execute_result"
    }
   ],
   "source": [
    "\n",
    "df_ria[\"snippet\"] = (df_ria.snippet.apply(strip_lower))\n",
    "df_ria[\"snippet_clean\"] = df_ria.snippet.apply(normalise_text)\n",
    "df_ria.snippet_clean.head()"
   ]
  },
  {
   "cell_type": "code",
   "execution_count": 27,
   "metadata": {
    "execution": {
     "iopub.execute_input": "2024-12-14T13:12:14.352815Z",
     "iopub.status.busy": "2024-12-14T13:12:14.352522Z",
     "iopub.status.idle": "2024-12-14T13:12:14.436556Z",
     "shell.execute_reply": "2024-12-14T13:12:14.435726Z",
     "shell.execute_reply.started": "2024-12-14T13:12:14.352785Z"
    }
   },
   "outputs": [
    {
     "data": {
      "text/plain": [
       "0    #UNKN\n",
       "1    #UNKN\n",
       "2    #UNKN\n",
       "3    #UNKN\n",
       "4    #UNKN\n",
       "Name: snippet_clean, dtype: object"
      ]
     },
     "execution_count": 27,
     "metadata": {},
     "output_type": "execute_result"
    }
   ],
   "source": [
    "df_vk[\"snippet\"] = (df_vk.snippet.apply(strip_lower))\n",
    "df_vk[\"snippet_clean\"] = (df_vk.snippet.apply(normalise_text))\n",
    "df_vk.snippet_clean.head()"
   ]
  },
  {
   "cell_type": "markdown",
   "metadata": {
    "id": "WrRKg_QHM_zV"
   },
   "source": [
    "## 1.3 Поставка данных"
   ]
  },
  {
   "cell_type": "markdown",
   "metadata": {
    "id": "S2vPPWsEM_zV"
   },
   "source": [
    "Пересечение сайта и ВК по опубликованным новостям довольно маленькое. Мы обучаем модель на данных с сайта. Предсказания мы будем строить на данных из ВК. У этих данных разная природа. В ВК описание статей и заголовки короче. Модель может хорошо показать себя на данных с новостного сайта, но сильно просесть в качестве на данных из ВК.\n",
    "\n",
    "Давайте сохраним пересечение в отдельную табличку, чтобы на нём можно было понять, насколько сильно деградирует модель."
   ]
  },
  {
   "cell_type": "code",
   "execution_count": 28,
   "metadata": {
    "colab": {
     "base_uri": "https://localhost:8080/"
    },
    "execution": {
     "iopub.execute_input": "2024-12-14T13:12:14.438031Z",
     "iopub.status.busy": "2024-12-14T13:12:14.437641Z",
     "iopub.status.idle": "2024-12-14T13:12:14.556498Z",
     "shell.execute_reply": "2024-12-14T13:12:14.555494Z",
     "shell.execute_reply.started": "2024-12-14T13:12:14.437990Z"
    },
    "id": "8KjCNaTLM_zW",
    "outputId": "a0de14af-5d32-4dff-89f7-3b04a7e35271"
   },
   "outputs": [
    {
     "name": "stdout",
     "output_type": "stream",
     "text": [
      "Размер отложенной выборки: 1128\n"
     ]
    }
   ],
   "source": [
    "ria_hrefs = set(df_ria.href.values)\n",
    "vk_hrefs = set(df_vk.href.values)\n",
    "test_hrefs = (vk_hrefs & ria_hrefs)\n",
    "\n",
    "print('Размер отложенной выборки:', len(test_hrefs))\n",
    "\n",
    "df = df_ria[~df_ria.href.isin(test_hrefs)]"
   ]
  },
  {
   "cell_type": "markdown",
   "metadata": {
    "id": "FVutzHbPM_zg"
   },
   "source": [
    "По странному совпадению (я правда не знаю почему) пересечение лежит в декабре. Мы будем его использовать как тестовую выборку."
   ]
  },
  {
   "cell_type": "code",
   "execution_count": 29,
   "metadata": {
    "colab": {
     "base_uri": "https://localhost:8080/"
    },
    "execution": {
     "iopub.execute_input": "2024-12-14T13:12:14.557905Z",
     "iopub.status.busy": "2024-12-14T13:12:14.557551Z",
     "iopub.status.idle": "2024-12-14T13:12:14.591183Z",
     "shell.execute_reply": "2024-12-14T13:12:14.590269Z",
     "shell.execute_reply.started": "2024-12-14T13:12:14.557874Z"
    },
    "id": "1fGs6y6PM_zg",
    "outputId": "5a639a55-e194-4d78-bba0-f6297339f49d"
   },
   "outputs": [
    {
     "data": {
      "text/plain": [
       "('2018-12-06', '2018-12-31')"
      ]
     },
     "execution_count": 29,
     "metadata": {},
     "output_type": "execute_result"
    }
   ],
   "source": [
    "df_ria[df_ria.href.isin(test_hrefs)].date.min(), df_ria[df_ria.href.isin(test_hrefs)].date.max()"
   ]
  },
  {
   "cell_type": "markdown",
   "metadata": {
    "id": "VJ_7VGvnM_zg"
   },
   "source": [
    "Предположим, что мы делим выборку на обучающую и тестовую случайно. За один и тот же промежуток времени может выйти довольно большое число новостей с одинаковым заголовком. Давайте представим себе, что в тесте и трэйне есть много статей про одно и то же событие. Модель научилась на обучающей выборке хорошо его тегировать. Остальные события модель тегирует намного хуже. Метрики на тестовой выборке высокие. В следующем месяце СМИ перестают освещать это событие, в потоке новостей совершенно другие новости. Качество модели резко проседает.\n",
    "\n",
    "Чтобы не напороться на завышенные метрики, обычно выборку дробят на обучающую и тестовую по времени. Тогда статьи из теста будут имитировать поток новых новостей, освещающих новые события."
   ]
  },
  {
   "cell_type": "code",
   "execution_count": 30,
   "metadata": {
    "colab": {
     "base_uri": "https://localhost:8080/"
    },
    "execution": {
     "iopub.execute_input": "2024-12-14T13:12:14.593172Z",
     "iopub.status.busy": "2024-12-14T13:12:14.592467Z",
     "iopub.status.idle": "2024-12-14T13:12:14.625891Z",
     "shell.execute_reply": "2024-12-14T13:12:14.624976Z",
     "shell.execute_reply.started": "2024-12-14T13:12:14.593128Z"
    },
    "id": "WscwQXAuM_zg",
    "outputId": "0a83dd25-a157-45e9-b757-f9fdf70a56e2"
   },
   "outputs": [
    {
     "data": {
      "text/plain": [
       "('2018-03-15', '2018-12-31')"
      ]
     },
     "execution_count": 30,
     "metadata": {},
     "output_type": "execute_result"
    }
   ],
   "source": [
    "df.date.min(), df.date.max()"
   ]
  },
  {
   "cell_type": "markdown",
   "metadata": {
    "id": "bzM_6-ntM_zg"
   },
   "source": [
    "__[0.5 балла] Задание 2:__ Разбейте выборку на обучающую, валидационную и тестовую. В тест возьмите весь декабрь. В валидацию октябрь и ноябрь."
   ]
  },
  {
   "cell_type": "code",
   "execution_count": 31,
   "metadata": {
    "execution": {
     "iopub.execute_input": "2024-12-14T13:12:14.627575Z",
     "iopub.status.busy": "2024-12-14T13:12:14.627148Z",
     "iopub.status.idle": "2024-12-14T13:12:14.758838Z",
     "shell.execute_reply": "2024-12-14T13:12:14.758073Z",
     "shell.execute_reply.started": "2024-12-14T13:12:14.627524Z"
    },
    "id": "Yzr5nNIvM_zg"
   },
   "outputs": [],
   "source": [
    "\n",
    "df_test = df[df.date >= \"2018-12-01\"]\n",
    "df_val = df[(df.date >= \"2018-10-01\") & (df.date < \"2018-12-01\")]\n",
    "df_train = df[df.date < \"2018-10-01\"]"
   ]
  },
  {
   "cell_type": "markdown",
   "metadata": {
    "id": "AlG-87v8M_zh"
   },
   "source": [
    "Сформируем отложенную выборку (пересечение ВКонтакте и РИА)."
   ]
  },
  {
   "cell_type": "code",
   "execution_count": 32,
   "metadata": {
    "colab": {
     "base_uri": "https://localhost:8080/",
     "height": 206
    },
    "execution": {
     "iopub.execute_input": "2024-12-14T13:12:14.760267Z",
     "iopub.status.busy": "2024-12-14T13:12:14.759928Z",
     "iopub.status.idle": "2024-12-14T13:12:14.806746Z",
     "shell.execute_reply": "2024-12-14T13:12:14.805887Z",
     "shell.execute_reply.started": "2024-12-14T13:12:14.760229Z"
    },
    "id": "KmBZjIx4M_zh",
    "outputId": "6b4bc36b-9d88-4182-a0b0-9d4c4314a248"
   },
   "outputs": [
    {
     "data": {
      "text/html": [
       "<div>\n",
       "<style scoped>\n",
       "    .dataframe tbody tr th:only-of-type {\n",
       "        vertical-align: middle;\n",
       "    }\n",
       "\n",
       "    .dataframe tbody tr th {\n",
       "        vertical-align: top;\n",
       "    }\n",
       "\n",
       "    .dataframe thead th {\n",
       "        text-align: right;\n",
       "    }\n",
       "</style>\n",
       "<table border=\"1\" class=\"dataframe\">\n",
       "  <thead>\n",
       "    <tr style=\"text-align: right;\">\n",
       "      <th></th>\n",
       "      <th>href</th>\n",
       "      <th>title_clean</th>\n",
       "      <th>target_tags</th>\n",
       "    </tr>\n",
       "  </thead>\n",
       "  <tbody>\n",
       "    <tr>\n",
       "      <th>0</th>\n",
       "      <td>/20181231/1548960744.html</td>\n",
       "      <td>митрополит рязанский раскритиковал иронию судьбы</td>\n",
       "      <td>[636]</td>\n",
       "    </tr>\n",
       "    <tr>\n",
       "      <th>1</th>\n",
       "      <td>/20181231/1548958617.html</td>\n",
       "      <td>на украине позавидовали стене на границе с крымом</td>\n",
       "      <td>[56, 204]</td>\n",
       "    </tr>\n",
       "    <tr>\n",
       "      <th>2</th>\n",
       "      <td>/20181231/1548957394.html</td>\n",
       "      <td>в госдуме предложили отказаться от газа в жилы...</td>\n",
       "      <td>[918, 918, 1478, 1004, 759]</td>\n",
       "    </tr>\n",
       "    <tr>\n",
       "      <th>3</th>\n",
       "      <td>/20181231/1548954909.html</td>\n",
       "      <td>названы лучшие средства от похмелья</td>\n",
       "      <td>[636]</td>\n",
       "    </tr>\n",
       "    <tr>\n",
       "      <th>4</th>\n",
       "      <td>/20181231/1548957120.html</td>\n",
       "      <td>новогоднее поздравление порошенко разозлило по...</td>\n",
       "      <td>[56, 204]</td>\n",
       "    </tr>\n",
       "  </tbody>\n",
       "</table>\n",
       "</div>"
      ],
      "text/plain": [
       "                        href  \\\n",
       "0  /20181231/1548960744.html   \n",
       "1  /20181231/1548958617.html   \n",
       "2  /20181231/1548957394.html   \n",
       "3  /20181231/1548954909.html   \n",
       "4  /20181231/1548957120.html   \n",
       "\n",
       "                                         title_clean  \\\n",
       "0   митрополит рязанский раскритиковал иронию судьбы   \n",
       "1  на украине позавидовали стене на границе с крымом   \n",
       "2  в госдуме предложили отказаться от газа в жилы...   \n",
       "3                названы лучшие средства от похмелья   \n",
       "4  новогоднее поздравление порошенко разозлило по...   \n",
       "\n",
       "                   target_tags  \n",
       "0                        [636]  \n",
       "1                    [56, 204]  \n",
       "2  [918, 918, 1478, 1004, 759]  \n",
       "3                        [636]  \n",
       "4                    [56, 204]  "
      ]
     },
     "execution_count": 32,
     "metadata": {},
     "output_type": "execute_result"
    }
   ],
   "source": [
    "df_oob = df_vk[df_vk.href.isin(test_hrefs)][['href', 'title_clean']]\n",
    "\n",
    "df_ria_oob = df_ria[df_ria.href.isin(test_hrefs)][['href', 'target_tags']]\n",
    "df_oob = df_oob.set_index('href').join(df_ria_oob.set_index('href')).reset_index()\n",
    "df_oob.head()"
   ]
  },
  {
   "cell_type": "markdown",
   "metadata": {
    "id": "laZ8tkFjM_zh"
   },
   "source": [
    "Напишем датасет для поставки данных в нейросеть.\n"
   ]
  },
  {
   "cell_type": "code",
   "execution_count": 33,
   "metadata": {
    "execution": {
     "iopub.execute_input": "2024-12-14T13:12:14.808390Z",
     "iopub.status.busy": "2024-12-14T13:12:14.808020Z",
     "iopub.status.idle": "2024-12-14T13:12:14.818510Z",
     "shell.execute_reply": "2024-12-14T13:12:14.817657Z",
     "shell.execute_reply.started": "2024-12-14T13:12:14.808355Z"
    },
    "id": "0if_RkA_M_zh"
   },
   "outputs": [],
   "source": [
    "from torch.utils.data import Dataset\n",
    "from torch.utils.data import DataLoader\n",
    "\n",
    "class NewsDataset(Dataset):\n",
    "\n",
    "    def __init__(self, target, title, vocab, vocab_size, max_title_len, max_classes, snippet=None, max_snippet_len=None):\n",
    "\n",
    "       self.vocab = {word: idx  for word,idx in vocab.items() if idx < vocab_size}\n",
    "       self.max_classes = max_classes\n",
    "       self.y=self.target_ohe(target)\n",
    "       self.X_title = self.create_text(title, max_title_len)\n",
    "       if snippet is not None:\n",
    "            self.X_snippet = self.create_text(snippet, max_snippet_len)\n",
    "       else:\n",
    "           self.X_snippet = None\n",
    "           \n",
    "            \n",
    "\n",
    "    def target_ohe(self, target):\n",
    "        y = torch.zeros((len(target), self.max_classes))\n",
    "        for i, t in enumerate(target):\n",
    "            y[[i]*len(t), t] = 1.0\n",
    "        return y\n",
    "\n",
    "    def create_text(self, texts, max_len):\n",
    "        result = [ ]\n",
    "        for sent in texts:\n",
    "            # {#PAD: 0, #UNKN: 1}\n",
    "            sent_tokenize = [self.vocab.get(item, 1) for item in word_tokenize(sent)]\n",
    "\n",
    "            # приводим все тексты к max_len\n",
    "            if len(sent_tokenize) >= max_len:\n",
    "                sent_tokenize = sent_tokenize[:max_len]\n",
    "            else:\n",
    "                sent_tokenize += [0] * (max_len - len(sent_tokenize))\n",
    "            result.append(sent_tokenize)\n",
    "        return torch.tensor(result, dtype=torch.int)\n",
    "\n",
    "    def __len__(self):\n",
    "        return len(self.X_title)\n",
    "\n",
    "    def __getitem__(self, idx):\n",
    "        if self.X_snippet is None:\n",
    "            return (self.X_title[idx, :], self.y[idx])\n",
    "        else:\n",
    "            return (self.X_title[idx, :], self.X_snippet[idx, :], self.y[idx])\n"
   ]
  },
  {
   "cell_type": "markdown",
   "metadata": {
    "id": "xQMfQ1ZkM_zh"
   },
   "source": [
    "__[0.5 балла] Задание 3:__ Сейчас датасет умеет работать только с полем `title_clean`. Давайте сделаем этот датасет более многофукнциональным и добавим в него возможность добавить в обработку данных сниппет.\n",
    "\n",
    "1. Внутри датасета `snippet` надо обработать точно также как и `title`.\n",
    "2. Если `snippet=None`, датасет должен вернуть два объекта: `X_title, y`. В обратном случае датасет должен вернуть три объекта.\n",
    "\n",
    "**Важно:** Весь код ниже работает сейчас без сниппета. Он не должен развалиться от того, что сниппет в нём нигде не указан."
   ]
  },
  {
   "cell_type": "markdown",
   "metadata": {
    "id": "1v_Rgi_DM_zh"
   },
   "source": [
    "Объявим датасеты, оставим в словаре 30 000 самых частотных слов. Будем смотреть на титулы максимальной длины 20."
   ]
  },
  {
   "cell_type": "code",
   "execution_count": 34,
   "metadata": {
    "execution": {
     "iopub.execute_input": "2024-12-14T13:12:14.819951Z",
     "iopub.status.busy": "2024-12-14T13:12:14.819700Z",
     "iopub.status.idle": "2024-12-14T13:12:44.803452Z",
     "shell.execute_reply": "2024-12-14T13:12:44.802393Z",
     "shell.execute_reply.started": "2024-12-14T13:12:14.819925Z"
    },
    "id": "2zjgEiWWM_zh"
   },
   "outputs": [],
   "source": [
    "CLASSES_NUM = len(idx2tag)\n",
    "VOCAB_SIZE = 10000\n",
    "MAX_TITLE_LEN = 20\n",
    "\n",
    "# словарь создаем по всей выборке\n",
    "vocabulary = create_vocab(' '.join(df_ria.title_clean.values))\n",
    "\n",
    "# объявляем датасеты\n",
    "train_dataset = NewsDataset(df_train.target_tags.values, df_train.title_clean.values, vocabulary, VOCAB_SIZE, MAX_TITLE_LEN, CLASSES_NUM )\n",
    "val_dataset = NewsDataset(df_val.target_tags.values, df_val.title_clean.values, vocabulary, VOCAB_SIZE, MAX_TITLE_LEN, CLASSES_NUM )\n",
    "test_dataset = NewsDataset(df_test.target_tags.values, df_test.title_clean.values, vocabulary, VOCAB_SIZE, MAX_TITLE_LEN, CLASSES_NUM )"
   ]
  },
  {
   "cell_type": "code",
   "execution_count": 35,
   "metadata": {
    "execution": {
     "iopub.execute_input": "2024-12-14T13:12:44.805688Z",
     "iopub.status.busy": "2024-12-14T13:12:44.805226Z",
     "iopub.status.idle": "2024-12-14T13:12:44.813319Z",
     "shell.execute_reply": "2024-12-14T13:12:44.812349Z",
     "shell.execute_reply.started": "2024-12-14T13:12:44.805631Z"
    },
    "id": "kNdo56v0M_zh"
   },
   "outputs": [],
   "source": [
    "train_dataloader = DataLoader(train_dataset, shuffle=True, batch_size=64, num_workers=4)\n",
    "val_dataloader = DataLoader(val_dataset, shuffle=False, batch_size=4096, num_workers=4)"
   ]
  },
  {
   "cell_type": "markdown",
   "metadata": {
    "id": "WvQXMtISM_zh"
   },
   "source": [
    "## 1.4 Архитектуры\n",
    "\n",
    "Соберём базовую архитектуру для обучения."
   ]
  },
  {
   "cell_type": "code",
   "execution_count": 36,
   "metadata": {
    "execution": {
     "iopub.execute_input": "2024-12-14T13:12:44.814835Z",
     "iopub.status.busy": "2024-12-14T13:12:44.814523Z",
     "iopub.status.idle": "2024-12-14T13:12:44.829238Z",
     "shell.execute_reply": "2024-12-14T13:12:44.828330Z",
     "shell.execute_reply.started": "2024-12-14T13:12:44.814807Z"
    },
    "id": "dN8DAIIkM_zh"
   },
   "outputs": [],
   "source": [
    "from torch import nn\n",
    "import torch.nn.functional as F\n",
    "\n",
    "class SimpleClassifier(nn.Module):\n",
    "\n",
    "    def __init__(self, vocab_size, embedding_dim, output_dim):\n",
    "        super().__init__()\n",
    "        self.embedding = nn.Embedding(vocab_size, embedding_dim)\n",
    "        self.fc = nn.Linear(embedding_dim, output_dim)\n",
    "\n",
    "    def forward(self, title):\n",
    "        embedded = self.embedding(title)\n",
    "        embedded = embedded.mean(dim=1)\n",
    "        return self.fc(embedded)"
   ]
  },
  {
   "cell_type": "markdown",
   "metadata": {
    "id": "slQEltBQM_zh"
   },
   "source": [
    "Соберём в `pytorch_lightning` модуль для обучения нейронки."
   ]
  },
  {
   "cell_type": "code",
   "execution_count": 38,
   "metadata": {
    "execution": {
     "iopub.execute_input": "2024-12-13T23:55:55.973287Z",
     "iopub.status.busy": "2024-12-13T23:55:55.973045Z",
     "iopub.status.idle": "2024-12-13T23:55:55.981410Z",
     "shell.execute_reply": "2024-12-13T23:55:55.980732Z",
     "shell.execute_reply.started": "2024-12-13T23:55:55.973263Z"
    },
    "id": "GqKIxEyoM_zi"
   },
   "outputs": [],
   "source": [
    "#!pip3 install pytorch_lightning"
   ]
  },
  {
   "cell_type": "code",
   "execution_count": 37,
   "metadata": {
    "execution": {
     "iopub.execute_input": "2024-12-14T13:12:44.830811Z",
     "iopub.status.busy": "2024-12-14T13:12:44.830355Z",
     "iopub.status.idle": "2024-12-14T13:13:33.273064Z",
     "shell.execute_reply": "2024-12-14T13:13:33.272231Z",
     "shell.execute_reply.started": "2024-12-14T13:12:44.830762Z"
    }
   },
   "outputs": [
    {
     "name": "stdout",
     "output_type": "stream",
     "text": [
      "Requirement already satisfied: wandb in /opt/conda/lib/python3.10/site-packages (0.18.7)\n",
      "Requirement already satisfied: click!=8.0.0,>=7.1 in /opt/conda/lib/python3.10/site-packages (from wandb) (8.1.7)\n",
      "Requirement already satisfied: docker-pycreds>=0.4.0 in /opt/conda/lib/python3.10/site-packages (from wandb) (0.4.0)\n",
      "Requirement already satisfied: gitpython!=3.1.29,>=1.0.0 in /opt/conda/lib/python3.10/site-packages (from wandb) (3.1.43)\n",
      "Requirement already satisfied: platformdirs in /opt/conda/lib/python3.10/site-packages (from wandb) (3.11.0)\n",
      "Requirement already satisfied: protobuf!=4.21.0,!=5.28.0,<6,>=3.19.0 in /opt/conda/lib/python3.10/site-packages (from wandb) (3.20.3)\n",
      "Requirement already satisfied: psutil>=5.0.0 in /opt/conda/lib/python3.10/site-packages (from wandb) (5.9.3)\n",
      "Requirement already satisfied: pyyaml in /opt/conda/lib/python3.10/site-packages (from wandb) (6.0.2)\n",
      "Requirement already satisfied: requests<3,>=2.0.0 in /opt/conda/lib/python3.10/site-packages (from wandb) (2.32.3)\n",
      "Requirement already satisfied: sentry-sdk>=2.0.0 in /opt/conda/lib/python3.10/site-packages (from wandb) (2.19.0)\n",
      "Requirement already satisfied: setproctitle in /opt/conda/lib/python3.10/site-packages (from wandb) (1.3.4)\n",
      "Requirement already satisfied: setuptools in /opt/conda/lib/python3.10/site-packages (from wandb) (70.0.0)\n",
      "Requirement already satisfied: typing-extensions<5,>=4.4 in /opt/conda/lib/python3.10/site-packages (from wandb) (4.12.2)\n",
      "Requirement already satisfied: six>=1.4.0 in /opt/conda/lib/python3.10/site-packages (from docker-pycreds>=0.4.0->wandb) (1.16.0)\n",
      "Requirement already satisfied: gitdb<5,>=4.0.1 in /opt/conda/lib/python3.10/site-packages (from gitpython!=3.1.29,>=1.0.0->wandb) (4.0.11)\n",
      "Requirement already satisfied: charset-normalizer<4,>=2 in /opt/conda/lib/python3.10/site-packages (from requests<3,>=2.0.0->wandb) (3.3.2)\n",
      "Requirement already satisfied: idna<4,>=2.5 in /opt/conda/lib/python3.10/site-packages (from requests<3,>=2.0.0->wandb) (3.7)\n",
      "Requirement already satisfied: urllib3<3,>=1.21.1 in /opt/conda/lib/python3.10/site-packages (from requests<3,>=2.0.0->wandb) (1.26.18)\n",
      "Requirement already satisfied: certifi>=2017.4.17 in /opt/conda/lib/python3.10/site-packages (from requests<3,>=2.0.0->wandb) (2024.6.2)\n",
      "Requirement already satisfied: smmap<6,>=3.0.1 in /opt/conda/lib/python3.10/site-packages (from gitdb<5,>=4.0.1->gitpython!=3.1.29,>=1.0.0->wandb) (5.0.1)\n"
     ]
    },
    {
     "name": "stderr",
     "output_type": "stream",
     "text": [
      "\u001b[34m\u001b[1mwandb\u001b[0m: Using wandb-core as the SDK backend.  Please refer to https://wandb.me/wandb-core for more information.\n",
      "\u001b[34m\u001b[1mwandb\u001b[0m: Logging into wandb.ai. (Learn how to deploy a W&B server locally: https://wandb.me/wandb-server)\n",
      "\u001b[34m\u001b[1mwandb\u001b[0m: You can find your API key in your browser here: https://wandb.ai/authorize\n",
      "\u001b[34m\u001b[1mwandb\u001b[0m: Paste an API key from your profile and hit enter, or press ctrl+c to quit:"
     ]
    },
    {
     "name": "stdin",
     "output_type": "stream",
     "text": [
      "  ········\n"
     ]
    },
    {
     "name": "stderr",
     "output_type": "stream",
     "text": [
      "\u001b[34m\u001b[1mwandb\u001b[0m: Appending key for api.wandb.ai to your netrc file: /root/.netrc\n"
     ]
    },
    {
     "data": {
      "text/plain": [
       "True"
      ]
     },
     "execution_count": 37,
     "metadata": {},
     "output_type": "execute_result"
    }
   ],
   "source": [
    "import pytorch_lightning as pl\n",
    "from pytorch_lightning.loggers import WandbLogger\n",
    "!pip install wandb\n",
    "import wandb\n",
    "wandb.login()"
   ]
  },
  {
   "cell_type": "markdown",
   "metadata": {},
   "source": [
    "https://api.wandb.ai/links/ghora0907-hse-university/bhq5vulv - отчет"
   ]
  },
  {
   "cell_type": "code",
   "execution_count": 40,
   "metadata": {
    "execution": {
     "iopub.execute_input": "2024-12-13T23:56:20.828175Z",
     "iopub.status.busy": "2024-12-13T23:56:20.826997Z",
     "iopub.status.idle": "2024-12-13T23:56:20.834904Z",
     "shell.execute_reply": "2024-12-13T23:56:20.834211Z",
     "shell.execute_reply.started": "2024-12-13T23:56:20.828131Z"
    }
   },
   "outputs": [],
   "source": [
    "\n",
    "wandb_logger = WandbLogger(project=\"Models\")"
   ]
  },
  {
   "cell_type": "code",
   "execution_count": 38,
   "metadata": {
    "execution": {
     "iopub.execute_input": "2024-12-14T13:13:33.278089Z",
     "iopub.status.busy": "2024-12-14T13:13:33.277314Z",
     "iopub.status.idle": "2024-12-14T13:13:33.284542Z",
     "shell.execute_reply": "2024-12-14T13:13:33.283701Z",
     "shell.execute_reply.started": "2024-12-14T13:13:33.278059Z"
    },
    "id": "5E6J3of9M_zi"
   },
   "outputs": [],
   "source": [
    "\n",
    "\n",
    "class TrainLightningModule(pl.LightningModule):\n",
    "    def __init__(self, model, learning_rate, criterion):\n",
    "        super().__init__()\n",
    "        self.model = model\n",
    "        self.criterion = criterion\n",
    "        self.learning_rate = learning_rate\n",
    "\n",
    "    def forward(self, title):\n",
    "        result = self.model(title)\n",
    "        return result\n",
    "\n",
    "\n",
    "    def configure_optimizers(self):\n",
    "        optimizer = torch.optim.Adam(self.parameters(), lr=self.learning_rate)\n",
    "        return optimizer\n",
    "\n",
    "    def training_step(self, train_batch, batch_idx):\n",
    "        title, target = train_batch\n",
    "        logits = self.model(title)\n",
    "        loss = self.criterion(logits, target)\n",
    "        self.log(\n",
    "            \"train_loss\", loss, prog_bar=True\n",
    "        )\n",
    "        return loss\n",
    "\n",
    "    def validation_step(self, val_batch, batch_idx):\n",
    "        title, target = val_batch\n",
    "        logits = self.model(title)\n",
    "        loss = self.criterion(logits, target)\n",
    "        self.log(\n",
    "            \"val_loss\", loss, prog_bar=True\n",
    "        )\n",
    "        return loss"
   ]
  },
  {
   "cell_type": "markdown",
   "metadata": {
    "id": "6BirneLfM_zi"
   },
   "source": [
    "Обучим модель."
   ]
  },
  {
   "cell_type": "code",
   "execution_count": 42,
   "metadata": {
    "colab": {
     "base_uri": "https://localhost:8080/",
     "height": 349,
     "referenced_widgets": [
      "3ef009aeabae43b48bc913a592d1a019",
      "75b99a050a37493389ff96724a9a3b72",
      "78fe9e3a3d614de9a6f3efacde67d247",
      "2d71626a24cb45f39095e7e3fd621707",
      "4f75594be29e49cc99fe61a6787e7564",
      "9ab912602cc24346a011fdf58feafbde",
      "af211f3be2ce4fb1b6733fa552ed041b",
      "84f32a71a7cd4de6b55a9558717d00ef",
      "5db675de6b8348e9a9823384541bdfff",
      "6fa8591a1a834d8785b1ebe8eff2b10d",
      "acfec13aec454320b585c0b8331e9448",
      "1ae6951f8b984b318210df9d009479d8",
      "d9456651273140f9bd6e587ab852eeec",
      "b174cb3407a04b2989e6049555265446",
      "7bd174d7cd2346be9db9d5a0a170f8cb",
      "3ada921ee7644de997b57ffd2c57044d",
      "17e62da8657f44d9a998f4acbbd29671",
      "be93fd003ef54d7e85bb1fcaa894e467",
      "938d3da0eef54ee997fc0ce7ccf1807b",
      "1c10405770654b90a3635ba4acabb6ef",
      "2da5b84f9384445a8d9db58ef3dafa5e",
      "abcb57f0947f413d9cb83c62c6529562",
      "d8cd82c7af8747148b5b4750e8f1372a",
      "17d8af2b171440cba00f8b2df1a08073",
      "fde8213392c546b58ad8a81aacf4fcb3",
      "09093bb710bd4903abf2e10db6efc0a0",
      "d92ec28e7e6c47c4b2e3669b502b8b9e",
      "201a41be363549eaa0fdc903fb41f83e",
      "60c4aa6c4c8145949cd16ec0670227a1",
      "58fbdeafd7ee40cd9392cd4a62c49b81",
      "286fbf1303dc4f0b9c1bb3cfb34f920e",
      "8fc5cc9d0df74d5081fa3f8c89595daf",
      "0cbe638b1d354bea83ccba54ee3d1f5c",
      "f2b6c28c36e64f66b54834f543cec282",
      "2d98065fccb34cb1b44740aa4510f0e7",
      "2aa0bc933aae46729672d55e60c17616",
      "950950a569914ad1a263f3f295e57852",
      "2f4dcf310c634bdba125e8bf46d3db26",
      "6072601881c341fb8e5329fab05ee52d",
      "13a1fd50c8f24f12a0f28485b6168606",
      "546d1deb5c934916b722fb9ab0ce5e67",
      "86ed101f86384b9b92eb3faccae5bca2",
      "cba28fcac7c349e8ac9794d507768744",
      "7bb5cc7b77654cc0b27a22552941a1ce",
      "b6179f72e8f94772a4e1e2a503bc1d47",
      "9ec11067fc81414d97457b47e93b78a1",
      "6351ca36d8d648afa472093df7e73e45",
      "d1efd4fe9adc4243a81d401784b77530",
      "2cb3f56ff669424da4e9bace352831b8",
      "3dc20b49832e46c6ad70dc754f43555f",
      "100219bd594645c5b60c3da4a44344fe",
      "7a6a637bb7664b4495b2b56b45d88ee4",
      "74bf3b2a873e40ffa139f1afe652ffe8",
      "640ac5a06820498585c48a1b69355d0d",
      "515318593400421487560182023801f1",
      "2a38ec8f52d74e018a4c1876d3a2f874",
      "fd22c38d837a404ab892ddaddf4a8988",
      "a474d8d377674579b3c9f5327fbb1862",
      "0029cbbc48c64effb57bffff5d199e34",
      "e9d2f22400db472283508e8c01f08fbb",
      "46204f92abf1414da360d79b4ca7a924",
      "0a54156fabcd4ef3b73b038b71485a6a",
      "2e02be5bf0be40bf87f1364b1fd587ec",
      "560450b99c8f4636b3a700db3fc21253",
      "0140e6c8951147b6a7e079682e938e7f",
      "534e121744814f4d8880072004513e37",
      "b23fac677f5e4e8884f84fe60585330d",
      "1ae57433e573436b8bbdf6c22630930d",
      "6769dc278aae487db30d78caa97c6dd8",
      "b5b6d56829af44d99b904176b9552101",
      "7dc052c589534aa986569d863596a2a3",
      "5d422f8cbd47402bb8f28b258e5abed0",
      "80d177b53a5f4fe0a733d3b7d36e9b30",
      "71c435b7fa6f4a0fb44a4c8a8b5a73f6",
      "c05c8b6064f94652a1f2ed5c3bb7c2b0",
      "c44756a0ec83400f9f6daf8d1179ad91",
      "a2903f89f4584f16b9f5b412d2730672"
     ]
    },
    "execution": {
     "iopub.execute_input": "2024-12-13T23:56:20.844578Z",
     "iopub.status.busy": "2024-12-13T23:56:20.844249Z",
     "iopub.status.idle": "2024-12-13T23:57:46.151766Z",
     "shell.execute_reply": "2024-12-13T23:57:46.150959Z",
     "shell.execute_reply.started": "2024-12-13T23:56:20.844545Z"
    },
    "id": "5ShTLAStM_zi",
    "outputId": "c1894412-c82d-4061-971d-4c732c3ae599"
   },
   "outputs": [
    {
     "name": "stderr",
     "output_type": "stream",
     "text": [
      "\u001b[34m\u001b[1mwandb\u001b[0m: Currently logged in as: \u001b[33mghora0907\u001b[0m (\u001b[33mghora0907-hse-university\u001b[0m). Use \u001b[1m`wandb login --relogin`\u001b[0m to force relogin\n"
     ]
    },
    {
     "data": {
      "text/html": [
       "Tracking run with wandb version 0.18.7"
      ],
      "text/plain": [
       "<IPython.core.display.HTML object>"
      ]
     },
     "metadata": {},
     "output_type": "display_data"
    },
    {
     "data": {
      "text/html": [
       "Run data is saved locally in <code>./wandb/run-20241213_235620-le5uati4</code>"
      ],
      "text/plain": [
       "<IPython.core.display.HTML object>"
      ]
     },
     "metadata": {},
     "output_type": "display_data"
    },
    {
     "data": {
      "text/html": [
       "Syncing run <strong><a href='https://wandb.ai/ghora0907-hse-university/Models/runs/le5uati4' target=\"_blank\">royal-frog-10</a></strong> to <a href='https://wandb.ai/ghora0907-hse-university/Models' target=\"_blank\">Weights & Biases</a> (<a href='https://wandb.me/developer-guide' target=\"_blank\">docs</a>)<br/>"
      ],
      "text/plain": [
       "<IPython.core.display.HTML object>"
      ]
     },
     "metadata": {},
     "output_type": "display_data"
    },
    {
     "data": {
      "text/html": [
       " View project at <a href='https://wandb.ai/ghora0907-hse-university/Models' target=\"_blank\">https://wandb.ai/ghora0907-hse-university/Models</a>"
      ],
      "text/plain": [
       "<IPython.core.display.HTML object>"
      ]
     },
     "metadata": {},
     "output_type": "display_data"
    },
    {
     "data": {
      "text/html": [
       " View run at <a href='https://wandb.ai/ghora0907-hse-university/Models/runs/le5uati4' target=\"_blank\">https://wandb.ai/ghora0907-hse-university/Models/runs/le5uati4</a>"
      ],
      "text/plain": [
       "<IPython.core.display.HTML object>"
      ]
     },
     "metadata": {},
     "output_type": "display_data"
    },
    {
     "data": {
      "application/vnd.jupyter.widget-view+json": {
       "model_id": "",
       "version_major": 2,
       "version_minor": 0
      },
      "text/plain": [
       "Sanity Checking: |          | 0/? [00:00<?, ?it/s]"
      ]
     },
     "metadata": {},
     "output_type": "display_data"
    },
    {
     "data": {
      "application/vnd.jupyter.widget-view+json": {
       "model_id": "b1e07334db9745d09fea38e81e80c367",
       "version_major": 2,
       "version_minor": 0
      },
      "text/plain": [
       "Training: |          | 0/? [00:00<?, ?it/s]"
      ]
     },
     "metadata": {},
     "output_type": "display_data"
    },
    {
     "data": {
      "application/vnd.jupyter.widget-view+json": {
       "model_id": "",
       "version_major": 2,
       "version_minor": 0
      },
      "text/plain": [
       "Validation: |          | 0/? [00:00<?, ?it/s]"
      ]
     },
     "metadata": {},
     "output_type": "display_data"
    },
    {
     "data": {
      "application/vnd.jupyter.widget-view+json": {
       "model_id": "",
       "version_major": 2,
       "version_minor": 0
      },
      "text/plain": [
       "Validation: |          | 0/? [00:00<?, ?it/s]"
      ]
     },
     "metadata": {},
     "output_type": "display_data"
    },
    {
     "data": {
      "application/vnd.jupyter.widget-view+json": {
       "model_id": "",
       "version_major": 2,
       "version_minor": 0
      },
      "text/plain": [
       "Validation: |          | 0/? [00:00<?, ?it/s]"
      ]
     },
     "metadata": {},
     "output_type": "display_data"
    },
    {
     "data": {
      "application/vnd.jupyter.widget-view+json": {
       "model_id": "",
       "version_major": 2,
       "version_minor": 0
      },
      "text/plain": [
       "Validation: |          | 0/? [00:00<?, ?it/s]"
      ]
     },
     "metadata": {},
     "output_type": "display_data"
    },
    {
     "data": {
      "application/vnd.jupyter.widget-view+json": {
       "model_id": "",
       "version_major": 2,
       "version_minor": 0
      },
      "text/plain": [
       "Validation: |          | 0/? [00:00<?, ?it/s]"
      ]
     },
     "metadata": {},
     "output_type": "display_data"
    }
   ],
   "source": [
    "EMBEDDING_DIM = 300\n",
    "EPOCHS = 5\n",
    "LR = 1e-3\n",
    "model_baseline = SimpleClassifier(VOCAB_SIZE, EMBEDDING_DIM, CLASSES_NUM)\n",
    "criterion = torch.nn.CrossEntropyLoss()\n",
    "\n",
    "train_module =TrainLightningModule(model_baseline, LR, criterion)\n",
    "\n",
    "trainer = pl.Trainer(logger = wandb_logger, accelerator=\"gpu\", max_epochs=EPOCHS)\n",
    "trainer.fit(train_module, train_dataloader, val_dataloader)"
   ]
  },
  {
   "cell_type": "code",
   "execution_count": 43,
   "metadata": {
    "execution": {
     "iopub.execute_input": "2024-12-13T23:57:46.154198Z",
     "iopub.status.busy": "2024-12-13T23:57:46.153326Z",
     "iopub.status.idle": "2024-12-13T23:57:48.022859Z",
     "shell.execute_reply": "2024-12-13T23:57:48.021964Z",
     "shell.execute_reply.started": "2024-12-13T23:57:46.154149Z"
    }
   },
   "outputs": [
    {
     "data": {
      "text/html": [
       "\n",
       "    <style>\n",
       "        .wandb-row {\n",
       "            display: flex;\n",
       "            flex-direction: row;\n",
       "            flex-wrap: wrap;\n",
       "            justify-content: flex-start;\n",
       "            width: 100%;\n",
       "        }\n",
       "        .wandb-col {\n",
       "            display: flex;\n",
       "            flex-direction: column;\n",
       "            flex-basis: 100%;\n",
       "            flex: 1;\n",
       "            padding: 10px;\n",
       "        }\n",
       "    </style>\n",
       "<div class=\"wandb-row\"><div class=\"wandb-col\"><h3>Run history:</h3><br/><table class=\"wandb\"><tr><td>epoch</td><td>▁▁▁▁▁▁▁▁▃▃▃▃▃▃▃▃▅▅▅▅▅▅▅▅▅▆▆▆▆▆▆▆████████</td></tr><tr><td>train_loss</td><td>▇▇███▅▆▆▅▅▄▄▅▄▄▃▃▃▃▄▃▃▂▂▂▂▂▂▁▂▄▂▂▂▂▁▂▂▂▁</td></tr><tr><td>trainer/global_step</td><td>▁▁▁▁▁▂▂▂▂▂▃▃▃▃▃▄▄▄▄▄▄▄▄▅▅▅▅▆▆▆▆▆▆▇▇▇▇▇▇█</td></tr><tr><td>val_loss</td><td>█▄▂▁▁</td></tr></table><br/></div><div class=\"wandb-col\"><h3>Run summary:</h3><br/><table class=\"wandb\"><tr><td>epoch</td><td>4</td></tr><tr><td>train_loss</td><td>7.50376</td></tr><tr><td>trainer/global_step</td><td>10694</td></tr><tr><td>val_loss</td><td>10.75075</td></tr></table><br/></div></div>"
      ],
      "text/plain": [
       "<IPython.core.display.HTML object>"
      ]
     },
     "metadata": {},
     "output_type": "display_data"
    },
    {
     "data": {
      "text/html": [
       " View run <strong style=\"color:#cdcd00\">royal-frog-10</strong> at: <a href='https://wandb.ai/ghora0907-hse-university/Models/runs/le5uati4' target=\"_blank\">https://wandb.ai/ghora0907-hse-university/Models/runs/le5uati4</a><br/> View project at: <a href='https://wandb.ai/ghora0907-hse-university/Models' target=\"_blank\">https://wandb.ai/ghora0907-hse-university/Models</a><br/>Synced 5 W&B file(s), 0 media file(s), 0 artifact file(s) and 0 other file(s)"
      ],
      "text/plain": [
       "<IPython.core.display.HTML object>"
      ]
     },
     "metadata": {},
     "output_type": "display_data"
    },
    {
     "data": {
      "text/html": [
       "Find logs at: <code>./wandb/run-20241213_235620-le5uati4/logs</code>"
      ],
      "text/plain": [
       "<IPython.core.display.HTML object>"
      ]
     },
     "metadata": {},
     "output_type": "display_data"
    }
   ],
   "source": [
    "wandb.finish()"
   ]
  },
  {
   "cell_type": "code",
   "execution_count": 44,
   "metadata": {
    "execution": {
     "iopub.execute_input": "2024-12-13T23:57:48.024374Z",
     "iopub.status.busy": "2024-12-13T23:57:48.024016Z",
     "iopub.status.idle": "2024-12-13T23:57:48.028730Z",
     "shell.execute_reply": "2024-12-13T23:57:48.027883Z",
     "shell.execute_reply.started": "2024-12-13T23:57:48.024333Z"
    }
   },
   "outputs": [],
   "source": [
    "wandb_logger2 = WandbLogger(project=\"Models\")"
   ]
  },
  {
   "cell_type": "markdown",
   "metadata": {
    "id": "Qj9QJ-xEM_zi"
   },
   "source": [
    "__[1 балл] Задание 4:__  Модель выше работает только с титулом.\n",
    "\n",
    "- Залоггируйте её обучение на [WandB](https://wandb.ai/).\n",
    "- Соберите архитектуру, которая будет принимать на вход не только титул, но ещё и сниппет. В этой архитектуре должно происходить следующее:\n",
    "\n",
    "1. Общий слой `nn.Embedding` применяется к сниппету и титулу параллельно.\n",
    "2. Происходит усреднее по текстам.\n",
    "3. Вектора конкатятся в один длины 600\n",
    "4. Линейный слой делает классификацию\n",
    "\n",
    "Обучите эту модель. Сравните траектории обучения на WandB. Прикрепите ссылку на дашборд либо скришот к тетрадке.\n",
    "\n",
    "Даталоадеры придётся объявить заново с учётом сниппетов. Правда ли, что она бьёт на валидационной выборке модель, обученную только на титулах статей?"
   ]
  },
  {
   "cell_type": "code",
   "execution_count": 45,
   "metadata": {
    "execution": {
     "iopub.execute_input": "2024-12-13T23:57:48.030007Z",
     "iopub.status.busy": "2024-12-13T23:57:48.029727Z",
     "iopub.status.idle": "2024-12-13T23:57:48.038521Z",
     "shell.execute_reply": "2024-12-13T23:57:48.037799Z",
     "shell.execute_reply.started": "2024-12-13T23:57:48.029980Z"
    }
   },
   "outputs": [],
   "source": [
    "#https://api.wandb.ai/links/ghora0907-hse-university/bhq5vulv - отчет"
   ]
  },
  {
   "cell_type": "code",
   "execution_count": 41,
   "metadata": {
    "execution": {
     "iopub.execute_input": "2024-12-14T13:16:07.537484Z",
     "iopub.status.busy": "2024-12-14T13:16:07.537190Z",
     "iopub.status.idle": "2024-12-14T13:16:07.544578Z",
     "shell.execute_reply": "2024-12-14T13:16:07.543599Z",
     "shell.execute_reply.started": "2024-12-14T13:16:07.537456Z"
    }
   },
   "outputs": [],
   "source": [
    "class TrainLightningModule2(pl.LightningModule):\n",
    "    def __init__(self, model, learning_rate, criterion):\n",
    "        super().__init__()\n",
    "        self.model = model\n",
    "        self.criterion = criterion\n",
    "        self.learning_rate = learning_rate\n",
    "\n",
    "    def forward(self, title, snippet):\n",
    "        result = self.model(title, snippet)\n",
    "        return result\n",
    "\n",
    "    def configure_optimizers(self):\n",
    "        optimizer = torch.optim.Adam(self.parameters(), lr=self.learning_rate)\n",
    "        return optimizer\n",
    "\n",
    "    def training_step(self, train_batch, batch_idx):\n",
    "        title,snippet, target = train_batch\n",
    "        logits = self.model(title, snippet)\n",
    "        loss = self.criterion(logits, target)\n",
    "        self.log(\n",
    "\n",
    "            \"train_loss\", loss, prog_bar=True\n",
    "        )\n",
    "        return loss\n",
    "\n",
    "    def validation_step(self, val_batch, batch_idx):\n",
    "        title,snippet, target = val_batch\n",
    "        logits = self.model(title, snippet)\n",
    "        loss = self.criterion(logits, target)\n",
    "        self.log(\n",
    "            \"val_loss\", loss, prog_bar=True\n",
    "        )\n",
    "        return loss"
   ]
  },
  {
   "cell_type": "code",
   "execution_count": 42,
   "metadata": {
    "execution": {
     "iopub.execute_input": "2024-12-14T13:16:07.546083Z",
     "iopub.status.busy": "2024-12-14T13:16:07.545741Z",
     "iopub.status.idle": "2024-12-14T13:18:39.963782Z",
     "shell.execute_reply": "2024-12-14T13:18:39.962983Z",
     "shell.execute_reply.started": "2024-12-14T13:16:07.546046Z"
    }
   },
   "outputs": [],
   "source": [
    "\n",
    "MAX_SNIPPET_LEN = 100\n",
    "\n",
    "train_dataset2 = NewsDataset(df_train.target_tags.values, df_train.title_clean.values, vocabulary, VOCAB_SIZE, MAX_TITLE_LEN, CLASSES_NUM, df_train.snippet_clean.values, MAX_SNIPPET_LEN )\n",
    "val_dataset2 = NewsDataset(df_val.target_tags.values, df_val.title_clean.values, vocabulary, VOCAB_SIZE, MAX_TITLE_LEN,CLASSES_NUM, df_val.snippet_clean.values, MAX_SNIPPET_LEN )\n",
    "test_dataset2 = NewsDataset(df_test.target_tags.values, df_test.title_clean.values, vocabulary, VOCAB_SIZE, MAX_TITLE_LEN,CLASSES_NUM, df_test.snippet_clean.values, MAX_SNIPPET_LEN )"
   ]
  },
  {
   "cell_type": "code",
   "execution_count": 43,
   "metadata": {
    "execution": {
     "iopub.execute_input": "2024-12-14T13:18:39.965105Z",
     "iopub.status.busy": "2024-12-14T13:18:39.964862Z",
     "iopub.status.idle": "2024-12-14T13:18:39.969984Z",
     "shell.execute_reply": "2024-12-14T13:18:39.969079Z",
     "shell.execute_reply.started": "2024-12-14T13:18:39.965082Z"
    }
   },
   "outputs": [],
   "source": [
    "train_dataloader2 = DataLoader(train_dataset2, shuffle=True, batch_size=64, num_workers=4)\n",
    "val_dataloader2 = DataLoader(val_dataset2, shuffle=False, batch_size=4096, num_workers=4)"
   ]
  },
  {
   "cell_type": "code",
   "execution_count": 44,
   "metadata": {
    "execution": {
     "iopub.execute_input": "2024-12-14T13:18:39.971476Z",
     "iopub.status.busy": "2024-12-14T13:18:39.971180Z",
     "iopub.status.idle": "2024-12-14T13:18:39.982447Z",
     "shell.execute_reply": "2024-12-14T13:18:39.981792Z",
     "shell.execute_reply.started": "2024-12-14T13:18:39.971444Z"
    },
    "id": "pOJSMhYMM_zi"
   },
   "outputs": [],
   "source": [
    "class SnippetClassifier(nn.Module):\n",
    "\n",
    "    def __init__(self, vocab_size, embedding_dim, output_dim):\n",
    "        super().__init__()\n",
    "        self.embedding = nn.Embedding(vocab_size, embedding_dim)\n",
    "        self.fc = nn.Linear(2*embedding_dim, output_dim)\n",
    "\n",
    "    def forward(self, title, snippet):\n",
    "        title_embedded = self.embedding(title)\n",
    "        snippet_embedded = self.embedding(snippet)\n",
    "        title_embedded = title_embedded.mean(dim=1)\n",
    "        snippet_embedded = snippet_embedded.mean(dim=1)\n",
    "        embedded = torch.cat((title_embedded, snippet_embedded), dim = 1)\n",
    "        return self.fc(embedded)"
   ]
  },
  {
   "cell_type": "code",
   "execution_count": 50,
   "metadata": {
    "execution": {
     "iopub.execute_input": "2024-12-14T00:00:15.590132Z",
     "iopub.status.busy": "2024-12-14T00:00:15.589839Z",
     "iopub.status.idle": "2024-12-14T00:01:56.626420Z",
     "shell.execute_reply": "2024-12-14T00:01:56.625450Z",
     "shell.execute_reply.started": "2024-12-14T00:00:15.590106Z"
    }
   },
   "outputs": [
    {
     "data": {
      "text/html": [
       "Tracking run with wandb version 0.18.7"
      ],
      "text/plain": [
       "<IPython.core.display.HTML object>"
      ]
     },
     "metadata": {},
     "output_type": "display_data"
    },
    {
     "data": {
      "text/html": [
       "Run data is saved locally in <code>./wandb/run-20241214_000015-nnbrq42s</code>"
      ],
      "text/plain": [
       "<IPython.core.display.HTML object>"
      ]
     },
     "metadata": {},
     "output_type": "display_data"
    },
    {
     "data": {
      "text/html": [
       "Syncing run <strong><a href='https://wandb.ai/ghora0907-hse-university/Models/runs/nnbrq42s' target=\"_blank\">wild-dawn-11</a></strong> to <a href='https://wandb.ai/ghora0907-hse-university/Models' target=\"_blank\">Weights & Biases</a> (<a href='https://wandb.me/developer-guide' target=\"_blank\">docs</a>)<br/>"
      ],
      "text/plain": [
       "<IPython.core.display.HTML object>"
      ]
     },
     "metadata": {},
     "output_type": "display_data"
    },
    {
     "data": {
      "text/html": [
       " View project at <a href='https://wandb.ai/ghora0907-hse-university/Models' target=\"_blank\">https://wandb.ai/ghora0907-hse-university/Models</a>"
      ],
      "text/plain": [
       "<IPython.core.display.HTML object>"
      ]
     },
     "metadata": {},
     "output_type": "display_data"
    },
    {
     "data": {
      "text/html": [
       " View run at <a href='https://wandb.ai/ghora0907-hse-university/Models/runs/nnbrq42s' target=\"_blank\">https://wandb.ai/ghora0907-hse-university/Models/runs/nnbrq42s</a>"
      ],
      "text/plain": [
       "<IPython.core.display.HTML object>"
      ]
     },
     "metadata": {},
     "output_type": "display_data"
    },
    {
     "data": {
      "application/vnd.jupyter.widget-view+json": {
       "model_id": "",
       "version_major": 2,
       "version_minor": 0
      },
      "text/plain": [
       "Sanity Checking: |          | 0/? [00:00<?, ?it/s]"
      ]
     },
     "metadata": {},
     "output_type": "display_data"
    },
    {
     "data": {
      "application/vnd.jupyter.widget-view+json": {
       "model_id": "6a05f238038a4071ae12a25a43d64bcb",
       "version_major": 2,
       "version_minor": 0
      },
      "text/plain": [
       "Training: |          | 0/? [00:00<?, ?it/s]"
      ]
     },
     "metadata": {},
     "output_type": "display_data"
    },
    {
     "data": {
      "application/vnd.jupyter.widget-view+json": {
       "model_id": "",
       "version_major": 2,
       "version_minor": 0
      },
      "text/plain": [
       "Validation: |          | 0/? [00:00<?, ?it/s]"
      ]
     },
     "metadata": {},
     "output_type": "display_data"
    },
    {
     "data": {
      "application/vnd.jupyter.widget-view+json": {
       "model_id": "",
       "version_major": 2,
       "version_minor": 0
      },
      "text/plain": [
       "Validation: |          | 0/? [00:00<?, ?it/s]"
      ]
     },
     "metadata": {},
     "output_type": "display_data"
    },
    {
     "data": {
      "application/vnd.jupyter.widget-view+json": {
       "model_id": "",
       "version_major": 2,
       "version_minor": 0
      },
      "text/plain": [
       "Validation: |          | 0/? [00:00<?, ?it/s]"
      ]
     },
     "metadata": {},
     "output_type": "display_data"
    },
    {
     "data": {
      "application/vnd.jupyter.widget-view+json": {
       "model_id": "",
       "version_major": 2,
       "version_minor": 0
      },
      "text/plain": [
       "Validation: |          | 0/? [00:00<?, ?it/s]"
      ]
     },
     "metadata": {},
     "output_type": "display_data"
    },
    {
     "data": {
      "application/vnd.jupyter.widget-view+json": {
       "model_id": "",
       "version_major": 2,
       "version_minor": 0
      },
      "text/plain": [
       "Validation: |          | 0/? [00:00<?, ?it/s]"
      ]
     },
     "metadata": {},
     "output_type": "display_data"
    }
   ],
   "source": [
    "model = SnippetClassifier(VOCAB_SIZE, EMBEDDING_DIM, CLASSES_NUM)\n",
    "train_module2 =TrainLightningModule2(model, LR, criterion)\n",
    "\n",
    "trainer2 = pl.Trainer(logger = wandb_logger2, accelerator=\"gpu\", max_epochs=EPOCHS)\n",
    "trainer2.fit(train_module2, train_dataloader2, val_dataloader2)"
   ]
  },
  {
   "cell_type": "code",
   "execution_count": 51,
   "metadata": {
    "execution": {
     "iopub.execute_input": "2024-12-14T00:01:56.628231Z",
     "iopub.status.busy": "2024-12-14T00:01:56.627945Z",
     "iopub.status.idle": "2024-12-14T00:01:58.263622Z",
     "shell.execute_reply": "2024-12-14T00:01:58.262873Z",
     "shell.execute_reply.started": "2024-12-14T00:01:56.628202Z"
    }
   },
   "outputs": [
    {
     "data": {
      "text/html": [
       "\n",
       "    <style>\n",
       "        .wandb-row {\n",
       "            display: flex;\n",
       "            flex-direction: row;\n",
       "            flex-wrap: wrap;\n",
       "            justify-content: flex-start;\n",
       "            width: 100%;\n",
       "        }\n",
       "        .wandb-col {\n",
       "            display: flex;\n",
       "            flex-direction: column;\n",
       "            flex-basis: 100%;\n",
       "            flex: 1;\n",
       "            padding: 10px;\n",
       "        }\n",
       "    </style>\n",
       "<div class=\"wandb-row\"><div class=\"wandb-col\"><h3>Run history:</h3><br/><table class=\"wandb\"><tr><td>epoch</td><td>▁▁▁▁▁▁▁▁▁▃▃▃▃▃▃▃▃▃▃▃▅▅▅▅▅▅▅▅▅▆▆▆▆███████</td></tr><tr><td>train_loss</td><td>▇██▇▇▇▆▇▆▆▄▄▅▄▄▃▃▃▃▄▂▃▂▂▃▂▂▃▂▃▂▃▃▂▃▃▁▃▂▃</td></tr><tr><td>trainer/global_step</td><td>▁▁▁▁▁▂▂▂▂▂▃▃▃▃▃▃▃▃▄▄▄▄▅▅▅▅▅▅▆▆▆▆▆▆▇▇▇▇▇█</td></tr><tr><td>val_loss</td><td>█▄▂▁▁</td></tr></table><br/></div><div class=\"wandb-col\"><h3>Run summary:</h3><br/><table class=\"wandb\"><tr><td>epoch</td><td>4</td></tr><tr><td>train_loss</td><td>7.38935</td></tr><tr><td>trainer/global_step</td><td>10694</td></tr><tr><td>val_loss</td><td>10.74937</td></tr></table><br/></div></div>"
      ],
      "text/plain": [
       "<IPython.core.display.HTML object>"
      ]
     },
     "metadata": {},
     "output_type": "display_data"
    },
    {
     "data": {
      "text/html": [
       " View run <strong style=\"color:#cdcd00\">wild-dawn-11</strong> at: <a href='https://wandb.ai/ghora0907-hse-university/Models/runs/nnbrq42s' target=\"_blank\">https://wandb.ai/ghora0907-hse-university/Models/runs/nnbrq42s</a><br/> View project at: <a href='https://wandb.ai/ghora0907-hse-university/Models' target=\"_blank\">https://wandb.ai/ghora0907-hse-university/Models</a><br/>Synced 5 W&B file(s), 0 media file(s), 0 artifact file(s) and 0 other file(s)"
      ],
      "text/plain": [
       "<IPython.core.display.HTML object>"
      ]
     },
     "metadata": {},
     "output_type": "display_data"
    },
    {
     "data": {
      "text/html": [
       "Find logs at: <code>./wandb/run-20241214_000015-nnbrq42s/logs</code>"
      ],
      "text/plain": [
       "<IPython.core.display.HTML object>"
      ]
     },
     "metadata": {},
     "output_type": "display_data"
    }
   ],
   "source": [
    "wandb.finish()\n",
    "#https://api.wandb.ai/links/ghora0907-hse-university/zmmrufjk\n"
   ]
  },
  {
   "cell_type": "markdown",
   "metadata": {
    "id": "qKdBptFbM_zi"
   },
   "source": [
    "## 1.5 Инференс и оценка качества моделей\n",
    "\n",
    "Для каждой новости нам надо предсказывать несколько тэгов. То есть в нашем случае настоящее значение таргета это множество из тэгов $y_i = [tag1, tag2, tag3]$. Прогноз модели также множество из тэгов $\\hat y_i = [tag1, tag4]$.\n",
    "\n",
    "Будем считать метрики качества следующим образом (под $|A|$ имеется в виду мощность множества, то есть число элементов в нём):\n",
    "\n",
    "$$\n",
    "Precision = \\frac{1}{n} \\sum_{i = 1}^n \\frac{|y_i \\cap \\hat{y}_i|}{|\\hat{y}_i|}\n",
    "$$\n",
    "\n",
    "$$\n",
    "Recall = \\frac{1}{n} \\sum_{i = 1}^n \\frac{|y_i \\cap \\hat{y}_i|}{|y_i|}\n",
    "$$\n",
    "\n",
    "Также можно считать аналог Accuracy, но это не самая удачная идея, так как у нас в выборке огромное число нулей и эта метрика при любом разумном пороге для принятия решения будет очень высокой.\n",
    "\n",
    "$$\n",
    "Exact Match = \\frac{1}{n} \\cdot \\frac{1}{k} \\sum_{i = 1}^n \\sum_{k=1}^K [y_{ij} = \\hat{y}_{ij}]\n",
    "$$"
   ]
  },
  {
   "cell_type": "code",
   "execution_count": 45,
   "metadata": {
    "execution": {
     "iopub.execute_input": "2024-12-14T13:18:39.983653Z",
     "iopub.status.busy": "2024-12-14T13:18:39.983367Z",
     "iopub.status.idle": "2024-12-14T13:18:40.003138Z",
     "shell.execute_reply": "2024-12-14T13:18:40.002324Z",
     "shell.execute_reply.started": "2024-12-14T13:18:39.983628Z"
    },
    "id": "tgBsB48FM_zi"
   },
   "outputs": [],
   "source": [
    "def precision(target, y_pred):\n",
    "    num = ((y_pred == 1) & (target == 1)).sum(dim=1)\n",
    "    denum = (y_pred == 1).sum(dim=1)\n",
    "    return (num/(denum + 1e-5)).mean().item()\n",
    "\n",
    "def recall(target, y_pred):\n",
    "    num = ((y_pred == 1) & (target == 1)).sum(dim=1)\n",
    "    denum = (target == 1).sum(dim=1)\n",
    "    return (num/(denum + 1e-5)).mean().item()\n",
    "\n",
    "def exact_match(target, y_pred):\n",
    "    return (1.*(y_pred == target)).mean().item()"
   ]
  },
  {
   "cell_type": "markdown",
   "metadata": {
    "id": "eD9UeFECM_zi"
   },
   "source": [
    "Построим прогноз на тестовой выборке."
   ]
  },
  {
   "cell_type": "code",
   "execution_count": 253,
   "metadata": {
    "execution": {
     "iopub.execute_input": "2024-12-14T19:58:45.923315Z",
     "iopub.status.busy": "2024-12-14T19:58:45.922961Z",
     "iopub.status.idle": "2024-12-14T19:58:46.329072Z",
     "shell.execute_reply": "2024-12-14T19:58:46.327876Z",
     "shell.execute_reply.started": "2024-12-14T19:58:45.923283Z"
    },
    "id": "JHHDcGUDM_zi"
   },
   "outputs": [
    {
     "ename": "NameError",
     "evalue": "name 'model_baseline' is not defined",
     "output_type": "error",
     "traceback": [
      "\u001b[0;31m---------------------------------------------------------------------------\u001b[0m",
      "\u001b[0;31mNameError\u001b[0m                                 Traceback (most recent call last)",
      "Cell \u001b[0;32mIn[253], line 4\u001b[0m\n\u001b[1;32m      1\u001b[0m test_dataloader \u001b[38;5;241m=\u001b[39m DataLoader(test_dataset, shuffle\u001b[38;5;241m=\u001b[39m\u001b[38;5;28;01mFalse\u001b[39;00m, batch_size\u001b[38;5;241m=\u001b[39mtest_dataset\u001b[38;5;241m.\u001b[39m\u001b[38;5;21m__len__\u001b[39m())\n\u001b[1;32m      3\u001b[0m \u001b[38;5;28;01mfor\u001b[39;00m title, target \u001b[38;5;129;01min\u001b[39;00m test_dataloader:\n\u001b[0;32m----> 4\u001b[0m     logit \u001b[38;5;241m=\u001b[39m \u001b[43mmodel_baseline\u001b[49m(title)\n\u001b[1;32m      5\u001b[0m     pred_prob \u001b[38;5;241m=\u001b[39m F\u001b[38;5;241m.\u001b[39msoftmax(logit, dim\u001b[38;5;241m=\u001b[39m\u001b[38;5;241m1\u001b[39m)\n\u001b[1;32m      7\u001b[0m \u001b[38;5;28;01massert\u001b[39;00m pred_prob\u001b[38;5;241m.\u001b[39mshape[\u001b[38;5;241m0\u001b[39m] \u001b[38;5;241m==\u001b[39m test_dataset\u001b[38;5;241m.\u001b[39m\u001b[38;5;21m__len__\u001b[39m() \u001b[38;5;66;03m# Я случайно запустил ячейку, когда делал последнюю часть задания в кэггле, #\u001b[39;00m\n",
      "\u001b[0;31mNameError\u001b[0m: name 'model_baseline' is not defined"
     ]
    }
   ],
   "source": [
    "test_dataloader = DataLoader(test_dataset, shuffle=False, batch_size=test_dataset.__len__())\n",
    "\n",
    "for title, target in test_dataloader:\n",
    "    logit = model_baseline(title)\n",
    "    pred_prob = F.softmax(logit, dim=1)\n",
    "\n",
    "assert pred_prob.shape[0] == test_dataset.__len__() # Я случайно запустил ячейку, когда делал последнюю часть задания в кэггле, \n",
    "# поэтому высветилась ошибка"
   ]
  },
  {
   "cell_type": "markdown",
   "metadata": {
    "id": "mzbiK9llM_zi"
   },
   "source": [
    "Теперь выбирая различное значение порога, мы можем получать разные предсказания. Если взять очень большое значение порога, то метрики сильно просядут, так как во многих документах никакого прогноза не будет построено вообще."
   ]
  },
  {
   "cell_type": "code",
   "execution_count": 54,
   "metadata": {
    "colab": {
     "base_uri": "https://localhost:8080/"
    },
    "execution": {
     "iopub.execute_input": "2024-12-14T00:01:59.258945Z",
     "iopub.status.busy": "2024-12-14T00:01:59.258201Z",
     "iopub.status.idle": "2024-12-14T00:02:00.510450Z",
     "shell.execute_reply": "2024-12-14T00:02:00.509398Z",
     "shell.execute_reply.started": "2024-12-14T00:01:59.258914Z"
    },
    "id": "v2UI7GKqM_zj",
    "outputId": "c0385b7a-87c8-4e0a-914c-9ac9a93ce67a"
   },
   "outputs": [
    {
     "name": "stdout",
     "output_type": "stream",
     "text": [
      "Exact Match: 0.9956207275390625\n",
      "Precision: 0.29638999700546265\n",
      "Recall: 0.7623297572135925\n"
     ]
    }
   ],
   "source": [
    "TRESHOLD = 0.01\n",
    "y_pred = 1*(pred_prob > TRESHOLD)\n",
    "\n",
    "print('Exact Match:', exact_match(target, y_pred))\n",
    "print('Precision:', precision(target, y_pred))\n",
    "print('Recall:', recall(target, y_pred))"
   ]
  },
  {
   "cell_type": "code",
   "execution_count": 55,
   "metadata": {
    "colab": {
     "base_uri": "https://localhost:8080/"
    },
    "execution": {
     "iopub.execute_input": "2024-12-14T00:02:00.512501Z",
     "iopub.status.busy": "2024-12-14T00:02:00.511712Z",
     "iopub.status.idle": "2024-12-14T00:02:01.751334Z",
     "shell.execute_reply": "2024-12-14T00:02:01.750391Z",
     "shell.execute_reply.started": "2024-12-14T00:02:00.512457Z"
    },
    "id": "6v3CTYheM_zj",
    "outputId": "eec95f36-d6c3-444d-dc0d-0b7161d31a9d"
   },
   "outputs": [
    {
     "name": "stdout",
     "output_type": "stream",
     "text": [
      "Exact Match: 0.9983158111572266\n",
      "Precision: 0.5185713171958923\n",
      "Recall: 0.6184508204460144\n"
     ]
    }
   ],
   "source": [
    "TRESHOLD = 0.05\n",
    "y_pred = 1*(pred_prob > TRESHOLD)\n",
    "print('Exact Match:', exact_match(target, y_pred))\n",
    "print('Precision:', precision(target, y_pred))\n",
    "print('Recall:', recall(target, y_pred))"
   ]
  },
  {
   "cell_type": "code",
   "execution_count": 56,
   "metadata": {
    "colab": {
     "base_uri": "https://localhost:8080/"
    },
    "execution": {
     "iopub.execute_input": "2024-12-14T00:02:01.753240Z",
     "iopub.status.busy": "2024-12-14T00:02:01.752604Z",
     "iopub.status.idle": "2024-12-14T00:02:02.985379Z",
     "shell.execute_reply": "2024-12-14T00:02:02.984447Z",
     "shell.execute_reply.started": "2024-12-14T00:02:01.753201Z"
    },
    "id": "7mokX9IVM_zj",
    "outputId": "239c1246-ca6d-4579-be5b-5ebebb4fe526"
   },
   "outputs": [
    {
     "name": "stdout",
     "output_type": "stream",
     "text": [
      "Exact Match: 0.998318076133728\n",
      "Precision: 0.005600657779723406\n",
      "Recall: 0.004997639451175928\n"
     ]
    }
   ],
   "source": [
    "TRESHOLD = 0.9\n",
    "y_pred = 1*(pred_prob > TRESHOLD)\n",
    "\n",
    "print('Exact Match:', exact_match(target, y_pred))\n",
    "print('Precision:', precision(target, y_pred))\n",
    "print('Recall:', recall(target, y_pred))"
   ]
  },
  {
   "cell_type": "markdown",
   "metadata": {
    "id": "IUWFt7jjM_zj"
   },
   "source": [
    "Дальше мы будем строить довольно много прогнозов. Давайте напишем код для их строительства в виде функции. Обратите внимание, что на модели со снипетом она упадёт. Когда вы доберётесь до строительства прогнозов, функцию придётся немного модернизировать."
   ]
  },
  {
   "cell_type": "code",
   "execution_count": null,
   "metadata": {
    "execution": {
     "iopub.status.busy": "2024-12-14T13:18:40.806242Z",
     "iopub.status.idle": "2024-12-14T13:18:40.806608Z",
     "shell.execute_reply": "2024-12-14T13:18:40.806422Z",
     "shell.execute_reply.started": "2024-12-14T13:18:40.806391Z"
    },
    "id": "B3YFX4d2M_zk"
   },
   "outputs": [],
   "source": [
    "def get_predict(model, dataset):\n",
    "    dataloader = DataLoader(dataset, shuffle=False, batch_size=dataset.__len__())\n",
    "\n",
    "    for title, target in dataloader:\n",
    "        logit = model(title)\n",
    "        pred_prob = F.softmax(logit, dim=1)\n",
    "\n",
    "    assert pred_prob.shape[0] == dataset.__len__()\n",
    "    return pred_prob, target"
   ]
  },
  {
   "cell_type": "markdown",
   "metadata": {
    "id": "g0n493n_M_zk"
   },
   "source": [
    "__[0.5 балла] Задание 5:__ Какая метрика для нас в этой задаче важнее? Точность или полнота? Почему?\n",
    "\n",
    "__ваш ответ:__ Я думаю, что в данной задаче более важной метрикой является точность, так как если мы будем ориентироваться на полноту, то для нас эффективной будет модель, выдающая большое количество вероятностей, выше определенного порога. Тогда как, в идеале, мы стремимся не только к тому, чтобы модель выдавала правильные титулы, но и не выдавала неподходящие титулы для новостей. "
   ]
  },
  {
   "cell_type": "markdown",
   "metadata": {
    "id": "6TFEvxI6M_zk"
   },
   "source": [
    "- Напишите функцию, которая будет подбирать оптимальное значение порога, оптимизирующее выбранную вами метрику.\n",
    "- Подберите значение порога на валидационной выборке.\n",
    "- Сравните модель со сниппетами и без сниппетов, используя выбранную вами метрику при оптимальном значении порога на тестовой выборке.\n",
    "- Какая из них оказалась лучше?"
   ]
  },
  {
   "cell_type": "code",
   "execution_count": 58,
   "metadata": {
    "execution": {
     "iopub.execute_input": "2024-12-14T00:02:02.993863Z",
     "iopub.status.busy": "2024-12-14T00:02:02.993585Z",
     "iopub.status.idle": "2024-12-14T00:02:03.002719Z",
     "shell.execute_reply": "2024-12-14T00:02:03.001944Z",
     "shell.execute_reply.started": "2024-12-14T00:02:02.993833Z"
    },
    "id": "BCq67JmUM_zl"
   },
   "outputs": [],
   "source": [
    "def threshold_getter(y_pred, target, threshold = 0):\n",
    "    result = 0\n",
    "    step = 0.01\n",
    "    best_threshold = 0\n",
    "    while threshold < 1:\n",
    "        threshold += step\n",
    "        y_predicted = 1*(y_pred > threshold)\n",
    "        func_result = precision(target, y_predicted)\n",
    "        if func_result > result:\n",
    "            best_threshold = threshold\n",
    "            best_metrics = func_result\n",
    "            result = best_metrics\n",
    "    else:\n",
    "        return best_threshold, best_metrics\n",
    "    \n",
    "        "
   ]
  },
  {
   "cell_type": "code",
   "execution_count": 59,
   "metadata": {
    "execution": {
     "iopub.execute_input": "2024-12-14T00:02:03.004010Z",
     "iopub.status.busy": "2024-12-14T00:02:03.003728Z",
     "iopub.status.idle": "2024-12-14T00:04:29.436928Z",
     "shell.execute_reply": "2024-12-14T00:04:29.435940Z",
     "shell.execute_reply.started": "2024-12-14T00:02:03.003980Z"
    }
   },
   "outputs": [
    {
     "name": "stdout",
     "output_type": "stream",
     "text": [
      "0.12999999999999998 0.7282053232192993\n"
     ]
    }
   ],
   "source": [
    "y_pred, target = get_predict(model_baseline, val_dataset)\n",
    "threshold, func_result = threshold_getter(y_pred, target)\n",
    "print(threshold, func_result) # не совсем понимаю причину, но изначально функция насчитала мне результат 0.12, поэтому в дальнейшем в коде \n",
    "#я использовал это значение. Но почему-то при повторном запуске функции результат стал 0.129..."
   ]
  },
  {
   "cell_type": "code",
   "execution_count": null,
   "metadata": {
    "execution": {
     "iopub.status.busy": "2024-12-14T13:18:40.808273Z",
     "iopub.status.idle": "2024-12-14T13:18:40.808618Z",
     "shell.execute_reply": "2024-12-14T13:18:40.808473Z",
     "shell.execute_reply.started": "2024-12-14T13:18:40.808456Z"
    }
   },
   "outputs": [],
   "source": [
    "def get_predict_updated(model, dataset):\n",
    "    dataloader = DataLoader(dataset, shuffle=False, batch_size=dataset.__len__())\n",
    "    model = model.to(device)\n",
    "    for title, snippet, target in dataloader:\n",
    "        title = title.to(device) \n",
    "        snippet = snippet.to(device)\n",
    "        target = target.to(device)\n",
    "        logit = model(title, snippet )\n",
    "        pred_prob = F.softmax(logit, dim=1)\n",
    "\n",
    "    assert pred_prob.shape[0] == dataset.__len__()\n",
    "    return pred_prob, target"
   ]
  },
  {
   "cell_type": "code",
   "execution_count": 61,
   "metadata": {
    "execution": {
     "iopub.execute_input": "2024-12-14T00:04:29.446815Z",
     "iopub.status.busy": "2024-12-14T00:04:29.446479Z",
     "iopub.status.idle": "2024-12-14T00:04:31.092207Z",
     "shell.execute_reply": "2024-12-14T00:04:31.091338Z",
     "shell.execute_reply.started": "2024-12-14T00:04:29.446778Z"
    }
   },
   "outputs": [
    {
     "data": {
      "text/plain": [
       "0.7003639936447144"
      ]
     },
     "execution_count": 61,
     "metadata": {},
     "output_type": "execute_result"
    }
   ],
   "source": [
    "best_threshold = 0.12\n",
    "pred_prob, target = get_predict_updated(model, val_dataset2)\n",
    "y_pred = 1*(pred_prob > best_threshold)\n",
    "precision(target, y_pred)"
   ]
  },
  {
   "cell_type": "markdown",
   "metadata": {},
   "source": [
    "Модели показали очень близкие результаты (72% и 70%), однако чуть более результативной оказалась изначальная модель, не использующая сниппеты."
   ]
  },
  {
   "cell_type": "markdown",
   "metadata": {
    "id": "o-QRc-UXM_zl"
   },
   "source": [
    "__[0.5 балла] Задание 6:__  Постройте прогнозы для отложенной выборки, которая представляет из себя пересечение сайта РИА-новостей и ВКонтакте. Проседает ли на ней качество модели? Насколько сильно?"
   ]
  },
  {
   "cell_type": "code",
   "execution_count": 62,
   "metadata": {
    "colab": {
     "base_uri": "https://localhost:8080/",
     "height": 206
    },
    "execution": {
     "iopub.execute_input": "2024-12-14T00:04:31.093725Z",
     "iopub.status.busy": "2024-12-14T00:04:31.093355Z",
     "iopub.status.idle": "2024-12-14T00:04:31.105418Z",
     "shell.execute_reply": "2024-12-14T00:04:31.104673Z",
     "shell.execute_reply.started": "2024-12-14T00:04:31.093686Z"
    },
    "id": "3Tc02SgLM_zl",
    "outputId": "5525c33a-b896-47bb-f9d5-9fb9c87f06f7"
   },
   "outputs": [
    {
     "data": {
      "text/html": [
       "<div>\n",
       "<style scoped>\n",
       "    .dataframe tbody tr th:only-of-type {\n",
       "        vertical-align: middle;\n",
       "    }\n",
       "\n",
       "    .dataframe tbody tr th {\n",
       "        vertical-align: top;\n",
       "    }\n",
       "\n",
       "    .dataframe thead th {\n",
       "        text-align: right;\n",
       "    }\n",
       "</style>\n",
       "<table border=\"1\" class=\"dataframe\">\n",
       "  <thead>\n",
       "    <tr style=\"text-align: right;\">\n",
       "      <th></th>\n",
       "      <th>href</th>\n",
       "      <th>title_clean</th>\n",
       "      <th>target_tags</th>\n",
       "    </tr>\n",
       "  </thead>\n",
       "  <tbody>\n",
       "    <tr>\n",
       "      <th>0</th>\n",
       "      <td>/20181231/1548960744.html</td>\n",
       "      <td>митрополит рязанский раскритиковал иронию судьбы</td>\n",
       "      <td>[241]</td>\n",
       "    </tr>\n",
       "    <tr>\n",
       "      <th>1</th>\n",
       "      <td>/20181231/1548958617.html</td>\n",
       "      <td>на украине позавидовали стене на границе с крымом</td>\n",
       "      <td>[1110, 1574]</td>\n",
       "    </tr>\n",
       "    <tr>\n",
       "      <th>2</th>\n",
       "      <td>/20181231/1548957394.html</td>\n",
       "      <td>в госдуме предложили отказаться от газа в жилы...</td>\n",
       "      <td>[183, 183, 578, 1235, 1325]</td>\n",
       "    </tr>\n",
       "    <tr>\n",
       "      <th>3</th>\n",
       "      <td>/20181231/1548954909.html</td>\n",
       "      <td>названы лучшие средства от похмелья</td>\n",
       "      <td>[241]</td>\n",
       "    </tr>\n",
       "    <tr>\n",
       "      <th>4</th>\n",
       "      <td>/20181231/1548957120.html</td>\n",
       "      <td>новогоднее поздравление порошенко разозлило по...</td>\n",
       "      <td>[1110, 1574]</td>\n",
       "    </tr>\n",
       "  </tbody>\n",
       "</table>\n",
       "</div>"
      ],
      "text/plain": [
       "                        href  \\\n",
       "0  /20181231/1548960744.html   \n",
       "1  /20181231/1548958617.html   \n",
       "2  /20181231/1548957394.html   \n",
       "3  /20181231/1548954909.html   \n",
       "4  /20181231/1548957120.html   \n",
       "\n",
       "                                         title_clean  \\\n",
       "0   митрополит рязанский раскритиковал иронию судьбы   \n",
       "1  на украине позавидовали стене на границе с крымом   \n",
       "2  в госдуме предложили отказаться от газа в жилы...   \n",
       "3                названы лучшие средства от похмелья   \n",
       "4  новогоднее поздравление порошенко разозлило по...   \n",
       "\n",
       "                   target_tags  \n",
       "0                        [241]  \n",
       "1                 [1110, 1574]  \n",
       "2  [183, 183, 578, 1235, 1325]  \n",
       "3                        [241]  \n",
       "4                 [1110, 1574]  "
      ]
     },
     "execution_count": 62,
     "metadata": {},
     "output_type": "execute_result"
    }
   ],
   "source": [
    "df_oob.head() "
   ]
  },
  {
   "cell_type": "code",
   "execution_count": 63,
   "metadata": {
    "execution": {
     "iopub.execute_input": "2024-12-14T00:04:31.106673Z",
     "iopub.status.busy": "2024-12-14T00:04:31.106421Z",
     "iopub.status.idle": "2024-12-14T00:04:31.303025Z",
     "shell.execute_reply": "2024-12-14T00:04:31.302358Z",
     "shell.execute_reply.started": "2024-12-14T00:04:31.106648Z"
    },
    "id": "1Z5AvLtcM_zl"
   },
   "outputs": [],
   "source": [
    "oob_dataset = NewsDataset(df_oob.target_tags.values, df_oob.title_clean.values, vocabulary, VOCAB_SIZE, MAX_TITLE_LEN, CLASSES_NUM )"
   ]
  },
  {
   "cell_type": "code",
   "execution_count": 64,
   "metadata": {
    "execution": {
     "iopub.execute_input": "2024-12-14T00:04:31.304470Z",
     "iopub.status.busy": "2024-12-14T00:04:31.304168Z",
     "iopub.status.idle": "2024-12-14T00:04:31.366669Z",
     "shell.execute_reply": "2024-12-14T00:04:31.365750Z",
     "shell.execute_reply.started": "2024-12-14T00:04:31.304443Z"
    }
   },
   "outputs": [
    {
     "data": {
      "text/plain": [
       "0.5524238348007202"
      ]
     },
     "execution_count": 64,
     "metadata": {},
     "output_type": "execute_result"
    }
   ],
   "source": [
    "pred_prob, target = get_predict(model_baseline, oob_dataset)\n",
    "best_threshold = 0.12\n",
    "y_pred = 1*(pred_prob > best_threshold)\n",
    "precision(target, y_pred)"
   ]
  },
  {
   "cell_type": "markdown",
   "metadata": {},
   "source": [
    "Точность просела на 18% "
   ]
  },
  {
   "cell_type": "markdown",
   "metadata": {},
   "source": []
  },
  {
   "cell_type": "markdown",
   "metadata": {
    "id": "EmFzWAHtM_zl"
   },
   "source": [
    "Давайте модернизируем наши архитектуры настолько, насколько это возможно.\n",
    "\n",
    "__[0.9 балла] Бонусное задание 1:__ Попробуйте собрать более большую архитектуру. Например, сразу после слоя эмбеддингов вы можете попробовать добавить свёрточные слои (`Conv1D` свёртки). Поиграйте с оптимизатором и тп.\n",
    "\n",
    "Опишите результаты своих экспериментов ниже. Расскажите, что конкретно вы делали и удалось ли вам улучшить качество модели. Все траектории обучения залоггируйте на WandB.   "
   ]
  },
  {
   "cell_type": "markdown",
   "metadata": {
    "id": "obvk588CM_zl"
   },
   "source": [
    "__Ваш лог экспериментов:__\n",
    "\n",
    "-\n",
    "-\n",
    "-"
   ]
  },
  {
   "cell_type": "code",
   "execution_count": 65,
   "metadata": {
    "execution": {
     "iopub.execute_input": "2024-12-14T00:04:31.368061Z",
     "iopub.status.busy": "2024-12-14T00:04:31.367777Z",
     "iopub.status.idle": "2024-12-14T00:04:31.371921Z",
     "shell.execute_reply": "2024-12-14T00:04:31.371019Z",
     "shell.execute_reply.started": "2024-12-14T00:04:31.368034Z"
    },
    "id": "mII3wWHOM_zl"
   },
   "outputs": [],
   "source": [
    "# your code here\n",
    "# (⊙_⊙)"
   ]
  },
  {
   "cell_type": "markdown",
   "metadata": {
    "id": "7kMKmn72M_zl"
   },
   "source": [
    "__[0.9 балла] Бонусное задание 2:__ Скачайте с сайта [Rusvectores](https://rusvectores.org/ru/models/) любые новостные word2vec эмбединги. Возьмите из модели эмбеддинги для всех слов, которые встречаются вв вашем словаре и добавьте их в модель первым слоем. Заморозьте этот слой и не обновляйте в нём веса. Если у вас в словаре есть слово, но его нет среди предобученных эмбеддингов, замените его на токен `#UNKN`."
   ]
  },
  {
   "cell_type": "markdown",
   "metadata": {
    "id": "k9ldlZ5gM_zl"
   },
   "source": [
    "__Ваш лог экспериментов:__\n",
    "\n",
    "-\n",
    "-\n",
    "-"
   ]
  },
  {
   "cell_type": "code",
   "execution_count": 66,
   "metadata": {
    "execution": {
     "iopub.execute_input": "2024-12-14T00:04:31.373269Z",
     "iopub.status.busy": "2024-12-14T00:04:31.372939Z",
     "iopub.status.idle": "2024-12-14T00:04:31.379569Z",
     "shell.execute_reply": "2024-12-14T00:04:31.378832Z",
     "shell.execute_reply.started": "2024-12-14T00:04:31.373221Z"
    },
    "id": "XoIlDPe0M_zl"
   },
   "outputs": [],
   "source": [
    "# your code here\n",
    "# =^･ｪ･^="
   ]
  },
  {
   "cell_type": "markdown",
   "metadata": {
    "id": "w8ziz2ATM_zl"
   },
   "source": [
    "__[1.5 балла] Задание 7:__ Зафайнтьюньте трансформер для решения задачи с помощью библиотеки `hugging face`. Выбор предобученной модели кратко обоснуйте."
   ]
  },
  {
   "cell_type": "markdown",
   "metadata": {
    "id": "GoVv-AS4M_zl"
   },
   "source": [
    "__Ваш лог экспериментов:__\n",
    "\n",
    "-\n",
    "-\n",
    "-"
   ]
  },
  {
   "cell_type": "code",
   "execution_count": 67,
   "metadata": {
    "execution": {
     "iopub.execute_input": "2024-12-14T00:04:31.380802Z",
     "iopub.status.busy": "2024-12-14T00:04:31.380555Z",
     "iopub.status.idle": "2024-12-14T00:04:31.388748Z",
     "shell.execute_reply": "2024-12-14T00:04:31.387959Z",
     "shell.execute_reply.started": "2024-12-14T00:04:31.380778Z"
    },
    "id": "Dg02xRLrM_zl"
   },
   "outputs": [],
   "source": [
    "# your code here\n",
    "# ٩(ˊ〇ˋ*)و\n"
   ]
  },
  {
   "cell_type": "markdown",
   "metadata": {
    "id": "vt8mcUllUmM8"
   },
   "source": [
    "Сравните все обученные модели между собой на тестовой выборке."
   ]
  },
  {
   "cell_type": "code",
   "execution_count": 68,
   "metadata": {
    "execution": {
     "iopub.execute_input": "2024-12-14T00:04:31.390072Z",
     "iopub.status.busy": "2024-12-14T00:04:31.389745Z",
     "iopub.status.idle": "2024-12-14T00:04:31.399566Z",
     "shell.execute_reply": "2024-12-14T00:04:31.398855Z",
     "shell.execute_reply.started": "2024-12-14T00:04:31.390035Z"
    },
    "id": "Kq-sVD7HUkz3"
   },
   "outputs": [],
   "source": [
    "# your code here\n",
    "# (⌐■_■)"
   ]
  },
  {
   "cell_type": "code",
   "execution_count": 69,
   "metadata": {
    "execution": {
     "iopub.execute_input": "2024-12-14T00:04:31.400806Z",
     "iopub.status.busy": "2024-12-14T00:04:31.400529Z",
     "iopub.status.idle": "2024-12-14T00:04:31.408198Z",
     "shell.execute_reply": "2024-12-14T00:04:31.407483Z",
     "shell.execute_reply.started": "2024-12-14T00:04:31.400780Z"
    }
   },
   "outputs": [],
   "source": [
    "#torch.save(model.state_dict(), 'model_weights.pth')"
   ]
  },
  {
   "cell_type": "markdown",
   "metadata": {
    "id": "SoCALHfJM_zm"
   },
   "source": [
    "## Часть 2: предсказание категорий (0.5 балла)\n",
    "\n",
    "**[0.5 балла] Задание 8:** Возьмите датасет `df_vk` и для всех новостей из него предскажите категории с помощью лучшей, получившейся у вас модели."
   ]
  },
  {
   "cell_type": "code",
   "execution_count": 70,
   "metadata": {
    "execution": {
     "iopub.execute_input": "2024-12-14T00:04:31.409457Z",
     "iopub.status.busy": "2024-12-14T00:04:31.409158Z",
     "iopub.status.idle": "2024-12-14T00:04:31.416598Z",
     "shell.execute_reply": "2024-12-14T00:04:31.415868Z",
     "shell.execute_reply.started": "2024-12-14T00:04:31.409428Z"
    }
   },
   "outputs": [],
   "source": [
    "#model = model.load_state_dict(torch.load('model_weights.pth'))"
   ]
  },
  {
   "cell_type": "code",
   "execution_count": 73,
   "metadata": {
    "execution": {
     "iopub.execute_input": "2024-12-14T00:06:55.434661Z",
     "iopub.status.busy": "2024-12-14T00:06:55.434239Z",
     "iopub.status.idle": "2024-12-14T00:07:00.261894Z",
     "shell.execute_reply": "2024-12-14T00:07:00.261147Z",
     "shell.execute_reply.started": "2024-12-14T00:06:55.434629Z"
    },
    "id": "99fmOzZUM_zm"
   },
   "outputs": [],
   "source": [
    "MAX_SNIPPET_LEN = 150\n",
    "df_vk['target_tags'] = [[0]]*df_vk.shape[0]\n",
    "vk_dataset = NewsDataset(df_vk.target_tags.values, df_vk.title_clean.values, vocabulary, VOCAB_SIZE, MAX_TITLE_LEN, CLASSES_NUM, df_vk.snippet_clean.values, MAX_SNIPPET_LEN )\n",
    "pred_prod, _ = get_predict_updated(model, vk_dataset)"
   ]
  },
  {
   "cell_type": "code",
   "execution_count": 75,
   "metadata": {
    "execution": {
     "iopub.execute_input": "2024-12-14T00:08:11.335313Z",
     "iopub.status.busy": "2024-12-14T00:08:11.334598Z",
     "iopub.status.idle": "2024-12-14T00:08:11.341917Z",
     "shell.execute_reply": "2024-12-14T00:08:11.341077Z",
     "shell.execute_reply.started": "2024-12-14T00:08:11.335268Z"
    }
   },
   "outputs": [],
   "source": [
    "threshold = 0.12\n",
    "y_pred = 1*(pred_prod > threshold)\n",
    "df_vk['Decoding'] = [[0]]*df_vk.shape[0]"
   ]
  },
  {
   "cell_type": "code",
   "execution_count": 80,
   "metadata": {
    "execution": {
     "iopub.execute_input": "2024-12-14T00:22:51.244040Z",
     "iopub.status.busy": "2024-12-14T00:22:51.243723Z",
     "iopub.status.idle": "2024-12-14T00:22:52.977810Z",
     "shell.execute_reply": "2024-12-14T00:22:52.976892Z",
     "shell.execute_reply.started": "2024-12-14T00:22:51.244013Z"
    }
   },
   "outputs": [
    {
     "data": {
      "text/html": [
       "<div>\n",
       "<style scoped>\n",
       "    .dataframe tbody tr th:only-of-type {\n",
       "        vertical-align: middle;\n",
       "    }\n",
       "\n",
       "    .dataframe tbody tr th {\n",
       "        vertical-align: top;\n",
       "    }\n",
       "\n",
       "    .dataframe thead th {\n",
       "        text-align: right;\n",
       "    }\n",
       "</style>\n",
       "<table border=\"1\" class=\"dataframe\">\n",
       "  <thead>\n",
       "    <tr style=\"text-align: right;\">\n",
       "      <th></th>\n",
       "      <th>id</th>\n",
       "      <th>href</th>\n",
       "      <th>datetime</th>\n",
       "      <th>title</th>\n",
       "      <th>likes</th>\n",
       "      <th>comments</th>\n",
       "      <th>snippet</th>\n",
       "      <th>title_clean</th>\n",
       "      <th>snippet_clean</th>\n",
       "      <th>target_tags</th>\n",
       "      <th>Decoding</th>\n",
       "    </tr>\n",
       "  </thead>\n",
       "  <tbody>\n",
       "    <tr>\n",
       "      <th>0</th>\n",
       "      <td>24006362</td>\n",
       "      <td>/20190201/1550280358.html</td>\n",
       "      <td>2019-02-01 23:13:17</td>\n",
       "      <td>в днр заявили о задержании диверсантов, причас...</td>\n",
       "      <td>15</td>\n",
       "      <td>28</td>\n",
       "      <td>#UNKN</td>\n",
       "      <td>в днр заявили о задержании диверсантов причаст...</td>\n",
       "      <td>#UNKN</td>\n",
       "      <td>[1203, 1574]</td>\n",
       "      <td>[спорт, в мире]</td>\n",
       "    </tr>\n",
       "    <tr>\n",
       "      <th>1</th>\n",
       "      <td>24006240</td>\n",
       "      <td>/20190201/1550268781.html</td>\n",
       "      <td>2019-02-01 22:38:41</td>\n",
       "      <td>житель урала \"заминировал\" тц из-за снятия  со...</td>\n",
       "      <td>32</td>\n",
       "      <td>42</td>\n",
       "      <td>#UNKN</td>\n",
       "      <td>житель урала заминировал тц изза снятия  сотов...</td>\n",
       "      <td>#UNKN</td>\n",
       "      <td>[1291]</td>\n",
       "      <td>[новости - недвижимость]</td>\n",
       "    </tr>\n",
       "    <tr>\n",
       "      <th>2</th>\n",
       "      <td>24006100</td>\n",
       "      <td>/20190201/1550282212.html</td>\n",
       "      <td>2019-02-01 21:58:52</td>\n",
       "      <td>в черном море нашли \"потерянный флот гитлера\"</td>\n",
       "      <td>84</td>\n",
       "      <td>23</td>\n",
       "      <td>#UNKN</td>\n",
       "      <td>в черном море нашли потерянный флот гитлера</td>\n",
       "      <td>#UNKN</td>\n",
       "      <td>[]</td>\n",
       "      <td>[]</td>\n",
       "    </tr>\n",
       "    <tr>\n",
       "      <th>3</th>\n",
       "      <td>24005972</td>\n",
       "      <td>/20190202/1550283179.html</td>\n",
       "      <td>2019-02-01 21:27:06</td>\n",
       "      <td>в сша освободили задержанную российскую актрис...</td>\n",
       "      <td>58</td>\n",
       "      <td>35</td>\n",
       "      <td>#UNKN</td>\n",
       "      <td>в сша освободили задержанную российскую актрис...</td>\n",
       "      <td>#UNKN</td>\n",
       "      <td>[1235]</td>\n",
       "      <td>[россия]</td>\n",
       "    </tr>\n",
       "    <tr>\n",
       "      <th>4</th>\n",
       "      <td>24005764</td>\n",
       "      <td>/20190201/1550262848.html</td>\n",
       "      <td>2019-02-01 20:55:54</td>\n",
       "      <td>толкнувший скабееву депутат рады заявил о гроз...</td>\n",
       "      <td>45</td>\n",
       "      <td>145</td>\n",
       "      <td>#UNKN</td>\n",
       "      <td>толкнувший скабееву депутат рады заявил о гроз...</td>\n",
       "      <td>#UNKN</td>\n",
       "      <td>[]</td>\n",
       "      <td>[]</td>\n",
       "    </tr>\n",
       "    <tr>\n",
       "      <th>5</th>\n",
       "      <td>24005669</td>\n",
       "      <td>/20190201/1550256715.html</td>\n",
       "      <td>2019-02-01 20:43:42</td>\n",
       "      <td>жительница белгорода перевела мошенникам 43 ми...</td>\n",
       "      <td>79</td>\n",
       "      <td>155</td>\n",
       "      <td>#UNKN</td>\n",
       "      <td>жительница белгорода перевела мошенникам 43 ми...</td>\n",
       "      <td>#UNKN</td>\n",
       "      <td>[1203]</td>\n",
       "      <td>[спорт]</td>\n",
       "    </tr>\n",
       "    <tr>\n",
       "      <th>6</th>\n",
       "      <td>24005531</td>\n",
       "      <td>/20190201/1550266666.html</td>\n",
       "      <td>2019-02-01 20:20:22</td>\n",
       "      <td>в подмосковье врачи спасли руку пациента, пере...</td>\n",
       "      <td>155</td>\n",
       "      <td>47</td>\n",
       "      <td>#UNKN</td>\n",
       "      <td>в подмосковье врачи спасли руку пациента перес...</td>\n",
       "      <td>#UNKN</td>\n",
       "      <td>[830, 1291]</td>\n",
       "      <td>[московская область, новости - недвижимость]</td>\n",
       "    </tr>\n",
       "    <tr>\n",
       "      <th>7</th>\n",
       "      <td>24005400</td>\n",
       "      <td>/20190201/1550280682.html</td>\n",
       "      <td>2019-02-01 19:53:43</td>\n",
       "      <td>трамп хочет заключить новый договор на смену д...</td>\n",
       "      <td>45</td>\n",
       "      <td>72</td>\n",
       "      <td>#UNKN</td>\n",
       "      <td>трамп хочет заключить новый договор на смену д...</td>\n",
       "      <td>#UNKN</td>\n",
       "      <td>[1479]</td>\n",
       "      <td>[сша]</td>\n",
       "    </tr>\n",
       "    <tr>\n",
       "      <th>8</th>\n",
       "      <td>24005074</td>\n",
       "      <td>/20190201/1550257362.html</td>\n",
       "      <td>2019-02-01 19:02:05</td>\n",
       "      <td>лукашенко поручил убрать из школьных программ ...</td>\n",
       "      <td>144</td>\n",
       "      <td>151</td>\n",
       "      <td>#UNKN</td>\n",
       "      <td>лукашенко поручил убрать из школьных программ ...</td>\n",
       "      <td>#UNKN</td>\n",
       "      <td>[1235, 1291]</td>\n",
       "      <td>[россия, новости - недвижимость]</td>\n",
       "    </tr>\n",
       "    <tr>\n",
       "      <th>9</th>\n",
       "      <td>24004899</td>\n",
       "      <td>https://rsport.ria.ru/20190201/1550277848.html</td>\n",
       "      <td>2019-02-01 18:35:07</td>\n",
       "      <td>сборная россии вышла в финал чемпионата мира п...</td>\n",
       "      <td>407</td>\n",
       "      <td>55</td>\n",
       "      <td>#UNKN</td>\n",
       "      <td>сборная россии вышла в финал чемпионата мира п...</td>\n",
       "      <td>#UNKN</td>\n",
       "      <td>[343, 1442]</td>\n",
       "      <td>[другие виды спорта, хоккей с мячом]</td>\n",
       "    </tr>\n",
       "    <tr>\n",
       "      <th>10</th>\n",
       "      <td>24004566</td>\n",
       "      <td>/20190201/1550278641.html</td>\n",
       "      <td>2019-02-01 17:55:40</td>\n",
       "      <td>в сша задержали актрису ирину усок по подозрен...</td>\n",
       "      <td>38</td>\n",
       "      <td>88</td>\n",
       "      <td>#UNKN</td>\n",
       "      <td>в сша задержали актрису ирину усок по подозрен...</td>\n",
       "      <td>#UNKN</td>\n",
       "      <td>[]</td>\n",
       "      <td>[]</td>\n",
       "    </tr>\n",
       "    <tr>\n",
       "      <th>11</th>\n",
       "      <td>24004512</td>\n",
       "      <td>https://rsport.ria.ru/20190201/1550269606.html</td>\n",
       "      <td>2019-02-01 17:49:02</td>\n",
       "      <td>иван ухов будет лишен олимпийского золота из-з...</td>\n",
       "      <td>36</td>\n",
       "      <td>68</td>\n",
       "      <td>#UNKN</td>\n",
       "      <td>иван ухов будет лишен олимпийского золота изза...</td>\n",
       "      <td>#UNKN</td>\n",
       "      <td>[1203]</td>\n",
       "      <td>[спорт]</td>\n",
       "    </tr>\n",
       "    <tr>\n",
       "      <th>12</th>\n",
       "      <td>24004064</td>\n",
       "      <td>/20190201/1550276606.html</td>\n",
       "      <td>2019-02-01 17:07:12</td>\n",
       "      <td>в кабо-верде задержали 11 российских моряков</td>\n",
       "      <td>89</td>\n",
       "      <td>144</td>\n",
       "      <td>#UNKN</td>\n",
       "      <td>в кабоверде задержали 11 российских моряков</td>\n",
       "      <td>#UNKN</td>\n",
       "      <td>[1235]</td>\n",
       "      <td>[россия]</td>\n",
       "    </tr>\n",
       "    <tr>\n",
       "      <th>13</th>\n",
       "      <td>24003830</td>\n",
       "      <td>/20190201/1550274258.html</td>\n",
       "      <td>2019-02-01 16:43:19</td>\n",
       "      <td>шесть студентов мгу задержали по подозрению в ...</td>\n",
       "      <td>143</td>\n",
       "      <td>70</td>\n",
       "      <td>#UNKN</td>\n",
       "      <td>шесть студентов мгу задержали по подозрению в ...</td>\n",
       "      <td>#UNKN</td>\n",
       "      <td>[]</td>\n",
       "      <td>[]</td>\n",
       "    </tr>\n",
       "    <tr>\n",
       "      <th>14</th>\n",
       "      <td>24003306</td>\n",
       "      <td>/20190201/1550266886.html</td>\n",
       "      <td>2019-02-01 15:44:06</td>\n",
       "      <td>ученые из санкт-петербурга создали \"нано-килле...</td>\n",
       "      <td>270</td>\n",
       "      <td>127</td>\n",
       "      <td>#UNKN</td>\n",
       "      <td>ученые из санктпетербурга создали нанокиллеров...</td>\n",
       "      <td>#UNKN</td>\n",
       "      <td>[]</td>\n",
       "      <td>[]</td>\n",
       "    </tr>\n",
       "    <tr>\n",
       "      <th>15</th>\n",
       "      <td>24002870</td>\n",
       "      <td>/20190201/1550259302.html</td>\n",
       "      <td>2019-02-01 15:07:51</td>\n",
       "      <td>\"хаббл\" открыл древнейшую галактику вселенной ...</td>\n",
       "      <td>167</td>\n",
       "      <td>145</td>\n",
       "      <td>#UNKN</td>\n",
       "      <td>хаббл открыл древнейшую галактику вселенной ря...</td>\n",
       "      <td>#UNKN</td>\n",
       "      <td>[]</td>\n",
       "      <td>[]</td>\n",
       "    </tr>\n",
       "    <tr>\n",
       "      <th>16</th>\n",
       "      <td>24002305</td>\n",
       "      <td>/20190201/1550262673.html</td>\n",
       "      <td>2019-02-01 14:21:24</td>\n",
       "      <td>главврач тутаевской црб ответил пациентам, наз...</td>\n",
       "      <td>184</td>\n",
       "      <td>256</td>\n",
       "      <td>ранее в соцсетях появились кадры, на которых з...</td>\n",
       "      <td>главврач тутаевской црб ответил пациентам назв...</td>\n",
       "      <td>ранее в соцсетях появились кадры на которых за...</td>\n",
       "      <td>[1235]</td>\n",
       "      <td>[россия]</td>\n",
       "    </tr>\n",
       "    <tr>\n",
       "      <th>17</th>\n",
       "      <td>24002009</td>\n",
       "      <td>/20190201/1550259935.html</td>\n",
       "      <td>2019-02-01 14:02:47</td>\n",
       "      <td>назван богатейший человек в истории</td>\n",
       "      <td>84</td>\n",
       "      <td>103</td>\n",
       "      <td>#UNKN</td>\n",
       "      <td>назван богатейший человек в истории</td>\n",
       "      <td>#UNKN</td>\n",
       "      <td>[1271]</td>\n",
       "      <td>[карикатуры]</td>\n",
       "    </tr>\n",
       "    <tr>\n",
       "      <th>18</th>\n",
       "      <td>24001760</td>\n",
       "      <td>/20190201/1550264316.html</td>\n",
       "      <td>2019-02-01 13:45:03</td>\n",
       "      <td>сша 2 февраля приостановят выполнение дрсмд</td>\n",
       "      <td>64</td>\n",
       "      <td>200</td>\n",
       "      <td>#UNKN</td>\n",
       "      <td>сша 2 февраля приостановят выполнение дрсмд</td>\n",
       "      <td>#UNKN</td>\n",
       "      <td>[1235, 1479]</td>\n",
       "      <td>[россия, сша]</td>\n",
       "    </tr>\n",
       "    <tr>\n",
       "      <th>19</th>\n",
       "      <td>24001412</td>\n",
       "      <td>/20190201/1550261507.html</td>\n",
       "      <td>2019-02-01 13:20:27</td>\n",
       "      <td>сурки из самарского зоопарка предсказали ранню...</td>\n",
       "      <td>253</td>\n",
       "      <td>83</td>\n",
       "      <td>#UNKN</td>\n",
       "      <td>сурки из самарского зоопарка предсказали ранню...</td>\n",
       "      <td>#UNKN</td>\n",
       "      <td>[]</td>\n",
       "      <td>[]</td>\n",
       "    </tr>\n",
       "  </tbody>\n",
       "</table>\n",
       "</div>"
      ],
      "text/plain": [
       "          id                                            href  \\\n",
       "0   24006362                       /20190201/1550280358.html   \n",
       "1   24006240                       /20190201/1550268781.html   \n",
       "2   24006100                       /20190201/1550282212.html   \n",
       "3   24005972                       /20190202/1550283179.html   \n",
       "4   24005764                       /20190201/1550262848.html   \n",
       "5   24005669                       /20190201/1550256715.html   \n",
       "6   24005531                       /20190201/1550266666.html   \n",
       "7   24005400                       /20190201/1550280682.html   \n",
       "8   24005074                       /20190201/1550257362.html   \n",
       "9   24004899  https://rsport.ria.ru/20190201/1550277848.html   \n",
       "10  24004566                       /20190201/1550278641.html   \n",
       "11  24004512  https://rsport.ria.ru/20190201/1550269606.html   \n",
       "12  24004064                       /20190201/1550276606.html   \n",
       "13  24003830                       /20190201/1550274258.html   \n",
       "14  24003306                       /20190201/1550266886.html   \n",
       "15  24002870                       /20190201/1550259302.html   \n",
       "16  24002305                       /20190201/1550262673.html   \n",
       "17  24002009                       /20190201/1550259935.html   \n",
       "18  24001760                       /20190201/1550264316.html   \n",
       "19  24001412                       /20190201/1550261507.html   \n",
       "\n",
       "               datetime                                              title  \\\n",
       "0   2019-02-01 23:13:17  в днр заявили о задержании диверсантов, причас...   \n",
       "1   2019-02-01 22:38:41  житель урала \"заминировал\" тц из-за снятия  со...   \n",
       "2   2019-02-01 21:58:52      в черном море нашли \"потерянный флот гитлера\"   \n",
       "3   2019-02-01 21:27:06  в сша освободили задержанную российскую актрис...   \n",
       "4   2019-02-01 20:55:54  толкнувший скабееву депутат рады заявил о гроз...   \n",
       "5   2019-02-01 20:43:42  жительница белгорода перевела мошенникам 43 ми...   \n",
       "6   2019-02-01 20:20:22  в подмосковье врачи спасли руку пациента, пере...   \n",
       "7   2019-02-01 19:53:43  трамп хочет заключить новый договор на смену д...   \n",
       "8   2019-02-01 19:02:05  лукашенко поручил убрать из школьных программ ...   \n",
       "9   2019-02-01 18:35:07  сборная россии вышла в финал чемпионата мира п...   \n",
       "10  2019-02-01 17:55:40  в сша задержали актрису ирину усок по подозрен...   \n",
       "11  2019-02-01 17:49:02  иван ухов будет лишен олимпийского золота из-з...   \n",
       "12  2019-02-01 17:07:12       в кабо-верде задержали 11 российских моряков   \n",
       "13  2019-02-01 16:43:19  шесть студентов мгу задержали по подозрению в ...   \n",
       "14  2019-02-01 15:44:06  ученые из санкт-петербурга создали \"нано-килле...   \n",
       "15  2019-02-01 15:07:51  \"хаббл\" открыл древнейшую галактику вселенной ...   \n",
       "16  2019-02-01 14:21:24  главврач тутаевской црб ответил пациентам, наз...   \n",
       "17  2019-02-01 14:02:47                назван богатейший человек в истории   \n",
       "18  2019-02-01 13:45:03        сша 2 февраля приостановят выполнение дрсмд   \n",
       "19  2019-02-01 13:20:27  сурки из самарского зоопарка предсказали ранню...   \n",
       "\n",
       "    likes  comments                                            snippet  \\\n",
       "0      15        28                                              #UNKN   \n",
       "1      32        42                                              #UNKN   \n",
       "2      84        23                                              #UNKN   \n",
       "3      58        35                                              #UNKN   \n",
       "4      45       145                                              #UNKN   \n",
       "5      79       155                                              #UNKN   \n",
       "6     155        47                                              #UNKN   \n",
       "7      45        72                                              #UNKN   \n",
       "8     144       151                                              #UNKN   \n",
       "9     407        55                                              #UNKN   \n",
       "10     38        88                                              #UNKN   \n",
       "11     36        68                                              #UNKN   \n",
       "12     89       144                                              #UNKN   \n",
       "13    143        70                                              #UNKN   \n",
       "14    270       127                                              #UNKN   \n",
       "15    167       145                                              #UNKN   \n",
       "16    184       256  ранее в соцсетях появились кадры, на которых з...   \n",
       "17     84       103                                              #UNKN   \n",
       "18     64       200                                              #UNKN   \n",
       "19    253        83                                              #UNKN   \n",
       "\n",
       "                                          title_clean  \\\n",
       "0   в днр заявили о задержании диверсантов причаст...   \n",
       "1   житель урала заминировал тц изза снятия  сотов...   \n",
       "2         в черном море нашли потерянный флот гитлера   \n",
       "3   в сша освободили задержанную российскую актрис...   \n",
       "4   толкнувший скабееву депутат рады заявил о гроз...   \n",
       "5   жительница белгорода перевела мошенникам 43 ми...   \n",
       "6   в подмосковье врачи спасли руку пациента перес...   \n",
       "7   трамп хочет заключить новый договор на смену д...   \n",
       "8   лукашенко поручил убрать из школьных программ ...   \n",
       "9   сборная россии вышла в финал чемпионата мира п...   \n",
       "10  в сша задержали актрису ирину усок по подозрен...   \n",
       "11  иван ухов будет лишен олимпийского золота изза...   \n",
       "12        в кабоверде задержали 11 российских моряков   \n",
       "13  шесть студентов мгу задержали по подозрению в ...   \n",
       "14  ученые из санктпетербурга создали нанокиллеров...   \n",
       "15  хаббл открыл древнейшую галактику вселенной ря...   \n",
       "16  главврач тутаевской црб ответил пациентам назв...   \n",
       "17                назван богатейший человек в истории   \n",
       "18        сша 2 февраля приостановят выполнение дрсмд   \n",
       "19  сурки из самарского зоопарка предсказали ранню...   \n",
       "\n",
       "                                        snippet_clean   target_tags  \\\n",
       "0                                               #UNKN  [1203, 1574]   \n",
       "1                                               #UNKN        [1291]   \n",
       "2                                               #UNKN            []   \n",
       "3                                               #UNKN        [1235]   \n",
       "4                                               #UNKN            []   \n",
       "5                                               #UNKN        [1203]   \n",
       "6                                               #UNKN   [830, 1291]   \n",
       "7                                               #UNKN        [1479]   \n",
       "8                                               #UNKN  [1235, 1291]   \n",
       "9                                               #UNKN   [343, 1442]   \n",
       "10                                              #UNKN            []   \n",
       "11                                              #UNKN        [1203]   \n",
       "12                                              #UNKN        [1235]   \n",
       "13                                              #UNKN            []   \n",
       "14                                              #UNKN            []   \n",
       "15                                              #UNKN            []   \n",
       "16  ранее в соцсетях появились кадры на которых за...        [1235]   \n",
       "17                                              #UNKN        [1271]   \n",
       "18                                              #UNKN  [1235, 1479]   \n",
       "19                                              #UNKN            []   \n",
       "\n",
       "                                        Decoding  \n",
       "0                                [спорт, в мире]  \n",
       "1                       [новости - недвижимость]  \n",
       "2                                             []  \n",
       "3                                       [россия]  \n",
       "4                                             []  \n",
       "5                                        [спорт]  \n",
       "6   [московская область, новости - недвижимость]  \n",
       "7                                          [сша]  \n",
       "8               [россия, новости - недвижимость]  \n",
       "9           [другие виды спорта, хоккей с мячом]  \n",
       "10                                            []  \n",
       "11                                       [спорт]  \n",
       "12                                      [россия]  \n",
       "13                                            []  \n",
       "14                                            []  \n",
       "15                                            []  \n",
       "16                                      [россия]  \n",
       "17                                  [карикатуры]  \n",
       "18                                 [россия, сша]  \n",
       "19                                            []  "
      ]
     },
     "execution_count": 80,
     "metadata": {},
     "output_type": "execute_result"
    }
   ],
   "source": [
    "for index, classes in enumerate(y_pred):\n",
    "    classes_values = np.where(np.array(classes.to(\"cpu\")) == 1)[0].tolist()\n",
    "    decoding = [idx2tag[x] for x in classes_values]\n",
    "    df_vk.at[index, \"Decoding\"] = decoding\n",
    "    df_vk.at[index, 'target_tags'] = classes_values\n",
    "df_vk.head(20)"
   ]
  },
  {
   "cell_type": "code",
   "execution_count": 81,
   "metadata": {
    "execution": {
     "iopub.execute_input": "2024-12-14T00:25:38.038057Z",
     "iopub.status.busy": "2024-12-14T00:25:38.037702Z",
     "iopub.status.idle": "2024-12-14T00:25:38.315215Z",
     "shell.execute_reply": "2024-12-14T00:25:38.314538Z",
     "shell.execute_reply.started": "2024-12-14T00:25:38.038027Z"
    }
   },
   "outputs": [],
   "source": [
    "df_vk.to_csv('/kaggle/working/df_vk_predictions.csv', index=False, encoding='utf-8')"
   ]
  },
  {
   "cell_type": "markdown",
   "metadata": {
    "id": "qpw07S0UM_zm"
   },
   "source": [
    "На всякий случай сохраните табличку с получившимися у вас предсказаниями. Мало ли, вы не доделаете последнее задание, а потом захотите вернуться к нему. Не прогонять же обучение нейросети и инференс по второму кругу..."
   ]
  },
  {
   "cell_type": "markdown",
   "metadata": {
    "id": "H_jo72yzM_zm"
   },
   "source": [
    "## Часть 3: сентимент-классификатор (1.5 балла)"
   ]
  },
  {
   "cell_type": "markdown",
   "metadata": {
    "id": "uI33vB5bM_zm"
   },
   "source": [
    "В этой части тетрадки нам предстоит прогнать все комментарии из ВК через сентимент-классификатор. Мы будем делать это с помощью библиотеки HuggingFace. В ней есть удобная [функциональность pipline,](https://huggingface.co/docs/transformers/pipeline_tutorial) чтобы прогонять на своих данных уже обученные модели. 🤗🤗🤗"
   ]
  },
  {
   "cell_type": "code",
   "execution_count": 50,
   "metadata": {
    "execution": {
     "iopub.execute_input": "2024-12-14T13:37:12.361583Z",
     "iopub.status.busy": "2024-12-14T13:37:12.360556Z",
     "iopub.status.idle": "2024-12-14T13:37:12.375709Z",
     "shell.execute_reply": "2024-12-14T13:37:12.374866Z",
     "shell.execute_reply.started": "2024-12-14T13:37:12.361531Z"
    },
    "id": "4VEwMUYxM_zm",
    "outputId": "09157c72-c06e-426b-b1a4-bd6794f849d3"
   },
   "outputs": [
    {
     "data": {
      "text/html": [
       "<div>\n",
       "<style scoped>\n",
       "    .dataframe tbody tr th:only-of-type {\n",
       "        vertical-align: middle;\n",
       "    }\n",
       "\n",
       "    .dataframe tbody tr th {\n",
       "        vertical-align: top;\n",
       "    }\n",
       "\n",
       "    .dataframe thead th {\n",
       "        text-align: right;\n",
       "    }\n",
       "</style>\n",
       "<table border=\"1\" class=\"dataframe\">\n",
       "  <thead>\n",
       "    <tr style=\"text-align: right;\">\n",
       "      <th></th>\n",
       "      <th>id</th>\n",
       "      <th>post_id</th>\n",
       "      <th>datetime</th>\n",
       "      <th>text</th>\n",
       "      <th>likes</th>\n",
       "    </tr>\n",
       "  </thead>\n",
       "  <tbody>\n",
       "    <tr>\n",
       "      <th>0</th>\n",
       "      <td>24006366.0</td>\n",
       "      <td>24006362.0</td>\n",
       "      <td>2019-02-01 23:14:14</td>\n",
       "      <td>ЧВК Вагнера?</td>\n",
       "      <td>5.0</td>\n",
       "    </tr>\n",
       "    <tr>\n",
       "      <th>1</th>\n",
       "      <td>24006370.0</td>\n",
       "      <td>24006362.0</td>\n",
       "      <td>2019-02-01 23:15:23</td>\n",
       "      <td>[id4710641|Евгений], выздоравливай.</td>\n",
       "      <td>3.0</td>\n",
       "    </tr>\n",
       "    <tr>\n",
       "      <th>2</th>\n",
       "      <td>24006371.0</td>\n",
       "      <td>24006362.0</td>\n",
       "      <td>2019-02-01 23:16:21</td>\n",
       "      <td>[id442655034|Андрей], искренне желаю этого все...</td>\n",
       "      <td>4.0</td>\n",
       "    </tr>\n",
       "    <tr>\n",
       "      <th>3</th>\n",
       "      <td>24006374.0</td>\n",
       "      <td>24006362.0</td>\n",
       "      <td>2019-02-01 23:16:38</td>\n",
       "      <td>Опять про Украину новости?</td>\n",
       "      <td>1.0</td>\n",
       "    </tr>\n",
       "    <tr>\n",
       "      <th>4</th>\n",
       "      <td>24006375.0</td>\n",
       "      <td>24006362.0</td>\n",
       "      <td>2019-02-01 23:16:40</td>\n",
       "      <td>Че такое ДНР?</td>\n",
       "      <td>2.0</td>\n",
       "    </tr>\n",
       "  </tbody>\n",
       "</table>\n",
       "</div>"
      ],
      "text/plain": [
       "           id     post_id             datetime  \\\n",
       "0  24006366.0  24006362.0  2019-02-01 23:14:14   \n",
       "1  24006370.0  24006362.0  2019-02-01 23:15:23   \n",
       "2  24006371.0  24006362.0  2019-02-01 23:16:21   \n",
       "3  24006374.0  24006362.0  2019-02-01 23:16:38   \n",
       "4  24006375.0  24006362.0  2019-02-01 23:16:40   \n",
       "\n",
       "                                                text  likes  \n",
       "0                                       ЧВК Вагнера?    5.0  \n",
       "1                [id4710641|Евгений], выздоравливай.    3.0  \n",
       "2  [id442655034|Андрей], искренне желаю этого все...    4.0  \n",
       "3                         Опять про Украину новости?    1.0  \n",
       "4                                      Че такое ДНР?    2.0  "
      ]
     },
     "execution_count": 50,
     "metadata": {},
     "output_type": "execute_result"
    }
   ],
   "source": [
    "df_comments.head()"
   ]
  },
  {
   "cell_type": "markdown",
   "metadata": {
    "id": "3gVL29D3M_zm"
   },
   "source": [
    "**[1.5 балла] Задание 9:** Для классификации комментариев на позитивные, негативные и нейтральные будем использовать [модель, о которой можно почитать по ссылке](https://huggingface.co/seara/rubert-tiny2-russian-sentiment)\n",
    "\n",
    "Ответьте на следующие вопросы:\n",
    "\n",
    "1. Как зовут автора модели? Сергей Сметанин\n",
    "2. Как выглядит архитектура модели? Насколько модель большая? Используется BERT модель. Словарь включает 80 тысяч токенов.\n",
    "   \n",
    "4. На каких данных обучена модель? Адекватно ли использовать её для классификации комментариев ВК? Модель обучена на отзывах на женскую одежду и аксессуары, поэтому может подойти для анализа комментариев в вк."
   ]
  },
  {
   "cell_type": "markdown",
   "metadata": {
    "id": "hedd3_EAM_zm"
   },
   "source": [
    "Установим библиотеку. 🤗🤗🤗"
   ]
  },
  {
   "cell_type": "code",
   "execution_count": 48,
   "metadata": {
    "execution": {
     "iopub.execute_input": "2024-12-14T13:24:25.231364Z",
     "iopub.status.busy": "2024-12-14T13:24:25.230657Z",
     "iopub.status.idle": "2024-12-14T13:24:33.877062Z",
     "shell.execute_reply": "2024-12-14T13:24:33.875856Z",
     "shell.execute_reply.started": "2024-12-14T13:24:25.231331Z"
    },
    "id": "-ZCfZ0ZfM_zm"
   },
   "outputs": [
    {
     "name": "stderr",
     "output_type": "stream",
     "text": [
      "/opt/conda/lib/python3.10/pty.py:89: RuntimeWarning: os.fork() was called. os.fork() is incompatible with multithreaded code, and JAX is multithreaded, so this will likely lead to a deadlock.\n",
      "  pid, fd = os.forkpty()\n"
     ]
    },
    {
     "name": "stdout",
     "output_type": "stream",
     "text": [
      "Requirement already satisfied: transformers in /opt/conda/lib/python3.10/site-packages (4.46.3)\n",
      "Requirement already satisfied: filelock in /opt/conda/lib/python3.10/site-packages (from transformers) (3.15.1)\n",
      "Requirement already satisfied: huggingface-hub<1.0,>=0.23.2 in /opt/conda/lib/python3.10/site-packages (from transformers) (0.26.2)\n",
      "Requirement already satisfied: numpy>=1.17 in /opt/conda/lib/python3.10/site-packages (from transformers) (1.26.4)\n",
      "Requirement already satisfied: packaging>=20.0 in /opt/conda/lib/python3.10/site-packages (from transformers) (21.3)\n",
      "Requirement already satisfied: pyyaml>=5.1 in /opt/conda/lib/python3.10/site-packages (from transformers) (6.0.2)\n",
      "Requirement already satisfied: regex!=2019.12.17 in /opt/conda/lib/python3.10/site-packages (from transformers) (2024.5.15)\n",
      "Requirement already satisfied: requests in /opt/conda/lib/python3.10/site-packages (from transformers) (2.32.3)\n",
      "Requirement already satisfied: tokenizers<0.21,>=0.20 in /opt/conda/lib/python3.10/site-packages (from transformers) (0.20.3)\n",
      "Requirement already satisfied: safetensors>=0.4.1 in /opt/conda/lib/python3.10/site-packages (from transformers) (0.4.5)\n",
      "Requirement already satisfied: tqdm>=4.27 in /opt/conda/lib/python3.10/site-packages (from transformers) (4.66.4)\n",
      "Requirement already satisfied: fsspec>=2023.5.0 in /opt/conda/lib/python3.10/site-packages (from huggingface-hub<1.0,>=0.23.2->transformers) (2024.6.0)\n",
      "Requirement already satisfied: typing-extensions>=3.7.4.3 in /opt/conda/lib/python3.10/site-packages (from huggingface-hub<1.0,>=0.23.2->transformers) (4.12.2)\n",
      "Requirement already satisfied: pyparsing!=3.0.5,>=2.0.2 in /opt/conda/lib/python3.10/site-packages (from packaging>=20.0->transformers) (3.1.2)\n",
      "Requirement already satisfied: charset-normalizer<4,>=2 in /opt/conda/lib/python3.10/site-packages (from requests->transformers) (3.3.2)\n",
      "Requirement already satisfied: idna<4,>=2.5 in /opt/conda/lib/python3.10/site-packages (from requests->transformers) (3.7)\n",
      "Requirement already satisfied: urllib3<3,>=1.21.1 in /opt/conda/lib/python3.10/site-packages (from requests->transformers) (1.26.18)\n",
      "Requirement already satisfied: certifi>=2017.4.17 in /opt/conda/lib/python3.10/site-packages (from requests->transformers) (2024.6.2)\n"
     ]
    }
   ],
   "source": [
    "!pip3 install transformers"
   ]
  },
  {
   "cell_type": "code",
   "execution_count": 49,
   "metadata": {
    "execution": {
     "iopub.execute_input": "2024-12-14T13:24:33.879326Z",
     "iopub.status.busy": "2024-12-14T13:24:33.879002Z",
     "iopub.status.idle": "2024-12-14T13:24:33.884503Z",
     "shell.execute_reply": "2024-12-14T13:24:33.883490Z",
     "shell.execute_reply.started": "2024-12-14T13:24:33.879294Z"
    }
   },
   "outputs": [],
   "source": [
    "from transformers import pipeline"
   ]
  },
  {
   "cell_type": "markdown",
   "metadata": {},
   "source": [
    "**Варнинг:** в этом задании не обязательно ждать, пока код проскорит весь датасет - это долго. Напишите код, проверьте, что он корректно работает - проскорьте пару десятков строк датасета и принтаните их. Дальше вы можете взять уже проскоренный датасет. Возможно, кто-то проскорит все раньше остальных и захочет поделиться результатом. Вот его разрешается взять, как готовый результат выполнения задания. Главное - покажите, что ваш код тоже работает."
   ]
  },
  {
   "cell_type": "markdown",
   "metadata": {
    "id": "4cDtjMFaM_zm"
   },
   "source": [
    "Разберитесь как можно прогнать модель на корпусе комментариев и сделайте это. Да, с помощью pipeline можно запустить довольно сложные модели, обученные другими людьми в пару строчек. При объявлении модели не забудьте положить её на нужный `device` 🤗🤗🤗"
   ]
  },
  {
   "cell_type": "code",
   "execution_count": 105,
   "metadata": {
    "execution": {
     "iopub.execute_input": "2024-12-14T15:14:28.182221Z",
     "iopub.status.busy": "2024-12-14T15:14:28.181862Z",
     "iopub.status.idle": "2024-12-14T15:14:44.869328Z",
     "shell.execute_reply": "2024-12-14T15:14:44.868330Z",
     "shell.execute_reply.started": "2024-12-14T15:14:28.182190Z"
    }
   },
   "outputs": [],
   "source": [
    "df_comments.text = (df_comments.text.apply(strip_lower))\n",
    "df_comments.text = df_comments.text.apply(normalise_text)\n"
   ]
  },
  {
   "cell_type": "code",
   "execution_count": 106,
   "metadata": {
    "execution": {
     "iopub.execute_input": "2024-12-14T15:14:47.161568Z",
     "iopub.status.busy": "2024-12-14T15:14:47.161178Z",
     "iopub.status.idle": "2024-12-14T15:14:47.689501Z",
     "shell.execute_reply": "2024-12-14T15:14:47.688454Z",
     "shell.execute_reply.started": "2024-12-14T15:14:47.161537Z"
    }
   },
   "outputs": [
    {
     "data": {
      "text/plain": [
       "0                                          чвк вагнера\n",
       "1                       id4710641евгений выздоравливай\n",
       "2    id442655034андрей искренне желаю этого всей фа...\n",
       "3                            опять про украину новости\n",
       "4                                         че такое днр\n",
       "Name: text, dtype: object"
      ]
     },
     "execution_count": 106,
     "metadata": {},
     "output_type": "execute_result"
    }
   ],
   "source": [
    "df_comments.fillna(\"#UNKN\", inplace = True)\n",
    "df_comments.text.head()"
   ]
  },
  {
   "cell_type": "code",
   "execution_count": 152,
   "metadata": {
    "execution": {
     "iopub.execute_input": "2024-12-14T15:28:32.448691Z",
     "iopub.status.busy": "2024-12-14T15:28:32.448308Z",
     "iopub.status.idle": "2024-12-14T15:28:32.453755Z",
     "shell.execute_reply": "2024-12-14T15:28:32.452841Z",
     "shell.execute_reply.started": "2024-12-14T15:28:32.448658Z"
    }
   },
   "outputs": [],
   "source": [
    "class CommentDataset(Dataset):\n",
    "    def __init__(self, comment):\n",
    "        self.comment = pd.Series(comment).reset_index(drop=True)\n",
    "\n",
    "    def __len__(self):\n",
    "        return len(self.comment)\n",
    "    \n",
    "    def __getitem__(self, idx):\n",
    "        return {\"text\" : self.comment.iloc[idx]}\n"
   ]
  },
  {
   "cell_type": "code",
   "execution_count": 153,
   "metadata": {
    "execution": {
     "iopub.execute_input": "2024-12-14T15:28:33.100074Z",
     "iopub.status.busy": "2024-12-14T15:28:33.099352Z",
     "iopub.status.idle": "2024-12-14T15:28:33.104618Z",
     "shell.execute_reply": "2024-12-14T15:28:33.103659Z",
     "shell.execute_reply.started": "2024-12-14T15:28:33.100035Z"
    }
   },
   "outputs": [],
   "source": [
    "data = df_comments.text[100:200].copy()\n",
    "dataset = CommentDataset(data)"
   ]
  },
  {
   "cell_type": "code",
   "execution_count": 160,
   "metadata": {
    "execution": {
     "iopub.execute_input": "2024-12-14T15:32:01.062077Z",
     "iopub.status.busy": "2024-12-14T15:32:01.061263Z",
     "iopub.status.idle": "2024-12-14T15:32:01.066569Z",
     "shell.execute_reply": "2024-12-14T15:32:01.065760Z",
     "shell.execute_reply.started": "2024-12-14T15:32:01.062029Z"
    }
   },
   "outputs": [],
   "source": [
    "from torch.utils.data import DataLoader\n",
    "dataloader = DataLoader(dataset)"
   ]
  },
  {
   "cell_type": "code",
   "execution_count": 161,
   "metadata": {
    "execution": {
     "iopub.execute_input": "2024-12-14T15:32:01.983109Z",
     "iopub.status.busy": "2024-12-14T15:32:01.982760Z",
     "iopub.status.idle": "2024-12-14T15:32:02.414205Z",
     "shell.execute_reply": "2024-12-14T15:32:02.413079Z",
     "shell.execute_reply.started": "2024-12-14T15:32:01.983076Z"
    }
   },
   "outputs": [],
   "source": [
    "\n",
    "result_dict = {\"eval\" : [], \"score\": []}\n",
    "for data in dataloader:\n",
    "    result = sentiment_classifier(data)\n",
    "    result_dict[\"eval\"].append(result[\"label\"])   \n",
    "    result_dict[\"score\"].append(result[\"score\"])"
   ]
  },
  {
   "cell_type": "markdown",
   "metadata": {
    "id": "5XmrUVvhM_zm"
   },
   "source": [
    "Цикл для сентимент-анализа комментариев может работать довольно долго. Я крайне рекомендую вам переодически сохранять к себе на компьютер промежуточные результаты. Итоговый результат я рекомендую записать отдельным столбиком в таблицу с комментариями, а затем сохранить полученные результаты. 🤗🤗🤗"
   ]
  },
  {
   "cell_type": "code",
   "execution_count": 169,
   "metadata": {
    "execution": {
     "iopub.execute_input": "2024-12-14T15:39:57.009378Z",
     "iopub.status.busy": "2024-12-14T15:39:57.009028Z",
     "iopub.status.idle": "2024-12-14T15:39:57.022906Z",
     "shell.execute_reply": "2024-12-14T15:39:57.021858Z",
     "shell.execute_reply.started": "2024-12-14T15:39:57.009349Z"
    },
    "id": "jYpqlGahM_zm"
   },
   "outputs": [
    {
     "data": {
      "text/html": [
       "<div>\n",
       "<style scoped>\n",
       "    .dataframe tbody tr th:only-of-type {\n",
       "        vertical-align: middle;\n",
       "    }\n",
       "\n",
       "    .dataframe tbody tr th {\n",
       "        vertical-align: top;\n",
       "    }\n",
       "\n",
       "    .dataframe thead th {\n",
       "        text-align: right;\n",
       "    }\n",
       "</style>\n",
       "<table border=\"1\" class=\"dataframe\">\n",
       "  <thead>\n",
       "    <tr style=\"text-align: right;\">\n",
       "      <th></th>\n",
       "      <th>text</th>\n",
       "      <th>sentiment_verdict</th>\n",
       "      <th>sentiment_score</th>\n",
       "    </tr>\n",
       "  </thead>\n",
       "  <tbody>\n",
       "    <tr>\n",
       "      <th>104</th>\n",
       "      <td>лежат на дне морском</td>\n",
       "      <td>neutral</td>\n",
       "      <td>0.888922</td>\n",
       "    </tr>\n",
       "    <tr>\n",
       "      <th>106</th>\n",
       "      <td>вермахт были храбрыми воинами совки не умели в...</td>\n",
       "      <td>neutral</td>\n",
       "      <td>0.706212</td>\n",
       "    </tr>\n",
       "    <tr>\n",
       "      <th>107</th>\n",
       "      <td>ну молодцы че через 70 с лишним лет</td>\n",
       "      <td>positive</td>\n",
       "      <td>0.777361</td>\n",
       "    </tr>\n",
       "    <tr>\n",
       "      <th>109</th>\n",
       "      <td>id281789680едыге так кто победил в войне</td>\n",
       "      <td>neutral</td>\n",
       "      <td>0.818242</td>\n",
       "    </tr>\n",
       "    <tr>\n",
       "      <th>110</th>\n",
       "      <td>id290736975валентин антигитлероаская коалиция ...</td>\n",
       "      <td>neutral</td>\n",
       "      <td>0.739960</td>\n",
       "    </tr>\n",
       "    <tr>\n",
       "      <th>...</th>\n",
       "      <td>...</td>\n",
       "      <td>...</td>\n",
       "      <td>...</td>\n",
       "    </tr>\n",
       "    <tr>\n",
       "      <th>205</th>\n",
       "      <td>id8845982данил а лучше с планеты</td>\n",
       "      <td>neutral</td>\n",
       "      <td>0.807868</td>\n",
       "    </tr>\n",
       "    <tr>\n",
       "      <th>206</th>\n",
       "      <td>завалят теперь дурак свои жеи россию обвинят 100</td>\n",
       "      <td>negative</td>\n",
       "      <td>0.887129</td>\n",
       "    </tr>\n",
       "    <tr>\n",
       "      <th>207</th>\n",
       "      <td>теперь пускай ссыт и оглядывается хохлядскоечмо</td>\n",
       "      <td>negative</td>\n",
       "      <td>0.653336</td>\n",
       "    </tr>\n",
       "    <tr>\n",
       "      <th>208</th>\n",
       "      <td>соси прощение</td>\n",
       "      <td>neutral</td>\n",
       "      <td>0.487018</td>\n",
       "    </tr>\n",
       "    <tr>\n",
       "      <th>209</th>\n",
       "      <td>deleted</td>\n",
       "      <td>neutral</td>\n",
       "      <td>0.608278</td>\n",
       "    </tr>\n",
       "  </tbody>\n",
       "</table>\n",
       "<p>100 rows × 3 columns</p>\n",
       "</div>"
      ],
      "text/plain": [
       "                                                  text sentiment_verdict  \\\n",
       "104                               лежат на дне морском           neutral   \n",
       "106  вермахт были храбрыми воинами совки не умели в...           neutral   \n",
       "107                ну молодцы че через 70 с лишним лет          positive   \n",
       "109           id281789680едыге так кто победил в войне           neutral   \n",
       "110  id290736975валентин антигитлероаская коалиция ...           neutral   \n",
       "..                                                 ...               ...   \n",
       "205                   id8845982данил а лучше с планеты           neutral   \n",
       "206   завалят теперь дурак свои жеи россию обвинят 100          negative   \n",
       "207    теперь пускай ссыт и оглядывается хохлядскоечмо          negative   \n",
       "208                                      соси прощение           neutral   \n",
       "209                                            deleted           neutral   \n",
       "\n",
       "     sentiment_score  \n",
       "104         0.888922  \n",
       "106         0.706212  \n",
       "107         0.777361  \n",
       "109         0.818242  \n",
       "110         0.739960  \n",
       "..               ...  \n",
       "205         0.807868  \n",
       "206         0.887129  \n",
       "207         0.653336  \n",
       "208         0.487018  \n",
       "209         0.608278  \n",
       "\n",
       "[100 rows x 3 columns]"
      ]
     },
     "execution_count": 169,
     "metadata": {},
     "output_type": "execute_result"
    }
   ],
   "source": [
    "sample = df_comments.text[100:200]\n",
    "sample = sample.to_frame()\n",
    "sample['sentiment_verdict'] = [x for x in result_dict[\"eval\"]]\n",
    "sample['sentiment_score'] = [x for x in result_dict[\"score\"]]\n",
    "sample"
   ]
  },
  {
   "cell_type": "markdown",
   "metadata": {
    "id": "smRVE1hVM_zn"
   },
   "source": [
    "## Часть 4: аналитика (3 балла + 0.2 бонусных)\n",
    "\n",
    "Мы с вами огромные молодцы. Мы обучили модель для категоризации новостей, построили с её помощью прогнозы. Мы проскорили комментарии на их сентимент-окрас. Теперь давайте проанализируем новости. Описывайте полученные результаты таким образом, чтобы не получить уголовку на 5 лет за дискредитацию чего-нибудь или оскорбление чувств кого-нибудь 💜"
   ]
  },
  {
   "cell_type": "markdown",
   "metadata": {
    "id": "7z-jdjgeM_zn"
   },
   "source": [
    "__[0.6 балла] Задание 10:__ Какая доля комментариев позитивная? Какая доля комментариев негативная? Выведите 10 самых позитивных комментариев.\n",
    "\n",
    "Выведите 10 самых негативных комментариев, поугарайте с них. Удалите их вывод из тетрадки. Никто не должен их видеть, это должно остаться только между нами. Поззитивные не удаляйте. Они пусть останутся."
   ]
  },
  {
   "cell_type": "code",
   "execution_count": 171,
   "metadata": {
    "execution": {
     "iopub.execute_input": "2024-12-14T15:57:22.730232Z",
     "iopub.status.busy": "2024-12-14T15:57:22.729230Z",
     "iopub.status.idle": "2024-12-14T15:57:45.905866Z",
     "shell.execute_reply": "2024-12-14T15:57:45.904954Z",
     "shell.execute_reply.started": "2024-12-14T15:57:22.730180Z"
    },
    "id": "EqOwlAusM_zn"
   },
   "outputs": [
    {
     "name": "stderr",
     "output_type": "stream",
     "text": [
      "/tmp/ipykernel_23/3555391934.py:2: DtypeWarning: Columns (6) have mixed types. Specify dtype option on import or set low_memory=False.\n",
      "  df_scomment = pd.read_csv('/kaggle/input/vk-comments/df_comments.csv')\n"
     ]
    },
    {
     "data": {
      "text/html": [
       "<div>\n",
       "<style scoped>\n",
       "    .dataframe tbody tr th:only-of-type {\n",
       "        vertical-align: middle;\n",
       "    }\n",
       "\n",
       "    .dataframe tbody tr th {\n",
       "        vertical-align: top;\n",
       "    }\n",
       "\n",
       "    .dataframe thead th {\n",
       "        text-align: right;\n",
       "    }\n",
       "</style>\n",
       "<table border=\"1\" class=\"dataframe\">\n",
       "  <thead>\n",
       "    <tr style=\"text-align: right;\">\n",
       "      <th></th>\n",
       "      <th>Unnamed: 0</th>\n",
       "      <th>id</th>\n",
       "      <th>post_id</th>\n",
       "      <th>datetime</th>\n",
       "      <th>text</th>\n",
       "      <th>likes</th>\n",
       "      <th>sentiment_verdict</th>\n",
       "      <th>sentiment_score</th>\n",
       "    </tr>\n",
       "  </thead>\n",
       "  <tbody>\n",
       "    <tr>\n",
       "      <th>0</th>\n",
       "      <td>0</td>\n",
       "      <td>24006366.0</td>\n",
       "      <td>24006362.0</td>\n",
       "      <td>2019-02-01 23:14:14</td>\n",
       "      <td>ЧВК Вагнера?</td>\n",
       "      <td>5.0</td>\n",
       "      <td>neutral</td>\n",
       "      <td>0.912246</td>\n",
       "    </tr>\n",
       "    <tr>\n",
       "      <th>1</th>\n",
       "      <td>1</td>\n",
       "      <td>24006370.0</td>\n",
       "      <td>24006362.0</td>\n",
       "      <td>2019-02-01 23:15:23</td>\n",
       "      <td>[id4710641|Евгений], выздоравливай.</td>\n",
       "      <td>3.0</td>\n",
       "      <td>neutral</td>\n",
       "      <td>0.879370</td>\n",
       "    </tr>\n",
       "    <tr>\n",
       "      <th>2</th>\n",
       "      <td>2</td>\n",
       "      <td>24006371.0</td>\n",
       "      <td>24006362.0</td>\n",
       "      <td>2019-02-01 23:16:21</td>\n",
       "      <td>[id442655034|Андрей], искренне желаю этого все...</td>\n",
       "      <td>4.0</td>\n",
       "      <td>positive</td>\n",
       "      <td>0.676261</td>\n",
       "    </tr>\n",
       "    <tr>\n",
       "      <th>3</th>\n",
       "      <td>3</td>\n",
       "      <td>24006374.0</td>\n",
       "      <td>24006362.0</td>\n",
       "      <td>2019-02-01 23:16:38</td>\n",
       "      <td>Опять про Украину новости?</td>\n",
       "      <td>1.0</td>\n",
       "      <td>neutral</td>\n",
       "      <td>0.925939</td>\n",
       "    </tr>\n",
       "    <tr>\n",
       "      <th>4</th>\n",
       "      <td>4</td>\n",
       "      <td>24006375.0</td>\n",
       "      <td>24006362.0</td>\n",
       "      <td>2019-02-01 23:16:40</td>\n",
       "      <td>Че такое ДНР?</td>\n",
       "      <td>2.0</td>\n",
       "      <td>neutral</td>\n",
       "      <td>0.866223</td>\n",
       "    </tr>\n",
       "  </tbody>\n",
       "</table>\n",
       "</div>"
      ],
      "text/plain": [
       "   Unnamed: 0          id     post_id             datetime  \\\n",
       "0           0  24006366.0  24006362.0  2019-02-01 23:14:14   \n",
       "1           1  24006370.0  24006362.0  2019-02-01 23:15:23   \n",
       "2           2  24006371.0  24006362.0  2019-02-01 23:16:21   \n",
       "3           3  24006374.0  24006362.0  2019-02-01 23:16:38   \n",
       "4           4  24006375.0  24006362.0  2019-02-01 23:16:40   \n",
       "\n",
       "                                                text  likes sentiment_verdict  \\\n",
       "0                                       ЧВК Вагнера?    5.0           neutral   \n",
       "1                [id4710641|Евгений], выздоравливай.    3.0           neutral   \n",
       "2  [id442655034|Андрей], искренне желаю этого все...    4.0          positive   \n",
       "3                         Опять про Украину новости?    1.0           neutral   \n",
       "4                                      Че такое ДНР?    2.0           neutral   \n",
       "\n",
       "   sentiment_score  \n",
       "0         0.912246  \n",
       "1         0.879370  \n",
       "2         0.676261  \n",
       "3         0.925939  \n",
       "4         0.866223  "
      ]
     },
     "execution_count": 171,
     "metadata": {},
     "output_type": "execute_result"
    }
   ],
   "source": [
    "#Скачаем проскоренный датасет, который отправляли в чат\n",
    "df_scomment = pd.read_csv('/kaggle/input/vk-comments/df_comments.csv')\n",
    "df_scomment.head()"
   ]
  },
  {
   "cell_type": "code",
   "execution_count": 175,
   "metadata": {
    "execution": {
     "iopub.execute_input": "2024-12-14T16:05:01.221584Z",
     "iopub.status.busy": "2024-12-14T16:05:01.220739Z",
     "iopub.status.idle": "2024-12-14T16:05:01.693642Z",
     "shell.execute_reply": "2024-12-14T16:05:01.692733Z",
     "shell.execute_reply.started": "2024-12-14T16:05:01.221547Z"
    }
   },
   "outputs": [
    {
     "name": "stdout",
     "output_type": "stream",
     "text": [
      "0.07 0.221\n"
     ]
    }
   ],
   "source": [
    "positive_values = df_scomment[df_scomment.sentiment_verdict == \"positive\"]\n",
    "negative_values = df_scomment[df_scomment.sentiment_verdict == \"negative\"]\n",
    "pos_count = len(positive_values)/len(df_scomment) \n",
    "neg_count = len(negative_values)/len(df_scomment)  \n",
    "print(round(pos_count, 3), round(neg_count, 3))\n",
    "# Негативных комментариев больше\n"
   ]
  },
  {
   "cell_type": "code",
   "execution_count": 179,
   "metadata": {
    "execution": {
     "iopub.execute_input": "2024-12-14T16:08:40.792238Z",
     "iopub.status.busy": "2024-12-14T16:08:40.791901Z",
     "iopub.status.idle": "2024-12-14T16:08:40.850977Z",
     "shell.execute_reply": "2024-12-14T16:08:40.849992Z",
     "shell.execute_reply.started": "2024-12-14T16:08:40.792207Z"
    }
   },
   "outputs": [
    {
     "data": {
      "text/html": [
       "<div>\n",
       "<style scoped>\n",
       "    .dataframe tbody tr th:only-of-type {\n",
       "        vertical-align: middle;\n",
       "    }\n",
       "\n",
       "    .dataframe tbody tr th {\n",
       "        vertical-align: top;\n",
       "    }\n",
       "\n",
       "    .dataframe thead th {\n",
       "        text-align: right;\n",
       "    }\n",
       "</style>\n",
       "<table border=\"1\" class=\"dataframe\">\n",
       "  <thead>\n",
       "    <tr style=\"text-align: right;\">\n",
       "      <th></th>\n",
       "      <th>Unnamed: 0</th>\n",
       "      <th>id</th>\n",
       "      <th>post_id</th>\n",
       "      <th>datetime</th>\n",
       "      <th>text</th>\n",
       "      <th>likes</th>\n",
       "      <th>sentiment_verdict</th>\n",
       "      <th>sentiment_score</th>\n",
       "    </tr>\n",
       "  </thead>\n",
       "  <tbody>\n",
       "    <tr>\n",
       "      <th>479058</th>\n",
       "      <td>493792</td>\n",
       "      <td>23124647.0</td>\n",
       "      <td>23122693.0</td>\n",
       "      <td>2018-11-20 09:22:40</td>\n",
       "      <td>По всем рсми рашки твердят что аналогов С400 н...</td>\n",
       "      <td>0.0</td>\n",
       "      <td>positive</td>\n",
       "      <td>0.996725</td>\n",
       "    </tr>\n",
       "    <tr>\n",
       "      <th>1336413</th>\n",
       "      <td>1379447</td>\n",
       "      <td>21430353.0</td>\n",
       "      <td>21430175.0</td>\n",
       "      <td>2018-06-30 06:03:09</td>\n",
       "      <td>Осталось за воздух взимать плату. Ждем-с</td>\n",
       "      <td>1.0</td>\n",
       "      <td>positive</td>\n",
       "      <td>0.996674</td>\n",
       "    </tr>\n",
       "    <tr>\n",
       "      <th>2273139</th>\n",
       "      <td>2352264</td>\n",
       "      <td>18966945.0</td>\n",
       "      <td>18966918.0</td>\n",
       "      <td>2017-12-19 19:39:41</td>\n",
       "      <td>[id326530640|Без], эх, вот эти твои слова Влад...</td>\n",
       "      <td>0.0</td>\n",
       "      <td>positive</td>\n",
       "      <td>0.996605</td>\n",
       "    </tr>\n",
       "    <tr>\n",
       "      <th>1989599</th>\n",
       "      <td>2057938</td>\n",
       "      <td>19835467.0</td>\n",
       "      <td>19834316.0</td>\n",
       "      <td>2018-03-02 15:22:52</td>\n",
       "      <td>[id339999071|Костя], Блин, вы все время ждёте ...</td>\n",
       "      <td>2.0</td>\n",
       "      <td>positive</td>\n",
       "      <td>0.996536</td>\n",
       "    </tr>\n",
       "    <tr>\n",
       "      <th>2005708</th>\n",
       "      <td>2074701</td>\n",
       "      <td>19777893.0</td>\n",
       "      <td>19777484.0</td>\n",
       "      <td>2018-02-26 22:08:45</td>\n",
       "      <td>Отнял жизнь молодой девчонки. Такому не пожизн...</td>\n",
       "      <td>1.0</td>\n",
       "      <td>positive</td>\n",
       "      <td>0.996462</td>\n",
       "    </tr>\n",
       "    <tr>\n",
       "      <th>229898</th>\n",
       "      <td>236794</td>\n",
       "      <td>23600820.0</td>\n",
       "      <td>23599713.0</td>\n",
       "      <td>2018-12-31 04:52:12</td>\n",
       "      <td>А Путин  втер нам что  средний продолжительнос...</td>\n",
       "      <td>4.0</td>\n",
       "      <td>positive</td>\n",
       "      <td>0.996461</td>\n",
       "    </tr>\n",
       "    <tr>\n",
       "      <th>1260975</th>\n",
       "      <td>1300899</td>\n",
       "      <td>21603883.0</td>\n",
       "      <td>21603074.0</td>\n",
       "      <td>2018-07-13 03:38:28</td>\n",
       "      <td>Вы депутатов деньги то не считайте!))))</td>\n",
       "      <td>0.0</td>\n",
       "      <td>positive</td>\n",
       "      <td>0.996450</td>\n",
       "    </tr>\n",
       "    <tr>\n",
       "      <th>280055</th>\n",
       "      <td>288287</td>\n",
       "      <td>23505170.0</td>\n",
       "      <td>23505066.0</td>\n",
       "      <td>2018-12-21 20:27:45</td>\n",
       "      <td>Сказки про отказ от доллара продолжаются. Лапш...</td>\n",
       "      <td>0.0</td>\n",
       "      <td>positive</td>\n",
       "      <td>0.996444</td>\n",
       "    </tr>\n",
       "    <tr>\n",
       "      <th>399403</th>\n",
       "      <td>411428</td>\n",
       "      <td>23265211.0</td>\n",
       "      <td>23264494.0</td>\n",
       "      <td>2018-12-01 12:45:01</td>\n",
       "      <td>[id114124060|Олег], русские долго запрягают,но...</td>\n",
       "      <td>0.0</td>\n",
       "      <td>positive</td>\n",
       "      <td>0.996431</td>\n",
       "    </tr>\n",
       "    <tr>\n",
       "      <th>1627614</th>\n",
       "      <td>1681663</td>\n",
       "      <td>20758382.0</td>\n",
       "      <td>20758302.0</td>\n",
       "      <td>2018-05-05 08:41:23</td>\n",
       "      <td>No bad</td>\n",
       "      <td>0.0</td>\n",
       "      <td>positive</td>\n",
       "      <td>0.996418</td>\n",
       "    </tr>\n",
       "  </tbody>\n",
       "</table>\n",
       "</div>"
      ],
      "text/plain": [
       "         Unnamed: 0          id     post_id             datetime  \\\n",
       "479058       493792  23124647.0  23122693.0  2018-11-20 09:22:40   \n",
       "1336413     1379447  21430353.0  21430175.0  2018-06-30 06:03:09   \n",
       "2273139     2352264  18966945.0  18966918.0  2017-12-19 19:39:41   \n",
       "1989599     2057938  19835467.0  19834316.0  2018-03-02 15:22:52   \n",
       "2005708     2074701  19777893.0  19777484.0  2018-02-26 22:08:45   \n",
       "229898       236794  23600820.0  23599713.0  2018-12-31 04:52:12   \n",
       "1260975     1300899  21603883.0  21603074.0  2018-07-13 03:38:28   \n",
       "280055       288287  23505170.0  23505066.0  2018-12-21 20:27:45   \n",
       "399403       411428  23265211.0  23264494.0  2018-12-01 12:45:01   \n",
       "1627614     1681663  20758382.0  20758302.0  2018-05-05 08:41:23   \n",
       "\n",
       "                                                      text  likes  \\\n",
       "479058   По всем рсми рашки твердят что аналогов С400 н...    0.0   \n",
       "1336413           Осталось за воздух взимать плату. Ждем-с    1.0   \n",
       "2273139  [id326530640|Без], эх, вот эти твои слова Влад...    0.0   \n",
       "1989599  [id339999071|Костя], Блин, вы все время ждёте ...    2.0   \n",
       "2005708  Отнял жизнь молодой девчонки. Такому не пожизн...    1.0   \n",
       "229898   А Путин  втер нам что  средний продолжительнос...    4.0   \n",
       "1260975            Вы депутатов деньги то не считайте!))))    0.0   \n",
       "280055   Сказки про отказ от доллара продолжаются. Лапш...    0.0   \n",
       "399403   [id114124060|Олег], русские долго запрягают,но...    0.0   \n",
       "1627614                                             No bad    0.0   \n",
       "\n",
       "        sentiment_verdict  sentiment_score  \n",
       "479058           positive         0.996725  \n",
       "1336413          positive         0.996674  \n",
       "2273139          positive         0.996605  \n",
       "1989599          positive         0.996536  \n",
       "2005708          positive         0.996462  \n",
       "229898           positive         0.996461  \n",
       "1260975          positive         0.996450  \n",
       "280055           positive         0.996444  \n",
       "399403           positive         0.996431  \n",
       "1627614          positive         0.996418  "
      ]
     },
     "execution_count": 179,
     "metadata": {},
     "output_type": "execute_result"
    }
   ],
   "source": [
    "# Позитивные комментарии \n",
    "positive_values.sort_values(ascending = False, by = \"sentiment_score\").iloc[:10]"
   ]
  },
  {
   "cell_type": "markdown",
   "metadata": {
    "id": "SGfBQto1M_zn"
   },
   "source": [
    "__[0.6 балла] Задание 11:__ Для каждой новости из датасета посчитайте количество негативных и позитивных комментариев под ней. Сохраните эти количества в виде новых колонок."
   ]
  },
  {
   "cell_type": "code",
   "execution_count": 226,
   "metadata": {
    "execution": {
     "iopub.execute_input": "2024-12-14T18:32:19.487569Z",
     "iopub.status.busy": "2024-12-14T18:32:19.487194Z",
     "iopub.status.idle": "2024-12-14T18:32:19.710048Z",
     "shell.execute_reply": "2024-12-14T18:32:19.708874Z",
     "shell.execute_reply.started": "2024-12-14T18:32:19.487536Z"
    },
    "id": "WNySt0w7M_zn"
   },
   "outputs": [
    {
     "data": {
      "text/html": [
       "<div>\n",
       "<style scoped>\n",
       "    .dataframe tbody tr th:only-of-type {\n",
       "        vertical-align: middle;\n",
       "    }\n",
       "\n",
       "    .dataframe tbody tr th {\n",
       "        vertical-align: top;\n",
       "    }\n",
       "\n",
       "    .dataframe thead th {\n",
       "        text-align: right;\n",
       "    }\n",
       "</style>\n",
       "<table border=\"1\" class=\"dataframe\">\n",
       "  <thead>\n",
       "    <tr style=\"text-align: right;\">\n",
       "      <th></th>\n",
       "      <th>Unnamed: 0</th>\n",
       "      <th>id</th>\n",
       "      <th>post_id</th>\n",
       "      <th>datetime</th>\n",
       "      <th>text</th>\n",
       "      <th>likes</th>\n",
       "      <th>sentiment_verdict</th>\n",
       "      <th>sentiment_score</th>\n",
       "      <th>Quantity of comments</th>\n",
       "      <th>Quantity of positive comments</th>\n",
       "      <th>Quantity of negative comments</th>\n",
       "      <th>Like_amount</th>\n",
       "    </tr>\n",
       "  </thead>\n",
       "  <tbody>\n",
       "    <tr>\n",
       "      <th>0</th>\n",
       "      <td>0</td>\n",
       "      <td>24006366.0</td>\n",
       "      <td>24006362.0</td>\n",
       "      <td>2019-02-01 23:14:14</td>\n",
       "      <td>ЧВК Вагнера?</td>\n",
       "      <td>5.0</td>\n",
       "      <td>neutral</td>\n",
       "      <td>0.912246</td>\n",
       "      <td>47</td>\n",
       "      <td>3.0</td>\n",
       "      <td>10.0</td>\n",
       "      <td>44.0</td>\n",
       "    </tr>\n",
       "    <tr>\n",
       "      <th>1</th>\n",
       "      <td>1</td>\n",
       "      <td>24006370.0</td>\n",
       "      <td>24006362.0</td>\n",
       "      <td>2019-02-01 23:15:23</td>\n",
       "      <td>[id4710641|Евгений], выздоравливай.</td>\n",
       "      <td>3.0</td>\n",
       "      <td>neutral</td>\n",
       "      <td>0.879370</td>\n",
       "      <td>47</td>\n",
       "      <td>3.0</td>\n",
       "      <td>10.0</td>\n",
       "      <td>44.0</td>\n",
       "    </tr>\n",
       "    <tr>\n",
       "      <th>2</th>\n",
       "      <td>2</td>\n",
       "      <td>24006371.0</td>\n",
       "      <td>24006362.0</td>\n",
       "      <td>2019-02-01 23:16:21</td>\n",
       "      <td>[id442655034|Андрей], искренне желаю этого всей фабрике.</td>\n",
       "      <td>4.0</td>\n",
       "      <td>positive</td>\n",
       "      <td>0.676261</td>\n",
       "      <td>47</td>\n",
       "      <td>3.0</td>\n",
       "      <td>10.0</td>\n",
       "      <td>44.0</td>\n",
       "    </tr>\n",
       "    <tr>\n",
       "      <th>3</th>\n",
       "      <td>3</td>\n",
       "      <td>24006374.0</td>\n",
       "      <td>24006362.0</td>\n",
       "      <td>2019-02-01 23:16:38</td>\n",
       "      <td>Опять про Украину новости?</td>\n",
       "      <td>1.0</td>\n",
       "      <td>neutral</td>\n",
       "      <td>0.925939</td>\n",
       "      <td>47</td>\n",
       "      <td>3.0</td>\n",
       "      <td>10.0</td>\n",
       "      <td>44.0</td>\n",
       "    </tr>\n",
       "    <tr>\n",
       "      <th>4</th>\n",
       "      <td>4</td>\n",
       "      <td>24006375.0</td>\n",
       "      <td>24006362.0</td>\n",
       "      <td>2019-02-01 23:16:40</td>\n",
       "      <td>Че такое ДНР?</td>\n",
       "      <td>2.0</td>\n",
       "      <td>neutral</td>\n",
       "      <td>0.866223</td>\n",
       "      <td>47</td>\n",
       "      <td>3.0</td>\n",
       "      <td>10.0</td>\n",
       "      <td>44.0</td>\n",
       "    </tr>\n",
       "  </tbody>\n",
       "</table>\n",
       "</div>"
      ],
      "text/plain": [
       "   Unnamed: 0          id     post_id             datetime  \\\n",
       "0           0  24006366.0  24006362.0  2019-02-01 23:14:14   \n",
       "1           1  24006370.0  24006362.0  2019-02-01 23:15:23   \n",
       "2           2  24006371.0  24006362.0  2019-02-01 23:16:21   \n",
       "3           3  24006374.0  24006362.0  2019-02-01 23:16:38   \n",
       "4           4  24006375.0  24006362.0  2019-02-01 23:16:40   \n",
       "\n",
       "                                                       text  likes  \\\n",
       "0                                              ЧВК Вагнера?    5.0   \n",
       "1                       [id4710641|Евгений], выздоравливай.    3.0   \n",
       "2  [id442655034|Андрей], искренне желаю этого всей фабрике.    4.0   \n",
       "3                                Опять про Украину новости?    1.0   \n",
       "4                                             Че такое ДНР?    2.0   \n",
       "\n",
       "  sentiment_verdict  sentiment_score  Quantity of comments  \\\n",
       "0           neutral         0.912246                    47   \n",
       "1           neutral         0.879370                    47   \n",
       "2          positive         0.676261                    47   \n",
       "3           neutral         0.925939                    47   \n",
       "4           neutral         0.866223                    47   \n",
       "\n",
       "   Quantity of positive comments  Quantity of negative comments  Like_amount  \n",
       "0                            3.0                           10.0         44.0  \n",
       "1                            3.0                           10.0         44.0  \n",
       "2                            3.0                           10.0         44.0  \n",
       "3                            3.0                           10.0         44.0  \n",
       "4                            3.0                           10.0         44.0  "
      ]
     },
     "execution_count": 226,
     "metadata": {},
     "output_type": "execute_result"
    }
   ],
   "source": [
    "pcount = positive_values.groupby(\"post_id\").text.count()\n",
    "ncount = negative_values.groupby(\"post_id\").text.count()\n",
    "df_scomment[\"Quantity of negative comments\"] = df_scomment.post_id.map(ncount).fillna(0)\n",
    "df_scomment[\"Quantity of positive comments\"] = df_scomment.post_id.map(pcount).fillna(0)\n",
    "df_scomment.head()"
   ]
  },
  {
   "cell_type": "markdown",
   "metadata": {
    "id": "jBOzB5yBM_zn"
   },
   "source": [
    "__[0.6 балла] Задание 12:__ Правда ли, что новости с большим количеством лайков получают больше негативных комментариев? А позитивных? Правда ли, что чем больше лайков, тем под новостью больше комментариев?\n",
    "\n",
    "Постройте визуализацию, которая могла бы это проиллюстрировать."
   ]
  },
  {
   "cell_type": "code",
   "execution_count": 227,
   "metadata": {
    "execution": {
     "iopub.execute_input": "2024-12-14T18:32:28.138085Z",
     "iopub.status.busy": "2024-12-14T18:32:28.137372Z",
     "iopub.status.idle": "2024-12-14T18:32:28.236190Z",
     "shell.execute_reply": "2024-12-14T18:32:28.235253Z",
     "shell.execute_reply.started": "2024-12-14T18:32:28.138051Z"
    },
    "id": "UjI74lt5M_zn"
   },
   "outputs": [
    {
     "data": {
      "text/html": [
       "<div>\n",
       "<style scoped>\n",
       "    .dataframe tbody tr th:only-of-type {\n",
       "        vertical-align: middle;\n",
       "    }\n",
       "\n",
       "    .dataframe tbody tr th {\n",
       "        vertical-align: top;\n",
       "    }\n",
       "\n",
       "    .dataframe thead th {\n",
       "        text-align: right;\n",
       "    }\n",
       "</style>\n",
       "<table border=\"1\" class=\"dataframe\">\n",
       "  <thead>\n",
       "    <tr style=\"text-align: right;\">\n",
       "      <th></th>\n",
       "      <th>Unnamed: 0</th>\n",
       "      <th>id</th>\n",
       "      <th>post_id</th>\n",
       "      <th>datetime</th>\n",
       "      <th>text</th>\n",
       "      <th>likes</th>\n",
       "      <th>sentiment_verdict</th>\n",
       "      <th>sentiment_score</th>\n",
       "      <th>Quantity of comments</th>\n",
       "      <th>Quantity of positive comments</th>\n",
       "      <th>Quantity of negative comments</th>\n",
       "      <th>Like_amount</th>\n",
       "    </tr>\n",
       "  </thead>\n",
       "  <tbody>\n",
       "    <tr>\n",
       "      <th>0</th>\n",
       "      <td>0</td>\n",
       "      <td>24006366.0</td>\n",
       "      <td>24006362.0</td>\n",
       "      <td>2019-02-01 23:14:14</td>\n",
       "      <td>ЧВК Вагнера?</td>\n",
       "      <td>5.0</td>\n",
       "      <td>neutral</td>\n",
       "      <td>0.912246</td>\n",
       "      <td>47</td>\n",
       "      <td>3.0</td>\n",
       "      <td>10.0</td>\n",
       "      <td>44.0</td>\n",
       "    </tr>\n",
       "    <tr>\n",
       "      <th>1</th>\n",
       "      <td>1</td>\n",
       "      <td>24006370.0</td>\n",
       "      <td>24006362.0</td>\n",
       "      <td>2019-02-01 23:15:23</td>\n",
       "      <td>[id4710641|Евгений], выздоравливай.</td>\n",
       "      <td>3.0</td>\n",
       "      <td>neutral</td>\n",
       "      <td>0.879370</td>\n",
       "      <td>47</td>\n",
       "      <td>3.0</td>\n",
       "      <td>10.0</td>\n",
       "      <td>44.0</td>\n",
       "    </tr>\n",
       "    <tr>\n",
       "      <th>2</th>\n",
       "      <td>2</td>\n",
       "      <td>24006371.0</td>\n",
       "      <td>24006362.0</td>\n",
       "      <td>2019-02-01 23:16:21</td>\n",
       "      <td>[id442655034|Андрей], искренне желаю этого всей фабрике.</td>\n",
       "      <td>4.0</td>\n",
       "      <td>positive</td>\n",
       "      <td>0.676261</td>\n",
       "      <td>47</td>\n",
       "      <td>3.0</td>\n",
       "      <td>10.0</td>\n",
       "      <td>44.0</td>\n",
       "    </tr>\n",
       "    <tr>\n",
       "      <th>3</th>\n",
       "      <td>3</td>\n",
       "      <td>24006374.0</td>\n",
       "      <td>24006362.0</td>\n",
       "      <td>2019-02-01 23:16:38</td>\n",
       "      <td>Опять про Украину новости?</td>\n",
       "      <td>1.0</td>\n",
       "      <td>neutral</td>\n",
       "      <td>0.925939</td>\n",
       "      <td>47</td>\n",
       "      <td>3.0</td>\n",
       "      <td>10.0</td>\n",
       "      <td>44.0</td>\n",
       "    </tr>\n",
       "    <tr>\n",
       "      <th>4</th>\n",
       "      <td>4</td>\n",
       "      <td>24006375.0</td>\n",
       "      <td>24006362.0</td>\n",
       "      <td>2019-02-01 23:16:40</td>\n",
       "      <td>Че такое ДНР?</td>\n",
       "      <td>2.0</td>\n",
       "      <td>neutral</td>\n",
       "      <td>0.866223</td>\n",
       "      <td>47</td>\n",
       "      <td>3.0</td>\n",
       "      <td>10.0</td>\n",
       "      <td>44.0</td>\n",
       "    </tr>\n",
       "  </tbody>\n",
       "</table>\n",
       "</div>"
      ],
      "text/plain": [
       "   Unnamed: 0          id     post_id             datetime  \\\n",
       "0           0  24006366.0  24006362.0  2019-02-01 23:14:14   \n",
       "1           1  24006370.0  24006362.0  2019-02-01 23:15:23   \n",
       "2           2  24006371.0  24006362.0  2019-02-01 23:16:21   \n",
       "3           3  24006374.0  24006362.0  2019-02-01 23:16:38   \n",
       "4           4  24006375.0  24006362.0  2019-02-01 23:16:40   \n",
       "\n",
       "                                                       text  likes  \\\n",
       "0                                              ЧВК Вагнера?    5.0   \n",
       "1                       [id4710641|Евгений], выздоравливай.    3.0   \n",
       "2  [id442655034|Андрей], искренне желаю этого всей фабрике.    4.0   \n",
       "3                                Опять про Украину новости?    1.0   \n",
       "4                                             Че такое ДНР?    2.0   \n",
       "\n",
       "  sentiment_verdict  sentiment_score  Quantity of comments  \\\n",
       "0           neutral         0.912246                    47   \n",
       "1           neutral         0.879370                    47   \n",
       "2          positive         0.676261                    47   \n",
       "3           neutral         0.925939                    47   \n",
       "4           neutral         0.866223                    47   \n",
       "\n",
       "   Quantity of positive comments  Quantity of negative comments  Like_amount  \n",
       "0                            3.0                           10.0         44.0  \n",
       "1                            3.0                           10.0         44.0  \n",
       "2                            3.0                           10.0         44.0  \n",
       "3                            3.0                           10.0         44.0  \n",
       "4                            3.0                           10.0         44.0  "
      ]
     },
     "execution_count": 227,
     "metadata": {},
     "output_type": "execute_result"
    }
   ],
   "source": [
    "#Найдем количество лайков для каждой новости\n",
    "df_scomment[\"Like_amount\"] = (df_scomment.groupby(\"post_id\").likes.transform('sum'))\n",
    "df_scomment.head()"
   ]
  },
  {
   "cell_type": "code",
   "execution_count": 229,
   "metadata": {
    "execution": {
     "iopub.execute_input": "2024-12-14T18:34:53.733310Z",
     "iopub.status.busy": "2024-12-14T18:34:53.733019Z",
     "iopub.status.idle": "2024-12-14T18:37:17.916516Z",
     "shell.execute_reply": "2024-12-14T18:37:17.915472Z",
     "shell.execute_reply.started": "2024-12-14T18:34:53.733282Z"
    }
   },
   "outputs": [],
   "source": [
    "id = list(df_scomment.post_id.unique())\n",
    "id_dict = {}\n",
    "for i in id:\n",
    "    id_dict[i] = [df_scomment[df_scomment.post_id == i].iloc[0][\"Like_amount\"], \n",
    "                    df_scomment[df_scomment.post_id == i].iloc[0][\"Quantity of negative comments\"],\n",
    "                    df_scomment[df_scomment.post_id == i].iloc[0][\"Quantity of positive comments\"]]\n",
    "    "
   ]
  },
  {
   "cell_type": "code",
   "execution_count": 235,
   "metadata": {
    "execution": {
     "iopub.execute_input": "2024-12-14T18:52:09.336171Z",
     "iopub.status.busy": "2024-12-14T18:52:09.335821Z",
     "iopub.status.idle": "2024-12-14T18:53:44.272438Z",
     "shell.execute_reply": "2024-12-14T18:53:44.271570Z",
     "shell.execute_reply.started": "2024-12-14T18:52:09.336139Z"
    }
   },
   "outputs": [
    {
     "data": {
      "image/png": "[encoded data removed]",
      "text/plain": [
       "<Figure size 1200x800 with 1 Axes>"
      ]
     },
     "metadata": {},
     "output_type": "display_data"
    }
   ],
   "source": [
    "import matplotlib.pyplot as plt \n",
    "# Как строить график подсмотрел тут https://www.geeksforgeeks.org/bar-plot-in-matplotlib/\n",
    "Width = 0.1\n",
    "fig = plt.subplots(figsize =(12, 8)) \n",
    "\n",
    "br1 = np.arange(len(id_dict)) \n",
    "br2 = [x + Width for x in br1] \n",
    "br3 = [x + Width for x in br2]\n",
    "\n",
    "plt.bar(br1, [item[0] for item in id_dict.values()], color ='r', width = Width, \n",
    "        edgecolor ='r', label ='Likes') \n",
    "plt.bar(br2, [item[1] for item in id_dict.values()], color ='g', width = Width, \n",
    "        edgecolor ='g', label ='N-comments') \n",
    "plt.bar(br3, [item[2] for item in id_dict.values()], color ='b', width = Width, \n",
    "        edgecolor ='b', label ='P-comments') \n",
    "\n",
    "plt.xlabel('Amount', fontweight ='bold', fontsize = 15) \n",
    "plt.ylabel('Post_ID', fontweight ='bold', fontsize = 15) \n",
    "\n",
    "plt.legend()\n",
    "plt.show()\n"
   ]
  },
  {
   "cell_type": "markdown",
   "metadata": {},
   "source": [
    "Ответ - правда, на графике можно заменить параллельные скачки зеленых и красных полосок, которые обозначают лайки и негативные комментарии"
   ]
  },
  {
   "cell_type": "markdown",
   "metadata": {
    "id": "3wN5AFrAM_zn"
   },
   "source": [
    "__[0.6 балла] Задание 13:__  Давайте построим по сентимент-окрасу комментариев топ позитивных новостей.\n",
    "\n",
    "- Если под новостью оставлено 100 комментариев, из которых 80 позитивные, мы можем быть уверены в том, что новость была хорошо воспринята людьми.\n",
    "- Если под новостью всего один комментарий и он оказался позитивным, то у нас 100% позитивных комментариев, но это вовсе не означает, что новость была воспринята хорошо.\n",
    "\n",
    "Получается, что сортировать по доле позитивных комментариев нельзя. Давайте поступим умнее. Доля позитивных комментариев под постом -- это случайная величина. Её довольно часто моделируют с помощью бета-распределения. Если это случайная величина, мы можем построить для неё предиктивный интервал. Пусть $u$ - число позитивных комментариев, а $d$ - нейтральных и негативных.  Пусть\n",
    "\n",
    "$$\n",
    "a = 1 + u \\qquad b = 1 + d.\n",
    "$$\n",
    "\n",
    "Тогда нижняя граница $95\\%$ предиктивного интервала для доли будет вычисляться по такой формуле:\n",
    "\n",
    "$$\n",
    "\\frac{a}{a + b} - 1.65 \\cdot \\sqrt{\\frac{a \\cdot b}{(a + b)^2 \\cdot (a + b + 1)}}\n",
    "$$\n",
    "\n",
    "Если под новостью был всего один комментарий, у такой случайной величины будет высокая дисперсия. Это означаeт, что штука, которую мы вычитаем из доли, окажется высокой. Левая граница интервала окажется маленькой и мы не поднимем комментарий в нашем топе наверх. Фактически мы делаем сортировку по квантилю уровня $0.05$ вместо среднего.\n",
    "\n",
    "От вас требуется вбить эту формулу, сделать сортировку и вывести на экран топ позитивных новостей. Подробнее про то, откуда берётся эта формула можно почитать [в этой книге.](https://disk.yandex.ru/i/Ctd08bTwC9eI3g) Ищите 4 главу, страницу 140."
   ]
  },
  {
   "cell_type": "code",
   "execution_count": 237,
   "metadata": {
    "execution": {
     "iopub.execute_input": "2024-12-14T19:10:24.450045Z",
     "iopub.status.busy": "2024-12-14T19:10:24.449715Z",
     "iopub.status.idle": "2024-12-14T19:10:24.454584Z",
     "shell.execute_reply": "2024-12-14T19:10:24.453681Z",
     "shell.execute_reply.started": "2024-12-14T19:10:24.450015Z"
    },
    "id": "ToygzCZwM_zn"
   },
   "outputs": [],
   "source": [
    "def formula(a, b):\n",
    "    first_element = a / (a+b)\n",
    "    second_element = 1.65 * np.sqrt((a*b)/((a+b)**2)*(a+b+1))\n",
    "    return first_element - second_element\n"
   ]
  },
  {
   "cell_type": "code",
   "execution_count": 245,
   "metadata": {
    "execution": {
     "iopub.execute_input": "2024-12-14T19:27:22.883249Z",
     "iopub.status.busy": "2024-12-14T19:27:22.882905Z",
     "iopub.status.idle": "2024-12-14T19:27:22.899485Z",
     "shell.execute_reply": "2024-12-14T19:27:22.898257Z",
     "shell.execute_reply.started": "2024-12-14T19:27:22.883217Z"
    }
   },
   "outputs": [
    {
     "data": {
      "text/html": [
       "<div>\n",
       "<style scoped>\n",
       "    .dataframe tbody tr th:only-of-type {\n",
       "        vertical-align: middle;\n",
       "    }\n",
       "\n",
       "    .dataframe tbody tr th {\n",
       "        vertical-align: top;\n",
       "    }\n",
       "\n",
       "    .dataframe thead th {\n",
       "        text-align: right;\n",
       "    }\n",
       "</style>\n",
       "<table border=\"1\" class=\"dataframe\">\n",
       "  <thead>\n",
       "    <tr style=\"text-align: right;\">\n",
       "      <th></th>\n",
       "      <th>Unnamed: 0</th>\n",
       "      <th>id</th>\n",
       "      <th>post_id</th>\n",
       "      <th>datetime</th>\n",
       "      <th>text</th>\n",
       "      <th>likes</th>\n",
       "      <th>sentiment_verdict</th>\n",
       "      <th>sentiment_score</th>\n",
       "      <th>Quantity of comments</th>\n",
       "      <th>Quantity of positive comments</th>\n",
       "      <th>Quantity of negative comments</th>\n",
       "      <th>Like_amount</th>\n",
       "    </tr>\n",
       "  </thead>\n",
       "  <tbody>\n",
       "    <tr>\n",
       "      <th>0</th>\n",
       "      <td>0</td>\n",
       "      <td>24006366.0</td>\n",
       "      <td>24006362.0</td>\n",
       "      <td>2019-02-01 23:14:14</td>\n",
       "      <td>ЧВК Вагнера?</td>\n",
       "      <td>5.0</td>\n",
       "      <td>neutral</td>\n",
       "      <td>0.912246</td>\n",
       "      <td>47</td>\n",
       "      <td>3.0</td>\n",
       "      <td>10.0</td>\n",
       "      <td>44.0</td>\n",
       "    </tr>\n",
       "    <tr>\n",
       "      <th>1</th>\n",
       "      <td>1</td>\n",
       "      <td>24006370.0</td>\n",
       "      <td>24006362.0</td>\n",
       "      <td>2019-02-01 23:15:23</td>\n",
       "      <td>[id4710641|Евгений], выздоравливай.</td>\n",
       "      <td>3.0</td>\n",
       "      <td>neutral</td>\n",
       "      <td>0.879370</td>\n",
       "      <td>47</td>\n",
       "      <td>3.0</td>\n",
       "      <td>10.0</td>\n",
       "      <td>44.0</td>\n",
       "    </tr>\n",
       "    <tr>\n",
       "      <th>2</th>\n",
       "      <td>2</td>\n",
       "      <td>24006371.0</td>\n",
       "      <td>24006362.0</td>\n",
       "      <td>2019-02-01 23:16:21</td>\n",
       "      <td>[id442655034|Андрей], искренне желаю этого всей фабрике.</td>\n",
       "      <td>4.0</td>\n",
       "      <td>positive</td>\n",
       "      <td>0.676261</td>\n",
       "      <td>47</td>\n",
       "      <td>3.0</td>\n",
       "      <td>10.0</td>\n",
       "      <td>44.0</td>\n",
       "    </tr>\n",
       "    <tr>\n",
       "      <th>3</th>\n",
       "      <td>3</td>\n",
       "      <td>24006374.0</td>\n",
       "      <td>24006362.0</td>\n",
       "      <td>2019-02-01 23:16:38</td>\n",
       "      <td>Опять про Украину новости?</td>\n",
       "      <td>1.0</td>\n",
       "      <td>neutral</td>\n",
       "      <td>0.925939</td>\n",
       "      <td>47</td>\n",
       "      <td>3.0</td>\n",
       "      <td>10.0</td>\n",
       "      <td>44.0</td>\n",
       "    </tr>\n",
       "    <tr>\n",
       "      <th>4</th>\n",
       "      <td>4</td>\n",
       "      <td>24006375.0</td>\n",
       "      <td>24006362.0</td>\n",
       "      <td>2019-02-01 23:16:40</td>\n",
       "      <td>Че такое ДНР?</td>\n",
       "      <td>2.0</td>\n",
       "      <td>neutral</td>\n",
       "      <td>0.866223</td>\n",
       "      <td>47</td>\n",
       "      <td>3.0</td>\n",
       "      <td>10.0</td>\n",
       "      <td>44.0</td>\n",
       "    </tr>\n",
       "  </tbody>\n",
       "</table>\n",
       "</div>"
      ],
      "text/plain": [
       "   Unnamed: 0          id     post_id             datetime  \\\n",
       "0           0  24006366.0  24006362.0  2019-02-01 23:14:14   \n",
       "1           1  24006370.0  24006362.0  2019-02-01 23:15:23   \n",
       "2           2  24006371.0  24006362.0  2019-02-01 23:16:21   \n",
       "3           3  24006374.0  24006362.0  2019-02-01 23:16:38   \n",
       "4           4  24006375.0  24006362.0  2019-02-01 23:16:40   \n",
       "\n",
       "                                                       text  likes  \\\n",
       "0                                              ЧВК Вагнера?    5.0   \n",
       "1                       [id4710641|Евгений], выздоравливай.    3.0   \n",
       "2  [id442655034|Андрей], искренне желаю этого всей фабрике.    4.0   \n",
       "3                                Опять про Украину новости?    1.0   \n",
       "4                                             Че такое ДНР?    2.0   \n",
       "\n",
       "  sentiment_verdict  sentiment_score  Quantity of comments  \\\n",
       "0           neutral         0.912246                    47   \n",
       "1           neutral         0.879370                    47   \n",
       "2          positive         0.676261                    47   \n",
       "3           neutral         0.925939                    47   \n",
       "4           neutral         0.866223                    47   \n",
       "\n",
       "   Quantity of positive comments  Quantity of negative comments  Like_amount  \n",
       "0                            3.0                           10.0         44.0  \n",
       "1                            3.0                           10.0         44.0  \n",
       "2                            3.0                           10.0         44.0  \n",
       "3                            3.0                           10.0         44.0  \n",
       "4                            3.0                           10.0         44.0  "
      ]
     },
     "execution_count": 245,
     "metadata": {},
     "output_type": "execute_result"
    }
   ],
   "source": [
    "df_scomment.head()"
   ]
  },
  {
   "cell_type": "code",
   "execution_count": 250,
   "metadata": {
    "execution": {
     "iopub.execute_input": "2024-12-14T19:42:27.804460Z",
     "iopub.status.busy": "2024-12-14T19:42:27.804103Z",
     "iopub.status.idle": "2024-12-14T19:42:55.008225Z",
     "shell.execute_reply": "2024-12-14T19:42:55.007476Z",
     "shell.execute_reply.started": "2024-12-14T19:42:27.804401Z"
    }
   },
   "outputs": [],
   "source": [
    "df_scomment[\"Positivity\"] = df_scomment.apply(\n",
    "    lambda x: formula((x['Quantity of positive comments'] + 1), (x['Quantity of negative comments'] + 1)),\n",
    "    axis=1)\n",
    "positive_news = list(df_scomment.sort_values(ascending = False, by = \"Positivity\").post_id.unique())\n"
   ]
  },
  {
   "cell_type": "code",
   "execution_count": 252,
   "metadata": {
    "execution": {
     "iopub.execute_input": "2024-12-14T19:44:44.681078Z",
     "iopub.status.busy": "2024-12-14T19:44:44.680155Z",
     "iopub.status.idle": "2024-12-14T19:44:44.699739Z",
     "shell.execute_reply": "2024-12-14T19:44:44.698941Z",
     "shell.execute_reply.started": "2024-12-14T19:44:44.681027Z"
    }
   },
   "outputs": [
    {
     "data": {
      "text/html": [
       "<div>\n",
       "<style scoped>\n",
       "    .dataframe tbody tr th:only-of-type {\n",
       "        vertical-align: middle;\n",
       "    }\n",
       "\n",
       "    .dataframe tbody tr th {\n",
       "        vertical-align: top;\n",
       "    }\n",
       "\n",
       "    .dataframe thead th {\n",
       "        text-align: right;\n",
       "    }\n",
       "</style>\n",
       "<table border=\"1\" class=\"dataframe\">\n",
       "  <thead>\n",
       "    <tr style=\"text-align: right;\">\n",
       "      <th></th>\n",
       "      <th>id</th>\n",
       "      <th>href</th>\n",
       "      <th>datetime</th>\n",
       "      <th>title</th>\n",
       "      <th>likes</th>\n",
       "      <th>comments</th>\n",
       "      <th>snippet</th>\n",
       "      <th>title_clean</th>\n",
       "      <th>snippet_clean</th>\n",
       "    </tr>\n",
       "  </thead>\n",
       "  <tbody>\n",
       "    <tr>\n",
       "      <th>1502</th>\n",
       "      <td>23626018</td>\n",
       "      <td>/20190102/1548983193.html</td>\n",
       "      <td>2019-01-02 05:46:17</td>\n",
       "      <td>российские ученые создали фильтры из водорослей для очистки воды от нефти</td>\n",
       "      <td>305</td>\n",
       "      <td>40</td>\n",
       "      <td>#UNKN</td>\n",
       "      <td>российские ученые создали фильтры из водорослей для очистки воды от нефти</td>\n",
       "      <td>#UNKN</td>\n",
       "    </tr>\n",
       "    <tr>\n",
       "      <th>2548</th>\n",
       "      <td>23397771</td>\n",
       "      <td>/20181212/1547890259.html</td>\n",
       "      <td>2018-12-12 16:38:50</td>\n",
       "      <td>поиски \"титаника\" были прикрытием для операции вмс сша, пишут сми</td>\n",
       "      <td>122</td>\n",
       "      <td>30</td>\n",
       "      <td>#UNKN</td>\n",
       "      <td>поиски титаника были прикрытием для операции вмс сша пишут сми</td>\n",
       "      <td>#UNKN</td>\n",
       "    </tr>\n",
       "    <tr>\n",
       "      <th>5123</th>\n",
       "      <td>22726605</td>\n",
       "      <td>/culture/20181017/1530852409.html?referrer_block=index_daynews3_4</td>\n",
       "      <td>2018-10-17 11:19:26</td>\n",
       "      <td>умер актер из сериала \"склифосовский\"</td>\n",
       "      <td>112</td>\n",
       "      <td>37</td>\n",
       "      <td>#UNKN</td>\n",
       "      <td>умер актер из сериала склифосовский</td>\n",
       "      <td>#UNKN</td>\n",
       "    </tr>\n",
       "    <tr>\n",
       "      <th>7407</th>\n",
       "      <td>22112596</td>\n",
       "      <td>/world/20180828/1527330927.html</td>\n",
       "      <td>2018-08-28 02:13:16</td>\n",
       "      <td>экс-сотрудник цру рассказал о блефе американских спецслужб о \"информаторах в россии\"</td>\n",
       "      <td>141</td>\n",
       "      <td>25</td>\n",
       "      <td>#UNKN</td>\n",
       "      <td>экссотрудник цру рассказал о блефе американских спецслужб о информаторах в россии</td>\n",
       "      <td>#UNKN</td>\n",
       "    </tr>\n",
       "    <tr>\n",
       "      <th>8951</th>\n",
       "      <td>21704342</td>\n",
       "      <td>/society/20180721/1525072828.html</td>\n",
       "      <td>2018-07-22 01:32:14</td>\n",
       "      <td>в алтайском крае появился памятник варенику</td>\n",
       "      <td>295</td>\n",
       "      <td>70</td>\n",
       "      <td>#UNKN</td>\n",
       "      <td>в алтайском крае появился памятник варенику</td>\n",
       "      <td>#UNKN</td>\n",
       "    </tr>\n",
       "    <tr>\n",
       "      <th>11837</th>\n",
       "      <td>20832248</td>\n",
       "      <td>/science/20180509/1520175491.html</td>\n",
       "      <td>2018-05-09 23:37:36</td>\n",
       "      <td>геймеры и ученые провели самую массовую проверку квантовой физики</td>\n",
       "      <td>202</td>\n",
       "      <td>32</td>\n",
       "      <td>#UNKN</td>\n",
       "      <td>геймеры и ученые провели самую массовую проверку квантовой физики</td>\n",
       "      <td>#UNKN</td>\n",
       "    </tr>\n",
       "    <tr>\n",
       "      <th>13779</th>\n",
       "      <td>20115293</td>\n",
       "      <td>/world/20180322/1516982510.html</td>\n",
       "      <td>2018-03-22 03:52:44</td>\n",
       "      <td>в кремле назвали последствия выхода сша из соглашения по про</td>\n",
       "      <td>182</td>\n",
       "      <td>36</td>\n",
       "      <td>решение американской стороны покинуть договор поставило под угрозу международную стабильность и безопасность.</td>\n",
       "      <td>в кремле назвали последствия выхода сша из соглашения по про</td>\n",
       "      <td>решение американской стороны покинуть договор поставило под угрозу международную стабильность и безопасность</td>\n",
       "    </tr>\n",
       "    <tr>\n",
       "      <th>14182</th>\n",
       "      <td>19966673</td>\n",
       "      <td>/world/20180312/1516129353.html</td>\n",
       "      <td>2018-03-12 00:21:45</td>\n",
       "      <td>замглавы минобороны россии: нато создает в европе зону \"военного шенгена\"</td>\n",
       "      <td>90</td>\n",
       "      <td>27</td>\n",
       "      <td>идею создания \"военного шенгена\" первоначально выдвинул экс-командующий сухопутными войсками сша в европе генерал-лейтенант бен ходжес, по словам которого, союзнические войска и военная техника должны быть способны перемещаться по территории континента \"столь же быстро, как и мигранты\".</td>\n",
       "      <td>замглавы минобороны россии нато создает в европе зону военного шенгена</td>\n",
       "      <td>идею создания военного шенгена первоначально выдвинул экскомандующий сухопутными войсками сша в европе генераллейтенант бен ходжес по словам которого союзнические войска и военная техника должны быть способны перемещаться по территории континента столь же быстро как и мигранты</td>\n",
       "    </tr>\n",
       "    <tr>\n",
       "      <th>14722</th>\n",
       "      <td>19767583</td>\n",
       "      <td>/syria/20180226/1515258855.html</td>\n",
       "      <td>2018-02-26 01:08:41</td>\n",
       "      <td>в сирии рассказали о гибели мирных жителей от авиаударов коалиции сша</td>\n",
       "      <td>117</td>\n",
       "      <td>26</td>\n",
       "      <td>#UNKN</td>\n",
       "      <td>в сирии рассказали о гибели мирных жителей от авиаударов коалиции сша</td>\n",
       "      <td>#UNKN</td>\n",
       "    </tr>\n",
       "    <tr>\n",
       "      <th>15823</th>\n",
       "      <td>19400581</td>\n",
       "      <td>/society/20180127/1513455534.html?referrer_block=index_daynews2_2</td>\n",
       "      <td>2018-01-27 15:00:52</td>\n",
       "      <td>умер секретарь союза журналистов россии борис резник</td>\n",
       "      <td>133</td>\n",
       "      <td>23</td>\n",
       "      <td>#UNKN</td>\n",
       "      <td>умер секретарь союза журналистов россии борис резник</td>\n",
       "      <td>#UNKN</td>\n",
       "    </tr>\n",
       "  </tbody>\n",
       "</table>\n",
       "</div>"
      ],
      "text/plain": [
       "             id  \\\n",
       "1502   23626018   \n",
       "2548   23397771   \n",
       "5123   22726605   \n",
       "7407   22112596   \n",
       "8951   21704342   \n",
       "11837  20832248   \n",
       "13779  20115293   \n",
       "14182  19966673   \n",
       "14722  19767583   \n",
       "15823  19400581   \n",
       "\n",
       "                                                                    href  \\\n",
       "1502                                           /20190102/1548983193.html   \n",
       "2548                                           /20181212/1547890259.html   \n",
       "5123   /culture/20181017/1530852409.html?referrer_block=index_daynews3_4   \n",
       "7407                                     /world/20180828/1527330927.html   \n",
       "8951                                   /society/20180721/1525072828.html   \n",
       "11837                                  /science/20180509/1520175491.html   \n",
       "13779                                    /world/20180322/1516982510.html   \n",
       "14182                                    /world/20180312/1516129353.html   \n",
       "14722                                    /syria/20180226/1515258855.html   \n",
       "15823  /society/20180127/1513455534.html?referrer_block=index_daynews2_2   \n",
       "\n",
       "                  datetime  \\\n",
       "1502   2019-01-02 05:46:17   \n",
       "2548   2018-12-12 16:38:50   \n",
       "5123   2018-10-17 11:19:26   \n",
       "7407   2018-08-28 02:13:16   \n",
       "8951   2018-07-22 01:32:14   \n",
       "11837  2018-05-09 23:37:36   \n",
       "13779  2018-03-22 03:52:44   \n",
       "14182  2018-03-12 00:21:45   \n",
       "14722  2018-02-26 01:08:41   \n",
       "15823  2018-01-27 15:00:52   \n",
       "\n",
       "                                                                                      title  \\\n",
       "1502              российские ученые создали фильтры из водорослей для очистки воды от нефти   \n",
       "2548                      поиски \"титаника\" были прикрытием для операции вмс сша, пишут сми   \n",
       "5123                                                  умер актер из сериала \"склифосовский\"   \n",
       "7407   экс-сотрудник цру рассказал о блефе американских спецслужб о \"информаторах в россии\"   \n",
       "8951                                            в алтайском крае появился памятник варенику   \n",
       "11837                     геймеры и ученые провели самую массовую проверку квантовой физики   \n",
       "13779                          в кремле назвали последствия выхода сша из соглашения по про   \n",
       "14182             замглавы минобороны россии: нато создает в европе зону \"военного шенгена\"   \n",
       "14722                 в сирии рассказали о гибели мирных жителей от авиаударов коалиции сша   \n",
       "15823                                  умер секретарь союза журналистов россии борис резник   \n",
       "\n",
       "       likes  comments  \\\n",
       "1502     305        40   \n",
       "2548     122        30   \n",
       "5123     112        37   \n",
       "7407     141        25   \n",
       "8951     295        70   \n",
       "11837    202        32   \n",
       "13779    182        36   \n",
       "14182     90        27   \n",
       "14722    117        26   \n",
       "15823    133        23   \n",
       "\n",
       "                                                                                                                                                                                                                                                                                               snippet  \\\n",
       "1502                                                                                                                                                                                                                                                                                             #UNKN   \n",
       "2548                                                                                                                                                                                                                                                                                             #UNKN   \n",
       "5123                                                                                                                                                                                                                                                                                             #UNKN   \n",
       "7407                                                                                                                                                                                                                                                                                             #UNKN   \n",
       "8951                                                                                                                                                                                                                                                                                             #UNKN   \n",
       "11837                                                                                                                                                                                                                                                                                            #UNKN   \n",
       "13779                                                                                                                                                                                    решение американской стороны покинуть договор поставило под угрозу международную стабильность и безопасность.   \n",
       "14182  идею создания \"военного шенгена\" первоначально выдвинул экс-командующий сухопутными войсками сша в европе генерал-лейтенант бен ходжес, по словам которого, союзнические войска и военная техника должны быть способны перемещаться по территории континента \"столь же быстро, как и мигранты\".   \n",
       "14722                                                                                                                                                                                                                                                                                            #UNKN   \n",
       "15823                                                                                                                                                                                                                                                                                            #UNKN   \n",
       "\n",
       "                                                                             title_clean  \\\n",
       "1502           российские ученые создали фильтры из водорослей для очистки воды от нефти   \n",
       "2548                      поиски титаника были прикрытием для операции вмс сша пишут сми   \n",
       "5123                                                 умер актер из сериала склифосовский   \n",
       "7407   экссотрудник цру рассказал о блефе американских спецслужб о информаторах в россии   \n",
       "8951                                         в алтайском крае появился памятник варенику   \n",
       "11837                  геймеры и ученые провели самую массовую проверку квантовой физики   \n",
       "13779                       в кремле назвали последствия выхода сша из соглашения по про   \n",
       "14182             замглавы минобороны россии нато создает в европе зону военного шенгена   \n",
       "14722              в сирии рассказали о гибели мирных жителей от авиаударов коалиции сша   \n",
       "15823                               умер секретарь союза журналистов россии борис резник   \n",
       "\n",
       "                                                                                                                                                                                                                                                                               snippet_clean  \n",
       "1502                                                                                                                                                                                                                                                                                   #UNKN  \n",
       "2548                                                                                                                                                                                                                                                                                   #UNKN  \n",
       "5123                                                                                                                                                                                                                                                                                   #UNKN  \n",
       "7407                                                                                                                                                                                                                                                                                   #UNKN  \n",
       "8951                                                                                                                                                                                                                                                                                   #UNKN  \n",
       "11837                                                                                                                                                                                                                                                                                  #UNKN  \n",
       "13779                                                                                                                                                                           решение американской стороны покинуть договор поставило под угрозу международную стабильность и безопасность  \n",
       "14182  идею создания военного шенгена первоначально выдвинул экскомандующий сухопутными войсками сша в европе генераллейтенант бен ходжес по словам которого союзнические войска и военная техника должны быть способны перемещаться по территории континента столь же быстро как и мигранты  \n",
       "14722                                                                                                                                                                                                                                                                                  #UNKN  \n",
       "15823                                                                                                                                                                                                                                                                                  #UNKN  "
      ]
     },
     "execution_count": 252,
     "metadata": {},
     "output_type": "execute_result"
    }
   ],
   "source": [
    "df_vk[df_vk.id.isin(positive_news[:10])]"
   ]
  },
  {
   "cell_type": "markdown",
   "metadata": {
    "id": "8CuDk6kbM_zn"
   },
   "source": [
    "Построили? Срочно пришлите свою любимую позитивную  новость в общий чат!!!\n",
    "\n",
    "Топ негативных новостей строить не будем. Вокруг итак слишком много негатива 😻😻😻"
   ]
  },
  {
   "cell_type": "markdown",
   "metadata": {
    "id": "Gg_wCzsBM_zn"
   },
   "source": [
    "__[0.6 балла] Задание 14:__ Какие категории новостей оказались самыми позитивными? Придумайте способ найти такие категории и опишите его тут.\n",
    "\n",
    "__Ответ:__"
   ]
  },
  {
   "cell_type": "code",
   "execution_count": null,
   "metadata": {
    "id": "SNEWqGVpM_zn"
   },
   "outputs": [],
   "source": [
    "# your code here\n",
    "# ٩(⁎❛ᴗ❛⁎)۶"
   ]
  },
  {
   "cell_type": "markdown",
   "metadata": {
    "id": "gDFw6uQeM_zn"
   },
   "source": [
    "__[0.2 балла] Бонусное задание 3:__ Проанализируйте, как температура комментария (вероятность того, что он негативный) зависит от длины трэда (число комментариев под новостью)? Значима ли эта взаимосвязь? Если вам для проверки этого хочется построить линейную регрессию, не сдерживайтесь."
   ]
  },
  {
   "cell_type": "code",
   "execution_count": null,
   "metadata": {
    "id": "usdYfPV0M_zn"
   },
   "outputs": [],
   "source": [
    "# your code here\n",
    "# ヾ(๑╹◡╹)ﾉ"
   ]
  }
 ],
 "metadata": {
  "accelerator": "GPU",
  "colab": {
   "gpuType": "T4",
   "provenance": []
  },
  "kaggle": {
   "accelerator": "nvidiaTeslaT4",
   "dataSources": [
    {
     "datasetId": 6264407,
     "sourceId": 10148004,
     "sourceType": "datasetVersion"
    },
    {
     "datasetId": 6288912,
     "sourceId": 10180914,
     "sourceType": "datasetVersion"
    }
   ],
   "dockerImageVersionId": 30804,
   "isGpuEnabled": true,
   "isInternetEnabled": true,
   "language": "python",
   "sourceType": "notebook"
  },
  "kernelspec": {
   "display_name": "Python 3 (ipykernel)",
   "language": "python",
   "name": "python3"
  },
  "language_info": {
   "codemirror_mode": {
    "name": "ipython",
    "version": 3
   },
   "file_extension": ".py",
   "mimetype": "text/x-python",
   "name": "python",
   "nbconvert_exporter": "python",
   "pygments_lexer": "ipython3",
   "version": "3.12.4"
  },
  "widgets": {
   "application/vnd.jupyter.widget-state+json": {
    "0029cbbc48c64effb57bffff5d199e34": {
     "model_module": "@jupyter-widgets/controls",
     "model_module_version": "1.5.0",
     "model_name": "HTMLModel",
     "state": {
      "_dom_classes": [],
      "_model_module": "@jupyter-widgets/controls",
      "_model_module_version": "1.5.0",
      "_model_name": "HTMLModel",
      "_view_count": null,
      "_view_module": "@jupyter-widgets/controls",
      "_view_module_version": "1.5.0",
      "_view_name": "HTMLView",
      "description": "",
      "description_tooltip": null,
      "layout": "IPY_MODEL_0140e6c8951147b6a7e079682e938e7f",
      "placeholder": "​",
      "style": "IPY_MODEL_534e121744814f4d8880072004513e37",
      "value": " 11/11 [00:00&lt;00:00, 19.45it/s]"
     }
    },
    "0140e6c8951147b6a7e079682e938e7f": {
     "model_module": "@jupyter-widgets/base",
     "model_module_version": "1.2.0",
     "model_name": "LayoutModel",
     "state": {
      "_model_module": "@jupyter-widgets/base",
      "_model_module_version": "1.2.0",
      "_model_name": "LayoutModel",
      "_view_count": null,
      "_view_module": "@jupyter-widgets/base",
      "_view_module_version": "1.2.0",
      "_view_name": "LayoutView",
      "align_content": null,
      "align_items": null,
      "align_self": null,
      "border": null,
      "bottom": null,
      "display": null,
      "flex": null,
      "flex_flow": null,
      "grid_area": null,
      "grid_auto_columns": null,
      "grid_auto_flow": null,
      "grid_auto_rows": null,
      "grid_column": null,
      "grid_gap": null,
      "grid_row": null,
      "grid_template_areas": null,
      "grid_template_columns": null,
      "grid_template_rows": null,
      "height": null,
      "justify_content": null,
      "justify_items": null,
      "left": null,
      "margin": null,
      "max_height": null,
      "max_width": null,
      "min_height": null,
      "min_width": null,
      "object_fit": null,
      "object_position": null,
      "order": null,
      "overflow": null,
      "overflow_x": null,
      "overflow_y": null,
      "padding": null,
      "right": null,
      "top": null,
      "visibility": null,
      "width": null
     }
    },
    "09093bb710bd4903abf2e10db6efc0a0": {
     "model_module": "@jupyter-widgets/controls",
     "model_module_version": "1.5.0",
     "model_name": "HTMLModel",
     "state": {
      "_dom_classes": [],
      "_model_module": "@jupyter-widgets/controls",
      "_model_module_version": "1.5.0",
      "_model_name": "HTMLModel",
      "_view_count": null,
      "_view_module": "@jupyter-widgets/controls",
      "_view_module_version": "1.5.0",
      "_view_name": "HTMLView",
      "description": "",
      "description_tooltip": null,
      "layout": "IPY_MODEL_8fc5cc9d0df74d5081fa3f8c89595daf",
      "placeholder": "​",
      "style": "IPY_MODEL_0cbe638b1d354bea83ccba54ee3d1f5c",
      "value": " 11/11 [00:00&lt;00:00, 32.16it/s]"
     }
    },
    "0a54156fabcd4ef3b73b038b71485a6a": {
     "model_module": "@jupyter-widgets/controls",
     "model_module_version": "1.5.0",
     "model_name": "DescriptionStyleModel",
     "state": {
      "_model_module": "@jupyter-widgets/controls",
      "_model_module_version": "1.5.0",
      "_model_name": "DescriptionStyleModel",
      "_view_count": null,
      "_view_module": "@jupyter-widgets/base",
      "_view_module_version": "1.2.0",
      "_view_name": "StyleView",
      "description_width": ""
     }
    },
    "0cbe638b1d354bea83ccba54ee3d1f5c": {
     "model_module": "@jupyter-widgets/controls",
     "model_module_version": "1.5.0",
     "model_name": "DescriptionStyleModel",
     "state": {
      "_model_module": "@jupyter-widgets/controls",
      "_model_module_version": "1.5.0",
      "_model_name": "DescriptionStyleModel",
      "_view_count": null,
      "_view_module": "@jupyter-widgets/base",
      "_view_module_version": "1.2.0",
      "_view_name": "StyleView",
      "description_width": ""
     }
    },
    "100219bd594645c5b60c3da4a44344fe": {
     "model_module": "@jupyter-widgets/controls",
     "model_module_version": "1.5.0",
     "model_name": "DescriptionStyleModel",
     "state": {
      "_model_module": "@jupyter-widgets/controls",
      "_model_module_version": "1.5.0",
      "_model_name": "DescriptionStyleModel",
      "_view_count": null,
      "_view_module": "@jupyter-widgets/base",
      "_view_module_version": "1.2.0",
      "_view_name": "StyleView",
      "description_width": ""
     }
    },
    "13a1fd50c8f24f12a0f28485b6168606": {
     "model_module": "@jupyter-widgets/controls",
     "model_module_version": "1.5.0",
     "model_name": "DescriptionStyleModel",
     "state": {
      "_model_module": "@jupyter-widgets/controls",
      "_model_module_version": "1.5.0",
      "_model_name": "DescriptionStyleModel",
      "_view_count": null,
      "_view_module": "@jupyter-widgets/base",
      "_view_module_version": "1.2.0",
      "_view_name": "StyleView",
      "description_width": ""
     }
    },
    "17d8af2b171440cba00f8b2df1a08073": {
     "model_module": "@jupyter-widgets/controls",
     "model_module_version": "1.5.0",
     "model_name": "HTMLModel",
     "state": {
      "_dom_classes": [],
      "_model_module": "@jupyter-widgets/controls",
      "_model_module_version": "1.5.0",
      "_model_name": "HTMLModel",
      "_view_count": null,
      "_view_module": "@jupyter-widgets/controls",
      "_view_module_version": "1.5.0",
      "_view_name": "HTMLView",
      "description": "",
      "description_tooltip": null,
      "layout": "IPY_MODEL_201a41be363549eaa0fdc903fb41f83e",
      "placeholder": "​",
      "style": "IPY_MODEL_60c4aa6c4c8145949cd16ec0670227a1",
      "value": "Validation DataLoader 0: 100%"
     }
    },
    "17e62da8657f44d9a998f4acbbd29671": {
     "model_module": "@jupyter-widgets/base",
     "model_module_version": "1.2.0",
     "model_name": "LayoutModel",
     "state": {
      "_model_module": "@jupyter-widgets/base",
      "_model_module_version": "1.2.0",
      "_model_name": "LayoutModel",
      "_view_count": null,
      "_view_module": "@jupyter-widgets/base",
      "_view_module_version": "1.2.0",
      "_view_name": "LayoutView",
      "align_content": null,
      "align_items": null,
      "align_self": null,
      "border": null,
      "bottom": null,
      "display": null,
      "flex": null,
      "flex_flow": null,
      "grid_area": null,
      "grid_auto_columns": null,
      "grid_auto_flow": null,
      "grid_auto_rows": null,
      "grid_column": null,
      "grid_gap": null,
      "grid_row": null,
      "grid_template_areas": null,
      "grid_template_columns": null,
      "grid_template_rows": null,
      "height": null,
      "justify_content": null,
      "justify_items": null,
      "left": null,
      "margin": null,
      "max_height": null,
      "max_width": null,
      "min_height": null,
      "min_width": null,
      "object_fit": null,
      "object_position": null,
      "order": null,
      "overflow": null,
      "overflow_x": null,
      "overflow_y": null,
      "padding": null,
      "right": null,
      "top": null,
      "visibility": null,
      "width": null
     }
    },
    "1ae57433e573436b8bbdf6c22630930d": {
     "model_module": "@jupyter-widgets/controls",
     "model_module_version": "1.5.0",
     "model_name": "HTMLModel",
     "state": {
      "_dom_classes": [],
      "_model_module": "@jupyter-widgets/controls",
      "_model_module_version": "1.5.0",
      "_model_name": "HTMLModel",
      "_view_count": null,
      "_view_module": "@jupyter-widgets/controls",
      "_view_module_version": "1.5.0",
      "_view_name": "HTMLView",
      "description": "",
      "description_tooltip": null,
      "layout": "IPY_MODEL_5d422f8cbd47402bb8f28b258e5abed0",
      "placeholder": "​",
      "style": "IPY_MODEL_80d177b53a5f4fe0a733d3b7d36e9b30",
      "value": "Validation DataLoader 0: 100%"
     }
    },
    "1ae6951f8b984b318210df9d009479d8": {
     "model_module": "@jupyter-widgets/controls",
     "model_module_version": "1.5.0",
     "model_name": "HBoxModel",
     "state": {
      "_dom_classes": [],
      "_model_module": "@jupyter-widgets/controls",
      "_model_module_version": "1.5.0",
      "_model_name": "HBoxModel",
      "_view_count": null,
      "_view_module": "@jupyter-widgets/controls",
      "_view_module_version": "1.5.0",
      "_view_name": "HBoxView",
      "box_style": "",
      "children": [
       "IPY_MODEL_d9456651273140f9bd6e587ab852eeec",
       "IPY_MODEL_b174cb3407a04b2989e6049555265446",
       "IPY_MODEL_7bd174d7cd2346be9db9d5a0a170f8cb"
      ],
      "layout": "IPY_MODEL_3ada921ee7644de997b57ffd2c57044d"
     }
    },
    "1c10405770654b90a3635ba4acabb6ef": {
     "model_module": "@jupyter-widgets/controls",
     "model_module_version": "1.5.0",
     "model_name": "ProgressStyleModel",
     "state": {
      "_model_module": "@jupyter-widgets/controls",
      "_model_module_version": "1.5.0",
      "_model_name": "ProgressStyleModel",
      "_view_count": null,
      "_view_module": "@jupyter-widgets/base",
      "_view_module_version": "1.2.0",
      "_view_name": "StyleView",
      "bar_color": null,
      "description_width": ""
     }
    },
    "201a41be363549eaa0fdc903fb41f83e": {
     "model_module": "@jupyter-widgets/base",
     "model_module_version": "1.2.0",
     "model_name": "LayoutModel",
     "state": {
      "_model_module": "@jupyter-widgets/base",
      "_model_module_version": "1.2.0",
      "_model_name": "LayoutModel",
      "_view_count": null,
      "_view_module": "@jupyter-widgets/base",
      "_view_module_version": "1.2.0",
      "_view_name": "LayoutView",
      "align_content": null,
      "align_items": null,
      "align_self": null,
      "border": null,
      "bottom": null,
      "display": null,
      "flex": null,
      "flex_flow": null,
      "grid_area": null,
      "grid_auto_columns": null,
      "grid_auto_flow": null,
      "grid_auto_rows": null,
      "grid_column": null,
      "grid_gap": null,
      "grid_row": null,
      "grid_template_areas": null,
      "grid_template_columns": null,
      "grid_template_rows": null,
      "height": null,
      "justify_content": null,
      "justify_items": null,
      "left": null,
      "margin": null,
      "max_height": null,
      "max_width": null,
      "min_height": null,
      "min_width": null,
      "object_fit": null,
      "object_position": null,
      "order": null,
      "overflow": null,
      "overflow_x": null,
      "overflow_y": null,
      "padding": null,
      "right": null,
      "top": null,
      "visibility": null,
      "width": null
     }
    },
    "286fbf1303dc4f0b9c1bb3cfb34f920e": {
     "model_module": "@jupyter-widgets/controls",
     "model_module_version": "1.5.0",
     "model_name": "ProgressStyleModel",
     "state": {
      "_model_module": "@jupyter-widgets/controls",
      "_model_module_version": "1.5.0",
      "_model_name": "ProgressStyleModel",
      "_view_count": null,
      "_view_module": "@jupyter-widgets/base",
      "_view_module_version": "1.2.0",
      "_view_name": "StyleView",
      "bar_color": null,
      "description_width": ""
     }
    },
    "2a38ec8f52d74e018a4c1876d3a2f874": {
     "model_module": "@jupyter-widgets/controls",
     "model_module_version": "1.5.0",
     "model_name": "HBoxModel",
     "state": {
      "_dom_classes": [],
      "_model_module": "@jupyter-widgets/controls",
      "_model_module_version": "1.5.0",
      "_model_name": "HBoxModel",
      "_view_count": null,
      "_view_module": "@jupyter-widgets/controls",
      "_view_module_version": "1.5.0",
      "_view_name": "HBoxView",
      "box_style": "",
      "children": [
       "IPY_MODEL_fd22c38d837a404ab892ddaddf4a8988",
       "IPY_MODEL_a474d8d377674579b3c9f5327fbb1862",
       "IPY_MODEL_0029cbbc48c64effb57bffff5d199e34"
      ],
      "layout": "IPY_MODEL_e9d2f22400db472283508e8c01f08fbb"
     }
    },
    "2aa0bc933aae46729672d55e60c17616": {
     "model_module": "@jupyter-widgets/controls",
     "model_module_version": "1.5.0",
     "model_name": "FloatProgressModel",
     "state": {
      "_dom_classes": [],
      "_model_module": "@jupyter-widgets/controls",
      "_model_module_version": "1.5.0",
      "_model_name": "FloatProgressModel",
      "_view_count": null,
      "_view_module": "@jupyter-widgets/controls",
      "_view_module_version": "1.5.0",
      "_view_name": "ProgressView",
      "bar_style": "",
      "description": "",
      "description_tooltip": null,
      "layout": "IPY_MODEL_546d1deb5c934916b722fb9ab0ce5e67",
      "max": 11,
      "min": 0,
      "orientation": "horizontal",
      "style": "IPY_MODEL_86ed101f86384b9b92eb3faccae5bca2",
      "value": 11
     }
    },
    "2cb3f56ff669424da4e9bace352831b8": {
     "model_module": "@jupyter-widgets/base",
     "model_module_version": "1.2.0",
     "model_name": "LayoutModel",
     "state": {
      "_model_module": "@jupyter-widgets/base",
      "_model_module_version": "1.2.0",
      "_model_name": "LayoutModel",
      "_view_count": null,
      "_view_module": "@jupyter-widgets/base",
      "_view_module_version": "1.2.0",
      "_view_name": "LayoutView",
      "align_content": null,
      "align_items": null,
      "align_self": null,
      "border": null,
      "bottom": null,
      "display": "inline-flex",
      "flex": null,
      "flex_flow": "row wrap",
      "grid_area": null,
      "grid_auto_columns": null,
      "grid_auto_flow": null,
      "grid_auto_rows": null,
      "grid_column": null,
      "grid_gap": null,
      "grid_row": null,
      "grid_template_areas": null,
      "grid_template_columns": null,
      "grid_template_rows": null,
      "height": null,
      "justify_content": null,
      "justify_items": null,
      "left": null,
      "margin": null,
      "max_height": null,
      "max_width": null,
      "min_height": null,
      "min_width": null,
      "object_fit": null,
      "object_position": null,
      "order": null,
      "overflow": null,
      "overflow_x": null,
      "overflow_y": null,
      "padding": null,
      "right": null,
      "top": null,
      "visibility": "hidden",
      "width": "100%"
     }
    },
    "2d71626a24cb45f39095e7e3fd621707": {
     "model_module": "@jupyter-widgets/controls",
     "model_module_version": "1.5.0",
     "model_name": "HTMLModel",
     "state": {
      "_dom_classes": [],
      "_model_module": "@jupyter-widgets/controls",
      "_model_module_version": "1.5.0",
      "_model_name": "HTMLModel",
      "_view_count": null,
      "_view_module": "@jupyter-widgets/controls",
      "_view_module_version": "1.5.0",
      "_view_name": "HTMLView",
      "description": "",
      "description_tooltip": null,
      "layout": "IPY_MODEL_6fa8591a1a834d8785b1ebe8eff2b10d",
      "placeholder": "​",
      "style": "IPY_MODEL_acfec13aec454320b585c0b8331e9448",
      "value": " 2/2 [00:00&lt;00:00, 14.02it/s]"
     }
    },
    "2d98065fccb34cb1b44740aa4510f0e7": {
     "model_module": "@jupyter-widgets/controls",
     "model_module_version": "1.5.0",
     "model_name": "HTMLModel",
     "state": {
      "_dom_classes": [],
      "_model_module": "@jupyter-widgets/controls",
      "_model_module_version": "1.5.0",
      "_model_name": "HTMLModel",
      "_view_count": null,
      "_view_module": "@jupyter-widgets/controls",
      "_view_module_version": "1.5.0",
      "_view_name": "HTMLView",
      "description": "",
      "description_tooltip": null,
      "layout": "IPY_MODEL_6072601881c341fb8e5329fab05ee52d",
      "placeholder": "​",
      "style": "IPY_MODEL_13a1fd50c8f24f12a0f28485b6168606",
      "value": "Validation DataLoader 0: 100%"
     }
    },
    "2da5b84f9384445a8d9db58ef3dafa5e": {
     "model_module": "@jupyter-widgets/base",
     "model_module_version": "1.2.0",
     "model_name": "LayoutModel",
     "state": {
      "_model_module": "@jupyter-widgets/base",
      "_model_module_version": "1.2.0",
      "_model_name": "LayoutModel",
      "_view_count": null,
      "_view_module": "@jupyter-widgets/base",
      "_view_module_version": "1.2.0",
      "_view_name": "LayoutView",
      "align_content": null,
      "align_items": null,
      "align_self": null,
      "border": null,
      "bottom": null,
      "display": null,
      "flex": null,
      "flex_flow": null,
      "grid_area": null,
      "grid_auto_columns": null,
      "grid_auto_flow": null,
      "grid_auto_rows": null,
      "grid_column": null,
      "grid_gap": null,
      "grid_row": null,
      "grid_template_areas": null,
      "grid_template_columns": null,
      "grid_template_rows": null,
      "height": null,
      "justify_content": null,
      "justify_items": null,
      "left": null,
      "margin": null,
      "max_height": null,
      "max_width": null,
      "min_height": null,
      "min_width": null,
      "object_fit": null,
      "object_position": null,
      "order": null,
      "overflow": null,
      "overflow_x": null,
      "overflow_y": null,
      "padding": null,
      "right": null,
      "top": null,
      "visibility": null,
      "width": null
     }
    },
    "2e02be5bf0be40bf87f1364b1fd587ec": {
     "model_module": "@jupyter-widgets/base",
     "model_module_version": "1.2.0",
     "model_name": "LayoutModel",
     "state": {
      "_model_module": "@jupyter-widgets/base",
      "_model_module_version": "1.2.0",
      "_model_name": "LayoutModel",
      "_view_count": null,
      "_view_module": "@jupyter-widgets/base",
      "_view_module_version": "1.2.0",
      "_view_name": "LayoutView",
      "align_content": null,
      "align_items": null,
      "align_self": null,
      "border": null,
      "bottom": null,
      "display": null,
      "flex": "2",
      "flex_flow": null,
      "grid_area": null,
      "grid_auto_columns": null,
      "grid_auto_flow": null,
      "grid_auto_rows": null,
      "grid_column": null,
      "grid_gap": null,
      "grid_row": null,
      "grid_template_areas": null,
      "grid_template_columns": null,
      "grid_template_rows": null,
      "height": null,
      "justify_content": null,
      "justify_items": null,
      "left": null,
      "margin": null,
      "max_height": null,
      "max_width": null,
      "min_height": null,
      "min_width": null,
      "object_fit": null,
      "object_position": null,
      "order": null,
      "overflow": null,
      "overflow_x": null,
      "overflow_y": null,
      "padding": null,
      "right": null,
      "top": null,
      "visibility": null,
      "width": null
     }
    },
    "2f4dcf310c634bdba125e8bf46d3db26": {
     "model_module": "@jupyter-widgets/base",
     "model_module_version": "1.2.0",
     "model_name": "LayoutModel",
     "state": {
      "_model_module": "@jupyter-widgets/base",
      "_model_module_version": "1.2.0",
      "_model_name": "LayoutModel",
      "_view_count": null,
      "_view_module": "@jupyter-widgets/base",
      "_view_module_version": "1.2.0",
      "_view_name": "LayoutView",
      "align_content": null,
      "align_items": null,
      "align_self": null,
      "border": null,
      "bottom": null,
      "display": "inline-flex",
      "flex": null,
      "flex_flow": "row wrap",
      "grid_area": null,
      "grid_auto_columns": null,
      "grid_auto_flow": null,
      "grid_auto_rows": null,
      "grid_column": null,
      "grid_gap": null,
      "grid_row": null,
      "grid_template_areas": null,
      "grid_template_columns": null,
      "grid_template_rows": null,
      "height": null,
      "justify_content": null,
      "justify_items": null,
      "left": null,
      "margin": null,
      "max_height": null,
      "max_width": null,
      "min_height": null,
      "min_width": null,
      "object_fit": null,
      "object_position": null,
      "order": null,
      "overflow": null,
      "overflow_x": null,
      "overflow_y": null,
      "padding": null,
      "right": null,
      "top": null,
      "visibility": "hidden",
      "width": "100%"
     }
    },
    "3ada921ee7644de997b57ffd2c57044d": {
     "model_module": "@jupyter-widgets/base",
     "model_module_version": "1.2.0",
     "model_name": "LayoutModel",
     "state": {
      "_model_module": "@jupyter-widgets/base",
      "_model_module_version": "1.2.0",
      "_model_name": "LayoutModel",
      "_view_count": null,
      "_view_module": "@jupyter-widgets/base",
      "_view_module_version": "1.2.0",
      "_view_name": "LayoutView",
      "align_content": null,
      "align_items": null,
      "align_self": null,
      "border": null,
      "bottom": null,
      "display": "inline-flex",
      "flex": null,
      "flex_flow": "row wrap",
      "grid_area": null,
      "grid_auto_columns": null,
      "grid_auto_flow": null,
      "grid_auto_rows": null,
      "grid_column": null,
      "grid_gap": null,
      "grid_row": null,
      "grid_template_areas": null,
      "grid_template_columns": null,
      "grid_template_rows": null,
      "height": null,
      "justify_content": null,
      "justify_items": null,
      "left": null,
      "margin": null,
      "max_height": null,
      "max_width": null,
      "min_height": null,
      "min_width": null,
      "object_fit": null,
      "object_position": null,
      "order": null,
      "overflow": null,
      "overflow_x": null,
      "overflow_y": null,
      "padding": null,
      "right": null,
      "top": null,
      "visibility": null,
      "width": "100%"
     }
    },
    "3dc20b49832e46c6ad70dc754f43555f": {
     "model_module": "@jupyter-widgets/base",
     "model_module_version": "1.2.0",
     "model_name": "LayoutModel",
     "state": {
      "_model_module": "@jupyter-widgets/base",
      "_model_module_version": "1.2.0",
      "_model_name": "LayoutModel",
      "_view_count": null,
      "_view_module": "@jupyter-widgets/base",
      "_view_module_version": "1.2.0",
      "_view_name": "LayoutView",
      "align_content": null,
      "align_items": null,
      "align_self": null,
      "border": null,
      "bottom": null,
      "display": null,
      "flex": null,
      "flex_flow": null,
      "grid_area": null,
      "grid_auto_columns": null,
      "grid_auto_flow": null,
      "grid_auto_rows": null,
      "grid_column": null,
      "grid_gap": null,
      "grid_row": null,
      "grid_template_areas": null,
      "grid_template_columns": null,
      "grid_template_rows": null,
      "height": null,
      "justify_content": null,
      "justify_items": null,
      "left": null,
      "margin": null,
      "max_height": null,
      "max_width": null,
      "min_height": null,
      "min_width": null,
      "object_fit": null,
      "object_position": null,
      "order": null,
      "overflow": null,
      "overflow_x": null,
      "overflow_y": null,
      "padding": null,
      "right": null,
      "top": null,
      "visibility": null,
      "width": null
     }
    },
    "3ef009aeabae43b48bc913a592d1a019": {
     "model_module": "@jupyter-widgets/controls",
     "model_module_version": "1.5.0",
     "model_name": "HBoxModel",
     "state": {
      "_dom_classes": [],
      "_model_module": "@jupyter-widgets/controls",
      "_model_module_version": "1.5.0",
      "_model_name": "HBoxModel",
      "_view_count": null,
      "_view_module": "@jupyter-widgets/controls",
      "_view_module_version": "1.5.0",
      "_view_name": "HBoxView",
      "box_style": "",
      "children": [
       "IPY_MODEL_75b99a050a37493389ff96724a9a3b72",
       "IPY_MODEL_78fe9e3a3d614de9a6f3efacde67d247",
       "IPY_MODEL_2d71626a24cb45f39095e7e3fd621707"
      ],
      "layout": "IPY_MODEL_4f75594be29e49cc99fe61a6787e7564"
     }
    },
    "46204f92abf1414da360d79b4ca7a924": {
     "model_module": "@jupyter-widgets/base",
     "model_module_version": "1.2.0",
     "model_name": "LayoutModel",
     "state": {
      "_model_module": "@jupyter-widgets/base",
      "_model_module_version": "1.2.0",
      "_model_name": "LayoutModel",
      "_view_count": null,
      "_view_module": "@jupyter-widgets/base",
      "_view_module_version": "1.2.0",
      "_view_name": "LayoutView",
      "align_content": null,
      "align_items": null,
      "align_self": null,
      "border": null,
      "bottom": null,
      "display": null,
      "flex": null,
      "flex_flow": null,
      "grid_area": null,
      "grid_auto_columns": null,
      "grid_auto_flow": null,
      "grid_auto_rows": null,
      "grid_column": null,
      "grid_gap": null,
      "grid_row": null,
      "grid_template_areas": null,
      "grid_template_columns": null,
      "grid_template_rows": null,
      "height": null,
      "justify_content": null,
      "justify_items": null,
      "left": null,
      "margin": null,
      "max_height": null,
      "max_width": null,
      "min_height": null,
      "min_width": null,
      "object_fit": null,
      "object_position": null,
      "order": null,
      "overflow": null,
      "overflow_x": null,
      "overflow_y": null,
      "padding": null,
      "right": null,
      "top": null,
      "visibility": null,
      "width": null
     }
    },
    "4f75594be29e49cc99fe61a6787e7564": {
     "model_module": "@jupyter-widgets/base",
     "model_module_version": "1.2.0",
     "model_name": "LayoutModel",
     "state": {
      "_model_module": "@jupyter-widgets/base",
      "_model_module_version": "1.2.0",
      "_model_name": "LayoutModel",
      "_view_count": null,
      "_view_module": "@jupyter-widgets/base",
      "_view_module_version": "1.2.0",
      "_view_name": "LayoutView",
      "align_content": null,
      "align_items": null,
      "align_self": null,
      "border": null,
      "bottom": null,
      "display": "inline-flex",
      "flex": null,
      "flex_flow": "row wrap",
      "grid_area": null,
      "grid_auto_columns": null,
      "grid_auto_flow": null,
      "grid_auto_rows": null,
      "grid_column": null,
      "grid_gap": null,
      "grid_row": null,
      "grid_template_areas": null,
      "grid_template_columns": null,
      "grid_template_rows": null,
      "height": null,
      "justify_content": null,
      "justify_items": null,
      "left": null,
      "margin": null,
      "max_height": null,
      "max_width": null,
      "min_height": null,
      "min_width": null,
      "object_fit": null,
      "object_position": null,
      "order": null,
      "overflow": null,
      "overflow_x": null,
      "overflow_y": null,
      "padding": null,
      "right": null,
      "top": null,
      "visibility": "hidden",
      "width": "100%"
     }
    },
    "515318593400421487560182023801f1": {
     "model_module": "@jupyter-widgets/controls",
     "model_module_version": "1.5.0",
     "model_name": "DescriptionStyleModel",
     "state": {
      "_model_module": "@jupyter-widgets/controls",
      "_model_module_version": "1.5.0",
      "_model_name": "DescriptionStyleModel",
      "_view_count": null,
      "_view_module": "@jupyter-widgets/base",
      "_view_module_version": "1.2.0",
      "_view_name": "StyleView",
      "description_width": ""
     }
    },
    "534e121744814f4d8880072004513e37": {
     "model_module": "@jupyter-widgets/controls",
     "model_module_version": "1.5.0",
     "model_name": "DescriptionStyleModel",
     "state": {
      "_model_module": "@jupyter-widgets/controls",
      "_model_module_version": "1.5.0",
      "_model_name": "DescriptionStyleModel",
      "_view_count": null,
      "_view_module": "@jupyter-widgets/base",
      "_view_module_version": "1.2.0",
      "_view_name": "StyleView",
      "description_width": ""
     }
    },
    "546d1deb5c934916b722fb9ab0ce5e67": {
     "model_module": "@jupyter-widgets/base",
     "model_module_version": "1.2.0",
     "model_name": "LayoutModel",
     "state": {
      "_model_module": "@jupyter-widgets/base",
      "_model_module_version": "1.2.0",
      "_model_name": "LayoutModel",
      "_view_count": null,
      "_view_module": "@jupyter-widgets/base",
      "_view_module_version": "1.2.0",
      "_view_name": "LayoutView",
      "align_content": null,
      "align_items": null,
      "align_self": null,
      "border": null,
      "bottom": null,
      "display": null,
      "flex": "2",
      "flex_flow": null,
      "grid_area": null,
      "grid_auto_columns": null,
      "grid_auto_flow": null,
      "grid_auto_rows": null,
      "grid_column": null,
      "grid_gap": null,
      "grid_row": null,
      "grid_template_areas": null,
      "grid_template_columns": null,
      "grid_template_rows": null,
      "height": null,
      "justify_content": null,
      "justify_items": null,
      "left": null,
      "margin": null,
      "max_height": null,
      "max_width": null,
      "min_height": null,
      "min_width": null,
      "object_fit": null,
      "object_position": null,
      "order": null,
      "overflow": null,
      "overflow_x": null,
      "overflow_y": null,
      "padding": null,
      "right": null,
      "top": null,
      "visibility": null,
      "width": null
     }
    },
    "560450b99c8f4636b3a700db3fc21253": {
     "model_module": "@jupyter-widgets/controls",
     "model_module_version": "1.5.0",
     "model_name": "ProgressStyleModel",
     "state": {
      "_model_module": "@jupyter-widgets/controls",
      "_model_module_version": "1.5.0",
      "_model_name": "ProgressStyleModel",
      "_view_count": null,
      "_view_module": "@jupyter-widgets/base",
      "_view_module_version": "1.2.0",
      "_view_name": "StyleView",
      "bar_color": null,
      "description_width": ""
     }
    },
    "58fbdeafd7ee40cd9392cd4a62c49b81": {
     "model_module": "@jupyter-widgets/base",
     "model_module_version": "1.2.0",
     "model_name": "LayoutModel",
     "state": {
      "_model_module": "@jupyter-widgets/base",
      "_model_module_version": "1.2.0",
      "_model_name": "LayoutModel",
      "_view_count": null,
      "_view_module": "@jupyter-widgets/base",
      "_view_module_version": "1.2.0",
      "_view_name": "LayoutView",
      "align_content": null,
      "align_items": null,
      "align_self": null,
      "border": null,
      "bottom": null,
      "display": null,
      "flex": "2",
      "flex_flow": null,
      "grid_area": null,
      "grid_auto_columns": null,
      "grid_auto_flow": null,
      "grid_auto_rows": null,
      "grid_column": null,
      "grid_gap": null,
      "grid_row": null,
      "grid_template_areas": null,
      "grid_template_columns": null,
      "grid_template_rows": null,
      "height": null,
      "justify_content": null,
      "justify_items": null,
      "left": null,
      "margin": null,
      "max_height": null,
      "max_width": null,
      "min_height": null,
      "min_width": null,
      "object_fit": null,
      "object_position": null,
      "order": null,
      "overflow": null,
      "overflow_x": null,
      "overflow_y": null,
      "padding": null,
      "right": null,
      "top": null,
      "visibility": null,
      "width": null
     }
    },
    "5d422f8cbd47402bb8f28b258e5abed0": {
     "model_module": "@jupyter-widgets/base",
     "model_module_version": "1.2.0",
     "model_name": "LayoutModel",
     "state": {
      "_model_module": "@jupyter-widgets/base",
      "_model_module_version": "1.2.0",
      "_model_name": "LayoutModel",
      "_view_count": null,
      "_view_module": "@jupyter-widgets/base",
      "_view_module_version": "1.2.0",
      "_view_name": "LayoutView",
      "align_content": null,
      "align_items": null,
      "align_self": null,
      "border": null,
      "bottom": null,
      "display": null,
      "flex": null,
      "flex_flow": null,
      "grid_area": null,
      "grid_auto_columns": null,
      "grid_auto_flow": null,
      "grid_auto_rows": null,
      "grid_column": null,
      "grid_gap": null,
      "grid_row": null,
      "grid_template_areas": null,
      "grid_template_columns": null,
      "grid_template_rows": null,
      "height": null,
      "justify_content": null,
      "justify_items": null,
      "left": null,
      "margin": null,
      "max_height": null,
      "max_width": null,
      "min_height": null,
      "min_width": null,
      "object_fit": null,
      "object_position": null,
      "order": null,
      "overflow": null,
      "overflow_x": null,
      "overflow_y": null,
      "padding": null,
      "right": null,
      "top": null,
      "visibility": null,
      "width": null
     }
    },
    "5db675de6b8348e9a9823384541bdfff": {
     "model_module": "@jupyter-widgets/controls",
     "model_module_version": "1.5.0",
     "model_name": "ProgressStyleModel",
     "state": {
      "_model_module": "@jupyter-widgets/controls",
      "_model_module_version": "1.5.0",
      "_model_name": "ProgressStyleModel",
      "_view_count": null,
      "_view_module": "@jupyter-widgets/base",
      "_view_module_version": "1.2.0",
      "_view_name": "StyleView",
      "bar_color": null,
      "description_width": ""
     }
    },
    "6072601881c341fb8e5329fab05ee52d": {
     "model_module": "@jupyter-widgets/base",
     "model_module_version": "1.2.0",
     "model_name": "LayoutModel",
     "state": {
      "_model_module": "@jupyter-widgets/base",
      "_model_module_version": "1.2.0",
      "_model_name": "LayoutModel",
      "_view_count": null,
      "_view_module": "@jupyter-widgets/base",
      "_view_module_version": "1.2.0",
      "_view_name": "LayoutView",
      "align_content": null,
      "align_items": null,
      "align_self": null,
      "border": null,
      "bottom": null,
      "display": null,
      "flex": null,
      "flex_flow": null,
      "grid_area": null,
      "grid_auto_columns": null,
      "grid_auto_flow": null,
      "grid_auto_rows": null,
      "grid_column": null,
      "grid_gap": null,
      "grid_row": null,
      "grid_template_areas": null,
      "grid_template_columns": null,
      "grid_template_rows": null,
      "height": null,
      "justify_content": null,
      "justify_items": null,
      "left": null,
      "margin": null,
      "max_height": null,
      "max_width": null,
      "min_height": null,
      "min_width": null,
      "object_fit": null,
      "object_position": null,
      "order": null,
      "overflow": null,
      "overflow_x": null,
      "overflow_y": null,
      "padding": null,
      "right": null,
      "top": null,
      "visibility": null,
      "width": null
     }
    },
    "60c4aa6c4c8145949cd16ec0670227a1": {
     "model_module": "@jupyter-widgets/controls",
     "model_module_version": "1.5.0",
     "model_name": "DescriptionStyleModel",
     "state": {
      "_model_module": "@jupyter-widgets/controls",
      "_model_module_version": "1.5.0",
      "_model_name": "DescriptionStyleModel",
      "_view_count": null,
      "_view_module": "@jupyter-widgets/base",
      "_view_module_version": "1.2.0",
      "_view_name": "StyleView",
      "description_width": ""
     }
    },
    "6351ca36d8d648afa472093df7e73e45": {
     "model_module": "@jupyter-widgets/controls",
     "model_module_version": "1.5.0",
     "model_name": "FloatProgressModel",
     "state": {
      "_dom_classes": [],
      "_model_module": "@jupyter-widgets/controls",
      "_model_module_version": "1.5.0",
      "_model_name": "FloatProgressModel",
      "_view_count": null,
      "_view_module": "@jupyter-widgets/controls",
      "_view_module_version": "1.5.0",
      "_view_name": "ProgressView",
      "bar_style": "",
      "description": "",
      "description_tooltip": null,
      "layout": "IPY_MODEL_7a6a637bb7664b4495b2b56b45d88ee4",
      "max": 11,
      "min": 0,
      "orientation": "horizontal",
      "style": "IPY_MODEL_74bf3b2a873e40ffa139f1afe652ffe8",
      "value": 11
     }
    },
    "640ac5a06820498585c48a1b69355d0d": {
     "model_module": "@jupyter-widgets/base",
     "model_module_version": "1.2.0",
     "model_name": "LayoutModel",
     "state": {
      "_model_module": "@jupyter-widgets/base",
      "_model_module_version": "1.2.0",
      "_model_name": "LayoutModel",
      "_view_count": null,
      "_view_module": "@jupyter-widgets/base",
      "_view_module_version": "1.2.0",
      "_view_name": "LayoutView",
      "align_content": null,
      "align_items": null,
      "align_self": null,
      "border": null,
      "bottom": null,
      "display": null,
      "flex": null,
      "flex_flow": null,
      "grid_area": null,
      "grid_auto_columns": null,
      "grid_auto_flow": null,
      "grid_auto_rows": null,
      "grid_column": null,
      "grid_gap": null,
      "grid_row": null,
      "grid_template_areas": null,
      "grid_template_columns": null,
      "grid_template_rows": null,
      "height": null,
      "justify_content": null,
      "justify_items": null,
      "left": null,
      "margin": null,
      "max_height": null,
      "max_width": null,
      "min_height": null,
      "min_width": null,
      "object_fit": null,
      "object_position": null,
      "order": null,
      "overflow": null,
      "overflow_x": null,
      "overflow_y": null,
      "padding": null,
      "right": null,
      "top": null,
      "visibility": null,
      "width": null
     }
    },
    "6769dc278aae487db30d78caa97c6dd8": {
     "model_module": "@jupyter-widgets/controls",
     "model_module_version": "1.5.0",
     "model_name": "FloatProgressModel",
     "state": {
      "_dom_classes": [],
      "_model_module": "@jupyter-widgets/controls",
      "_model_module_version": "1.5.0",
      "_model_name": "FloatProgressModel",
      "_view_count": null,
      "_view_module": "@jupyter-widgets/controls",
      "_view_module_version": "1.5.0",
      "_view_name": "ProgressView",
      "bar_style": "",
      "description": "",
      "description_tooltip": null,
      "layout": "IPY_MODEL_71c435b7fa6f4a0fb44a4c8a8b5a73f6",
      "max": 11,
      "min": 0,
      "orientation": "horizontal",
      "style": "IPY_MODEL_c05c8b6064f94652a1f2ed5c3bb7c2b0",
      "value": 11
     }
    },
    "6fa8591a1a834d8785b1ebe8eff2b10d": {
     "model_module": "@jupyter-widgets/base",
     "model_module_version": "1.2.0",
     "model_name": "LayoutModel",
     "state": {
      "_model_module": "@jupyter-widgets/base",
      "_model_module_version": "1.2.0",
      "_model_name": "LayoutModel",
      "_view_count": null,
      "_view_module": "@jupyter-widgets/base",
      "_view_module_version": "1.2.0",
      "_view_name": "LayoutView",
      "align_content": null,
      "align_items": null,
      "align_self": null,
      "border": null,
      "bottom": null,
      "display": null,
      "flex": null,
      "flex_flow": null,
      "grid_area": null,
      "grid_auto_columns": null,
      "grid_auto_flow": null,
      "grid_auto_rows": null,
      "grid_column": null,
      "grid_gap": null,
      "grid_row": null,
      "grid_template_areas": null,
      "grid_template_columns": null,
      "grid_template_rows": null,
      "height": null,
      "justify_content": null,
      "justify_items": null,
      "left": null,
      "margin": null,
      "max_height": null,
      "max_width": null,
      "min_height": null,
      "min_width": null,
      "object_fit": null,
      "object_position": null,
      "order": null,
      "overflow": null,
      "overflow_x": null,
      "overflow_y": null,
      "padding": null,
      "right": null,
      "top": null,
      "visibility": null,
      "width": null
     }
    },
    "71c435b7fa6f4a0fb44a4c8a8b5a73f6": {
     "model_module": "@jupyter-widgets/base",
     "model_module_version": "1.2.0",
     "model_name": "LayoutModel",
     "state": {
      "_model_module": "@jupyter-widgets/base",
      "_model_module_version": "1.2.0",
      "_model_name": "LayoutModel",
      "_view_count": null,
      "_view_module": "@jupyter-widgets/base",
      "_view_module_version": "1.2.0",
      "_view_name": "LayoutView",
      "align_content": null,
      "align_items": null,
      "align_self": null,
      "border": null,
      "bottom": null,
      "display": null,
      "flex": "2",
      "flex_flow": null,
      "grid_area": null,
      "grid_auto_columns": null,
      "grid_auto_flow": null,
      "grid_auto_rows": null,
      "grid_column": null,
      "grid_gap": null,
      "grid_row": null,
      "grid_template_areas": null,
      "grid_template_columns": null,
      "grid_template_rows": null,
      "height": null,
      "justify_content": null,
      "justify_items": null,
      "left": null,
      "margin": null,
      "max_height": null,
      "max_width": null,
      "min_height": null,
      "min_width": null,
      "object_fit": null,
      "object_position": null,
      "order": null,
      "overflow": null,
      "overflow_x": null,
      "overflow_y": null,
      "padding": null,
      "right": null,
      "top": null,
      "visibility": null,
      "width": null
     }
    },
    "74bf3b2a873e40ffa139f1afe652ffe8": {
     "model_module": "@jupyter-widgets/controls",
     "model_module_version": "1.5.0",
     "model_name": "ProgressStyleModel",
     "state": {
      "_model_module": "@jupyter-widgets/controls",
      "_model_module_version": "1.5.0",
      "_model_name": "ProgressStyleModel",
      "_view_count": null,
      "_view_module": "@jupyter-widgets/base",
      "_view_module_version": "1.2.0",
      "_view_name": "StyleView",
      "bar_color": null,
      "description_width": ""
     }
    },
    "75b99a050a37493389ff96724a9a3b72": {
     "model_module": "@jupyter-widgets/controls",
     "model_module_version": "1.5.0",
     "model_name": "HTMLModel",
     "state": {
      "_dom_classes": [],
      "_model_module": "@jupyter-widgets/controls",
      "_model_module_version": "1.5.0",
      "_model_name": "HTMLModel",
      "_view_count": null,
      "_view_module": "@jupyter-widgets/controls",
      "_view_module_version": "1.5.0",
      "_view_name": "HTMLView",
      "description": "",
      "description_tooltip": null,
      "layout": "IPY_MODEL_9ab912602cc24346a011fdf58feafbde",
      "placeholder": "​",
      "style": "IPY_MODEL_af211f3be2ce4fb1b6733fa552ed041b",
      "value": "Sanity Checking DataLoader 0: 100%"
     }
    },
    "78fe9e3a3d614de9a6f3efacde67d247": {
     "model_module": "@jupyter-widgets/controls",
     "model_module_version": "1.5.0",
     "model_name": "FloatProgressModel",
     "state": {
      "_dom_classes": [],
      "_model_module": "@jupyter-widgets/controls",
      "_model_module_version": "1.5.0",
      "_model_name": "FloatProgressModel",
      "_view_count": null,
      "_view_module": "@jupyter-widgets/controls",
      "_view_module_version": "1.5.0",
      "_view_name": "ProgressView",
      "bar_style": "",
      "description": "",
      "description_tooltip": null,
      "layout": "IPY_MODEL_84f32a71a7cd4de6b55a9558717d00ef",
      "max": 2,
      "min": 0,
      "orientation": "horizontal",
      "style": "IPY_MODEL_5db675de6b8348e9a9823384541bdfff",
      "value": 2
     }
    },
    "7a6a637bb7664b4495b2b56b45d88ee4": {
     "model_module": "@jupyter-widgets/base",
     "model_module_version": "1.2.0",
     "model_name": "LayoutModel",
     "state": {
      "_model_module": "@jupyter-widgets/base",
      "_model_module_version": "1.2.0",
      "_model_name": "LayoutModel",
      "_view_count": null,
      "_view_module": "@jupyter-widgets/base",
      "_view_module_version": "1.2.0",
      "_view_name": "LayoutView",
      "align_content": null,
      "align_items": null,
      "align_self": null,
      "border": null,
      "bottom": null,
      "display": null,
      "flex": "2",
      "flex_flow": null,
      "grid_area": null,
      "grid_auto_columns": null,
      "grid_auto_flow": null,
      "grid_auto_rows": null,
      "grid_column": null,
      "grid_gap": null,
      "grid_row": null,
      "grid_template_areas": null,
      "grid_template_columns": null,
      "grid_template_rows": null,
      "height": null,
      "justify_content": null,
      "justify_items": null,
      "left": null,
      "margin": null,
      "max_height": null,
      "max_width": null,
      "min_height": null,
      "min_width": null,
      "object_fit": null,
      "object_position": null,
      "order": null,
      "overflow": null,
      "overflow_x": null,
      "overflow_y": null,
      "padding": null,
      "right": null,
      "top": null,
      "visibility": null,
      "width": null
     }
    },
    "7bb5cc7b77654cc0b27a22552941a1ce": {
     "model_module": "@jupyter-widgets/controls",
     "model_module_version": "1.5.0",
     "model_name": "DescriptionStyleModel",
     "state": {
      "_model_module": "@jupyter-widgets/controls",
      "_model_module_version": "1.5.0",
      "_model_name": "DescriptionStyleModel",
      "_view_count": null,
      "_view_module": "@jupyter-widgets/base",
      "_view_module_version": "1.2.0",
      "_view_name": "StyleView",
      "description_width": ""
     }
    },
    "7bd174d7cd2346be9db9d5a0a170f8cb": {
     "model_module": "@jupyter-widgets/controls",
     "model_module_version": "1.5.0",
     "model_name": "HTMLModel",
     "state": {
      "_dom_classes": [],
      "_model_module": "@jupyter-widgets/controls",
      "_model_module_version": "1.5.0",
      "_model_name": "HTMLModel",
      "_view_count": null,
      "_view_module": "@jupyter-widgets/controls",
      "_view_module_version": "1.5.0",
      "_view_name": "HTMLView",
      "description": "",
      "description_tooltip": null,
      "layout": "IPY_MODEL_2da5b84f9384445a8d9db58ef3dafa5e",
      "placeholder": "​",
      "style": "IPY_MODEL_abcb57f0947f413d9cb83c62c6529562",
      "value": " 2139/2139 [00:17&lt;00:00, 122.83it/s, v_num=1, train_loss=7.280, val_loss=10.70]"
     }
    },
    "7dc052c589534aa986569d863596a2a3": {
     "model_module": "@jupyter-widgets/base",
     "model_module_version": "1.2.0",
     "model_name": "LayoutModel",
     "state": {
      "_model_module": "@jupyter-widgets/base",
      "_model_module_version": "1.2.0",
      "_model_name": "LayoutModel",
      "_view_count": null,
      "_view_module": "@jupyter-widgets/base",
      "_view_module_version": "1.2.0",
      "_view_name": "LayoutView",
      "align_content": null,
      "align_items": null,
      "align_self": null,
      "border": null,
      "bottom": null,
      "display": "inline-flex",
      "flex": null,
      "flex_flow": "row wrap",
      "grid_area": null,
      "grid_auto_columns": null,
      "grid_auto_flow": null,
      "grid_auto_rows": null,
      "grid_column": null,
      "grid_gap": null,
      "grid_row": null,
      "grid_template_areas": null,
      "grid_template_columns": null,
      "grid_template_rows": null,
      "height": null,
      "justify_content": null,
      "justify_items": null,
      "left": null,
      "margin": null,
      "max_height": null,
      "max_width": null,
      "min_height": null,
      "min_width": null,
      "object_fit": null,
      "object_position": null,
      "order": null,
      "overflow": null,
      "overflow_x": null,
      "overflow_y": null,
      "padding": null,
      "right": null,
      "top": null,
      "visibility": "hidden",
      "width": "100%"
     }
    },
    "80d177b53a5f4fe0a733d3b7d36e9b30": {
     "model_module": "@jupyter-widgets/controls",
     "model_module_version": "1.5.0",
     "model_name": "DescriptionStyleModel",
     "state": {
      "_model_module": "@jupyter-widgets/controls",
      "_model_module_version": "1.5.0",
      "_model_name": "DescriptionStyleModel",
      "_view_count": null,
      "_view_module": "@jupyter-widgets/base",
      "_view_module_version": "1.2.0",
      "_view_name": "StyleView",
      "description_width": ""
     }
    },
    "84f32a71a7cd4de6b55a9558717d00ef": {
     "model_module": "@jupyter-widgets/base",
     "model_module_version": "1.2.0",
     "model_name": "LayoutModel",
     "state": {
      "_model_module": "@jupyter-widgets/base",
      "_model_module_version": "1.2.0",
      "_model_name": "LayoutModel",
      "_view_count": null,
      "_view_module": "@jupyter-widgets/base",
      "_view_module_version": "1.2.0",
      "_view_name": "LayoutView",
      "align_content": null,
      "align_items": null,
      "align_self": null,
      "border": null,
      "bottom": null,
      "display": null,
      "flex": "2",
      "flex_flow": null,
      "grid_area": null,
      "grid_auto_columns": null,
      "grid_auto_flow": null,
      "grid_auto_rows": null,
      "grid_column": null,
      "grid_gap": null,
      "grid_row": null,
      "grid_template_areas": null,
      "grid_template_columns": null,
      "grid_template_rows": null,
      "height": null,
      "justify_content": null,
      "justify_items": null,
      "left": null,
      "margin": null,
      "max_height": null,
      "max_width": null,
      "min_height": null,
      "min_width": null,
      "object_fit": null,
      "object_position": null,
      "order": null,
      "overflow": null,
      "overflow_x": null,
      "overflow_y": null,
      "padding": null,
      "right": null,
      "top": null,
      "visibility": null,
      "width": null
     }
    },
    "86ed101f86384b9b92eb3faccae5bca2": {
     "model_module": "@jupyter-widgets/controls",
     "model_module_version": "1.5.0",
     "model_name": "ProgressStyleModel",
     "state": {
      "_model_module": "@jupyter-widgets/controls",
      "_model_module_version": "1.5.0",
      "_model_name": "ProgressStyleModel",
      "_view_count": null,
      "_view_module": "@jupyter-widgets/base",
      "_view_module_version": "1.2.0",
      "_view_name": "StyleView",
      "bar_color": null,
      "description_width": ""
     }
    },
    "8fc5cc9d0df74d5081fa3f8c89595daf": {
     "model_module": "@jupyter-widgets/base",
     "model_module_version": "1.2.0",
     "model_name": "LayoutModel",
     "state": {
      "_model_module": "@jupyter-widgets/base",
      "_model_module_version": "1.2.0",
      "_model_name": "LayoutModel",
      "_view_count": null,
      "_view_module": "@jupyter-widgets/base",
      "_view_module_version": "1.2.0",
      "_view_name": "LayoutView",
      "align_content": null,
      "align_items": null,
      "align_self": null,
      "border": null,
      "bottom": null,
      "display": null,
      "flex": null,
      "flex_flow": null,
      "grid_area": null,
      "grid_auto_columns": null,
      "grid_auto_flow": null,
      "grid_auto_rows": null,
      "grid_column": null,
      "grid_gap": null,
      "grid_row": null,
      "grid_template_areas": null,
      "grid_template_columns": null,
      "grid_template_rows": null,
      "height": null,
      "justify_content": null,
      "justify_items": null,
      "left": null,
      "margin": null,
      "max_height": null,
      "max_width": null,
      "min_height": null,
      "min_width": null,
      "object_fit": null,
      "object_position": null,
      "order": null,
      "overflow": null,
      "overflow_x": null,
      "overflow_y": null,
      "padding": null,
      "right": null,
      "top": null,
      "visibility": null,
      "width": null
     }
    },
    "938d3da0eef54ee997fc0ce7ccf1807b": {
     "model_module": "@jupyter-widgets/base",
     "model_module_version": "1.2.0",
     "model_name": "LayoutModel",
     "state": {
      "_model_module": "@jupyter-widgets/base",
      "_model_module_version": "1.2.0",
      "_model_name": "LayoutModel",
      "_view_count": null,
      "_view_module": "@jupyter-widgets/base",
      "_view_module_version": "1.2.0",
      "_view_name": "LayoutView",
      "align_content": null,
      "align_items": null,
      "align_self": null,
      "border": null,
      "bottom": null,
      "display": null,
      "flex": "2",
      "flex_flow": null,
      "grid_area": null,
      "grid_auto_columns": null,
      "grid_auto_flow": null,
      "grid_auto_rows": null,
      "grid_column": null,
      "grid_gap": null,
      "grid_row": null,
      "grid_template_areas": null,
      "grid_template_columns": null,
      "grid_template_rows": null,
      "height": null,
      "justify_content": null,
      "justify_items": null,
      "left": null,
      "margin": null,
      "max_height": null,
      "max_width": null,
      "min_height": null,
      "min_width": null,
      "object_fit": null,
      "object_position": null,
      "order": null,
      "overflow": null,
      "overflow_x": null,
      "overflow_y": null,
      "padding": null,
      "right": null,
      "top": null,
      "visibility": null,
      "width": null
     }
    },
    "950950a569914ad1a263f3f295e57852": {
     "model_module": "@jupyter-widgets/controls",
     "model_module_version": "1.5.0",
     "model_name": "HTMLModel",
     "state": {
      "_dom_classes": [],
      "_model_module": "@jupyter-widgets/controls",
      "_model_module_version": "1.5.0",
      "_model_name": "HTMLModel",
      "_view_count": null,
      "_view_module": "@jupyter-widgets/controls",
      "_view_module_version": "1.5.0",
      "_view_name": "HTMLView",
      "description": "",
      "description_tooltip": null,
      "layout": "IPY_MODEL_cba28fcac7c349e8ac9794d507768744",
      "placeholder": "​",
      "style": "IPY_MODEL_7bb5cc7b77654cc0b27a22552941a1ce",
      "value": " 11/11 [00:00&lt;00:00, 23.50it/s]"
     }
    },
    "9ab912602cc24346a011fdf58feafbde": {
     "model_module": "@jupyter-widgets/base",
     "model_module_version": "1.2.0",
     "model_name": "LayoutModel",
     "state": {
      "_model_module": "@jupyter-widgets/base",
      "_model_module_version": "1.2.0",
      "_model_name": "LayoutModel",
      "_view_count": null,
      "_view_module": "@jupyter-widgets/base",
      "_view_module_version": "1.2.0",
      "_view_name": "LayoutView",
      "align_content": null,
      "align_items": null,
      "align_self": null,
      "border": null,
      "bottom": null,
      "display": null,
      "flex": null,
      "flex_flow": null,
      "grid_area": null,
      "grid_auto_columns": null,
      "grid_auto_flow": null,
      "grid_auto_rows": null,
      "grid_column": null,
      "grid_gap": null,
      "grid_row": null,
      "grid_template_areas": null,
      "grid_template_columns": null,
      "grid_template_rows": null,
      "height": null,
      "justify_content": null,
      "justify_items": null,
      "left": null,
      "margin": null,
      "max_height": null,
      "max_width": null,
      "min_height": null,
      "min_width": null,
      "object_fit": null,
      "object_position": null,
      "order": null,
      "overflow": null,
      "overflow_x": null,
      "overflow_y": null,
      "padding": null,
      "right": null,
      "top": null,
      "visibility": null,
      "width": null
     }
    },
    "9ec11067fc81414d97457b47e93b78a1": {
     "model_module": "@jupyter-widgets/controls",
     "model_module_version": "1.5.0",
     "model_name": "HTMLModel",
     "state": {
      "_dom_classes": [],
      "_model_module": "@jupyter-widgets/controls",
      "_model_module_version": "1.5.0",
      "_model_name": "HTMLModel",
      "_view_count": null,
      "_view_module": "@jupyter-widgets/controls",
      "_view_module_version": "1.5.0",
      "_view_name": "HTMLView",
      "description": "",
      "description_tooltip": null,
      "layout": "IPY_MODEL_3dc20b49832e46c6ad70dc754f43555f",
      "placeholder": "​",
      "style": "IPY_MODEL_100219bd594645c5b60c3da4a44344fe",
      "value": "Validation DataLoader 0: 100%"
     }
    },
    "a2903f89f4584f16b9f5b412d2730672": {
     "model_module": "@jupyter-widgets/controls",
     "model_module_version": "1.5.0",
     "model_name": "DescriptionStyleModel",
     "state": {
      "_model_module": "@jupyter-widgets/controls",
      "_model_module_version": "1.5.0",
      "_model_name": "DescriptionStyleModel",
      "_view_count": null,
      "_view_module": "@jupyter-widgets/base",
      "_view_module_version": "1.2.0",
      "_view_name": "StyleView",
      "description_width": ""
     }
    },
    "a474d8d377674579b3c9f5327fbb1862": {
     "model_module": "@jupyter-widgets/controls",
     "model_module_version": "1.5.0",
     "model_name": "FloatProgressModel",
     "state": {
      "_dom_classes": [],
      "_model_module": "@jupyter-widgets/controls",
      "_model_module_version": "1.5.0",
      "_model_name": "FloatProgressModel",
      "_view_count": null,
      "_view_module": "@jupyter-widgets/controls",
      "_view_module_version": "1.5.0",
      "_view_name": "ProgressView",
      "bar_style": "",
      "description": "",
      "description_tooltip": null,
      "layout": "IPY_MODEL_2e02be5bf0be40bf87f1364b1fd587ec",
      "max": 11,
      "min": 0,
      "orientation": "horizontal",
      "style": "IPY_MODEL_560450b99c8f4636b3a700db3fc21253",
      "value": 11
     }
    },
    "abcb57f0947f413d9cb83c62c6529562": {
     "model_module": "@jupyter-widgets/controls",
     "model_module_version": "1.5.0",
     "model_name": "DescriptionStyleModel",
     "state": {
      "_model_module": "@jupyter-widgets/controls",
      "_model_module_version": "1.5.0",
      "_model_name": "DescriptionStyleModel",
      "_view_count": null,
      "_view_module": "@jupyter-widgets/base",
      "_view_module_version": "1.2.0",
      "_view_name": "StyleView",
      "description_width": ""
     }
    },
    "acfec13aec454320b585c0b8331e9448": {
     "model_module": "@jupyter-widgets/controls",
     "model_module_version": "1.5.0",
     "model_name": "DescriptionStyleModel",
     "state": {
      "_model_module": "@jupyter-widgets/controls",
      "_model_module_version": "1.5.0",
      "_model_name": "DescriptionStyleModel",
      "_view_count": null,
      "_view_module": "@jupyter-widgets/base",
      "_view_module_version": "1.2.0",
      "_view_name": "StyleView",
      "description_width": ""
     }
    },
    "af211f3be2ce4fb1b6733fa552ed041b": {
     "model_module": "@jupyter-widgets/controls",
     "model_module_version": "1.5.0",
     "model_name": "DescriptionStyleModel",
     "state": {
      "_model_module": "@jupyter-widgets/controls",
      "_model_module_version": "1.5.0",
      "_model_name": "DescriptionStyleModel",
      "_view_count": null,
      "_view_module": "@jupyter-widgets/base",
      "_view_module_version": "1.2.0",
      "_view_name": "StyleView",
      "description_width": ""
     }
    },
    "b174cb3407a04b2989e6049555265446": {
     "model_module": "@jupyter-widgets/controls",
     "model_module_version": "1.5.0",
     "model_name": "FloatProgressModel",
     "state": {
      "_dom_classes": [],
      "_model_module": "@jupyter-widgets/controls",
      "_model_module_version": "1.5.0",
      "_model_name": "FloatProgressModel",
      "_view_count": null,
      "_view_module": "@jupyter-widgets/controls",
      "_view_module_version": "1.5.0",
      "_view_name": "ProgressView",
      "bar_style": "success",
      "description": "",
      "description_tooltip": null,
      "layout": "IPY_MODEL_938d3da0eef54ee997fc0ce7ccf1807b",
      "max": 2139,
      "min": 0,
      "orientation": "horizontal",
      "style": "IPY_MODEL_1c10405770654b90a3635ba4acabb6ef",
      "value": 2139
     }
    },
    "b23fac677f5e4e8884f84fe60585330d": {
     "model_module": "@jupyter-widgets/controls",
     "model_module_version": "1.5.0",
     "model_name": "HBoxModel",
     "state": {
      "_dom_classes": [],
      "_model_module": "@jupyter-widgets/controls",
      "_model_module_version": "1.5.0",
      "_model_name": "HBoxModel",
      "_view_count": null,
      "_view_module": "@jupyter-widgets/controls",
      "_view_module_version": "1.5.0",
      "_view_name": "HBoxView",
      "box_style": "",
      "children": [
       "IPY_MODEL_1ae57433e573436b8bbdf6c22630930d",
       "IPY_MODEL_6769dc278aae487db30d78caa97c6dd8",
       "IPY_MODEL_b5b6d56829af44d99b904176b9552101"
      ],
      "layout": "IPY_MODEL_7dc052c589534aa986569d863596a2a3"
     }
    },
    "b5b6d56829af44d99b904176b9552101": {
     "model_module": "@jupyter-widgets/controls",
     "model_module_version": "1.5.0",
     "model_name": "HTMLModel",
     "state": {
      "_dom_classes": [],
      "_model_module": "@jupyter-widgets/controls",
      "_model_module_version": "1.5.0",
      "_model_name": "HTMLModel",
      "_view_count": null,
      "_view_module": "@jupyter-widgets/controls",
      "_view_module_version": "1.5.0",
      "_view_name": "HTMLView",
      "description": "",
      "description_tooltip": null,
      "layout": "IPY_MODEL_c44756a0ec83400f9f6daf8d1179ad91",
      "placeholder": "​",
      "style": "IPY_MODEL_a2903f89f4584f16b9f5b412d2730672",
      "value": " 11/11 [00:00&lt;00:00, 27.27it/s]"
     }
    },
    "b6179f72e8f94772a4e1e2a503bc1d47": {
     "model_module": "@jupyter-widgets/controls",
     "model_module_version": "1.5.0",
     "model_name": "HBoxModel",
     "state": {
      "_dom_classes": [],
      "_model_module": "@jupyter-widgets/controls",
      "_model_module_version": "1.5.0",
      "_model_name": "HBoxModel",
      "_view_count": null,
      "_view_module": "@jupyter-widgets/controls",
      "_view_module_version": "1.5.0",
      "_view_name": "HBoxView",
      "box_style": "",
      "children": [
       "IPY_MODEL_9ec11067fc81414d97457b47e93b78a1",
       "IPY_MODEL_6351ca36d8d648afa472093df7e73e45",
       "IPY_MODEL_d1efd4fe9adc4243a81d401784b77530"
      ],
      "layout": "IPY_MODEL_2cb3f56ff669424da4e9bace352831b8"
     }
    },
    "be93fd003ef54d7e85bb1fcaa894e467": {
     "model_module": "@jupyter-widgets/controls",
     "model_module_version": "1.5.0",
     "model_name": "DescriptionStyleModel",
     "state": {
      "_model_module": "@jupyter-widgets/controls",
      "_model_module_version": "1.5.0",
      "_model_name": "DescriptionStyleModel",
      "_view_count": null,
      "_view_module": "@jupyter-widgets/base",
      "_view_module_version": "1.2.0",
      "_view_name": "StyleView",
      "description_width": ""
     }
    },
    "c05c8b6064f94652a1f2ed5c3bb7c2b0": {
     "model_module": "@jupyter-widgets/controls",
     "model_module_version": "1.5.0",
     "model_name": "ProgressStyleModel",
     "state": {
      "_model_module": "@jupyter-widgets/controls",
      "_model_module_version": "1.5.0",
      "_model_name": "ProgressStyleModel",
      "_view_count": null,
      "_view_module": "@jupyter-widgets/base",
      "_view_module_version": "1.2.0",
      "_view_name": "StyleView",
      "bar_color": null,
      "description_width": ""
     }
    },
    "c44756a0ec83400f9f6daf8d1179ad91": {
     "model_module": "@jupyter-widgets/base",
     "model_module_version": "1.2.0",
     "model_name": "LayoutModel",
     "state": {
      "_model_module": "@jupyter-widgets/base",
      "_model_module_version": "1.2.0",
      "_model_name": "LayoutModel",
      "_view_count": null,
      "_view_module": "@jupyter-widgets/base",
      "_view_module_version": "1.2.0",
      "_view_name": "LayoutView",
      "align_content": null,
      "align_items": null,
      "align_self": null,
      "border": null,
      "bottom": null,
      "display": null,
      "flex": null,
      "flex_flow": null,
      "grid_area": null,
      "grid_auto_columns": null,
      "grid_auto_flow": null,
      "grid_auto_rows": null,
      "grid_column": null,
      "grid_gap": null,
      "grid_row": null,
      "grid_template_areas": null,
      "grid_template_columns": null,
      "grid_template_rows": null,
      "height": null,
      "justify_content": null,
      "justify_items": null,
      "left": null,
      "margin": null,
      "max_height": null,
      "max_width": null,
      "min_height": null,
      "min_width": null,
      "object_fit": null,
      "object_position": null,
      "order": null,
      "overflow": null,
      "overflow_x": null,
      "overflow_y": null,
      "padding": null,
      "right": null,
      "top": null,
      "visibility": null,
      "width": null
     }
    },
    "cba28fcac7c349e8ac9794d507768744": {
     "model_module": "@jupyter-widgets/base",
     "model_module_version": "1.2.0",
     "model_name": "LayoutModel",
     "state": {
      "_model_module": "@jupyter-widgets/base",
      "_model_module_version": "1.2.0",
      "_model_name": "LayoutModel",
      "_view_count": null,
      "_view_module": "@jupyter-widgets/base",
      "_view_module_version": "1.2.0",
      "_view_name": "LayoutView",
      "align_content": null,
      "align_items": null,
      "align_self": null,
      "border": null,
      "bottom": null,
      "display": null,
      "flex": null,
      "flex_flow": null,
      "grid_area": null,
      "grid_auto_columns": null,
      "grid_auto_flow": null,
      "grid_auto_rows": null,
      "grid_column": null,
      "grid_gap": null,
      "grid_row": null,
      "grid_template_areas": null,
      "grid_template_columns": null,
      "grid_template_rows": null,
      "height": null,
      "justify_content": null,
      "justify_items": null,
      "left": null,
      "margin": null,
      "max_height": null,
      "max_width": null,
      "min_height": null,
      "min_width": null,
      "object_fit": null,
      "object_position": null,
      "order": null,
      "overflow": null,
      "overflow_x": null,
      "overflow_y": null,
      "padding": null,
      "right": null,
      "top": null,
      "visibility": null,
      "width": null
     }
    },
    "d1efd4fe9adc4243a81d401784b77530": {
     "model_module": "@jupyter-widgets/controls",
     "model_module_version": "1.5.0",
     "model_name": "HTMLModel",
     "state": {
      "_dom_classes": [],
      "_model_module": "@jupyter-widgets/controls",
      "_model_module_version": "1.5.0",
      "_model_name": "HTMLModel",
      "_view_count": null,
      "_view_module": "@jupyter-widgets/controls",
      "_view_module_version": "1.5.0",
      "_view_name": "HTMLView",
      "description": "",
      "description_tooltip": null,
      "layout": "IPY_MODEL_640ac5a06820498585c48a1b69355d0d",
      "placeholder": "​",
      "style": "IPY_MODEL_515318593400421487560182023801f1",
      "value": " 11/11 [00:00&lt;00:00, 15.17it/s]"
     }
    },
    "d8cd82c7af8747148b5b4750e8f1372a": {
     "model_module": "@jupyter-widgets/controls",
     "model_module_version": "1.5.0",
     "model_name": "HBoxModel",
     "state": {
      "_dom_classes": [],
      "_model_module": "@jupyter-widgets/controls",
      "_model_module_version": "1.5.0",
      "_model_name": "HBoxModel",
      "_view_count": null,
      "_view_module": "@jupyter-widgets/controls",
      "_view_module_version": "1.5.0",
      "_view_name": "HBoxView",
      "box_style": "",
      "children": [
       "IPY_MODEL_17d8af2b171440cba00f8b2df1a08073",
       "IPY_MODEL_fde8213392c546b58ad8a81aacf4fcb3",
       "IPY_MODEL_09093bb710bd4903abf2e10db6efc0a0"
      ],
      "layout": "IPY_MODEL_d92ec28e7e6c47c4b2e3669b502b8b9e"
     }
    },
    "d92ec28e7e6c47c4b2e3669b502b8b9e": {
     "model_module": "@jupyter-widgets/base",
     "model_module_version": "1.2.0",
     "model_name": "LayoutModel",
     "state": {
      "_model_module": "@jupyter-widgets/base",
      "_model_module_version": "1.2.0",
      "_model_name": "LayoutModel",
      "_view_count": null,
      "_view_module": "@jupyter-widgets/base",
      "_view_module_version": "1.2.0",
      "_view_name": "LayoutView",
      "align_content": null,
      "align_items": null,
      "align_self": null,
      "border": null,
      "bottom": null,
      "display": "inline-flex",
      "flex": null,
      "flex_flow": "row wrap",
      "grid_area": null,
      "grid_auto_columns": null,
      "grid_auto_flow": null,
      "grid_auto_rows": null,
      "grid_column": null,
      "grid_gap": null,
      "grid_row": null,
      "grid_template_areas": null,
      "grid_template_columns": null,
      "grid_template_rows": null,
      "height": null,
      "justify_content": null,
      "justify_items": null,
      "left": null,
      "margin": null,
      "max_height": null,
      "max_width": null,
      "min_height": null,
      "min_width": null,
      "object_fit": null,
      "object_position": null,
      "order": null,
      "overflow": null,
      "overflow_x": null,
      "overflow_y": null,
      "padding": null,
      "right": null,
      "top": null,
      "visibility": "hidden",
      "width": "100%"
     }
    },
    "d9456651273140f9bd6e587ab852eeec": {
     "model_module": "@jupyter-widgets/controls",
     "model_module_version": "1.5.0",
     "model_name": "HTMLModel",
     "state": {
      "_dom_classes": [],
      "_model_module": "@jupyter-widgets/controls",
      "_model_module_version": "1.5.0",
      "_model_name": "HTMLModel",
      "_view_count": null,
      "_view_module": "@jupyter-widgets/controls",
      "_view_module_version": "1.5.0",
      "_view_name": "HTMLView",
      "description": "",
      "description_tooltip": null,
      "layout": "IPY_MODEL_17e62da8657f44d9a998f4acbbd29671",
      "placeholder": "​",
      "style": "IPY_MODEL_be93fd003ef54d7e85bb1fcaa894e467",
      "value": "Epoch 4: 100%"
     }
    },
    "e9d2f22400db472283508e8c01f08fbb": {
     "model_module": "@jupyter-widgets/base",
     "model_module_version": "1.2.0",
     "model_name": "LayoutModel",
     "state": {
      "_model_module": "@jupyter-widgets/base",
      "_model_module_version": "1.2.0",
      "_model_name": "LayoutModel",
      "_view_count": null,
      "_view_module": "@jupyter-widgets/base",
      "_view_module_version": "1.2.0",
      "_view_name": "LayoutView",
      "align_content": null,
      "align_items": null,
      "align_self": null,
      "border": null,
      "bottom": null,
      "display": "inline-flex",
      "flex": null,
      "flex_flow": "row wrap",
      "grid_area": null,
      "grid_auto_columns": null,
      "grid_auto_flow": null,
      "grid_auto_rows": null,
      "grid_column": null,
      "grid_gap": null,
      "grid_row": null,
      "grid_template_areas": null,
      "grid_template_columns": null,
      "grid_template_rows": null,
      "height": null,
      "justify_content": null,
      "justify_items": null,
      "left": null,
      "margin": null,
      "max_height": null,
      "max_width": null,
      "min_height": null,
      "min_width": null,
      "object_fit": null,
      "object_position": null,
      "order": null,
      "overflow": null,
      "overflow_x": null,
      "overflow_y": null,
      "padding": null,
      "right": null,
      "top": null,
      "visibility": "hidden",
      "width": "100%"
     }
    },
    "f2b6c28c36e64f66b54834f543cec282": {
     "model_module": "@jupyter-widgets/controls",
     "model_module_version": "1.5.0",
     "model_name": "HBoxModel",
     "state": {
      "_dom_classes": [],
      "_model_module": "@jupyter-widgets/controls",
      "_model_module_version": "1.5.0",
      "_model_name": "HBoxModel",
      "_view_count": null,
      "_view_module": "@jupyter-widgets/controls",
      "_view_module_version": "1.5.0",
      "_view_name": "HBoxView",
      "box_style": "",
      "children": [
       "IPY_MODEL_2d98065fccb34cb1b44740aa4510f0e7",
       "IPY_MODEL_2aa0bc933aae46729672d55e60c17616",
       "IPY_MODEL_950950a569914ad1a263f3f295e57852"
      ],
      "layout": "IPY_MODEL_2f4dcf310c634bdba125e8bf46d3db26"
     }
    },
    "fd22c38d837a404ab892ddaddf4a8988": {
     "model_module": "@jupyter-widgets/controls",
     "model_module_version": "1.5.0",
     "model_name": "HTMLModel",
     "state": {
      "_dom_classes": [],
      "_model_module": "@jupyter-widgets/controls",
      "_model_module_version": "1.5.0",
      "_model_name": "HTMLModel",
      "_view_count": null,
      "_view_module": "@jupyter-widgets/controls",
      "_view_module_version": "1.5.0",
      "_view_name": "HTMLView",
      "description": "",
      "description_tooltip": null,
      "layout": "IPY_MODEL_46204f92abf1414da360d79b4ca7a924",
      "placeholder": "​",
      "style": "IPY_MODEL_0a54156fabcd4ef3b73b038b71485a6a",
      "value": "Validation DataLoader 0: 100%"
     }
    },
    "fde8213392c546b58ad8a81aacf4fcb3": {
     "model_module": "@jupyter-widgets/controls",
     "model_module_version": "1.5.0",
     "model_name": "FloatProgressModel",
     "state": {
      "_dom_classes": [],
      "_model_module": "@jupyter-widgets/controls",
      "_model_module_version": "1.5.0",
      "_model_name": "FloatProgressModel",
      "_view_count": null,
      "_view_module": "@jupyter-widgets/controls",
      "_view_module_version": "1.5.0",
      "_view_name": "ProgressView",
      "bar_style": "",
      "description": "",
      "description_tooltip": null,
      "layout": "IPY_MODEL_58fbdeafd7ee40cd9392cd4a62c49b81",
      "max": 11,
      "min": 0,
      "orientation": "horizontal",
      "style": "IPY_MODEL_286fbf1303dc4f0b9c1bb3cfb34f920e",
      "value": 11
     }
    }
   }
  }
 },
 "nbformat": 4,
 "nbformat_minor": 4
}
